{
 "cells": [
  {
   "cell_type": "code",
   "execution_count": 5,
   "id": "c0901344",
   "metadata": {},
   "outputs": [],
   "source": [
    "import pandas as pd\n",
    "import numpy as np\n",
    "import matplotlib.pyplot as plt"
   ]
  },
  {
   "cell_type": "code",
   "execution_count": 2,
   "id": "e586b87b",
   "metadata": {},
   "outputs": [],
   "source": [
    "df = pd.read_csv(\"model_only_data.csv\")"
   ]
  },
  {
   "cell_type": "code",
   "execution_count": 3,
   "id": "26f357bc",
   "metadata": {},
   "outputs": [
    {
     "data": {
      "text/html": [
       "<div>\n",
       "<style scoped>\n",
       "    .dataframe tbody tr th:only-of-type {\n",
       "        vertical-align: middle;\n",
       "    }\n",
       "\n",
       "    .dataframe tbody tr th {\n",
       "        vertical-align: top;\n",
       "    }\n",
       "\n",
       "    .dataframe thead th {\n",
       "        text-align: right;\n",
       "    }\n",
       "</style>\n",
       "<table border=\"1\" class=\"dataframe\">\n",
       "  <thead>\n",
       "    <tr style=\"text-align: right;\">\n",
       "      <th></th>\n",
       "      <th>Unnamed: 0</th>\n",
       "      <th>amount_requested</th>\n",
       "      <th>reason_for_loan</th>\n",
       "      <th>debt_to_income_ratio</th>\n",
       "      <th>zip_code</th>\n",
       "      <th>state</th>\n",
       "      <th>emp_length</th>\n",
       "      <th>policy_code</th>\n",
       "      <th>applicant_result</th>\n",
       "    </tr>\n",
       "  </thead>\n",
       "  <tbody>\n",
       "    <tr>\n",
       "      <th>0</th>\n",
       "      <td>0</td>\n",
       "      <td>9600.0</td>\n",
       "      <td>Credit card refinancing</td>\n",
       "      <td>24.45</td>\n",
       "      <td>816xx</td>\n",
       "      <td>CO</td>\n",
       "      <td>4 years</td>\n",
       "      <td>1</td>\n",
       "      <td>1</td>\n",
       "    </tr>\n",
       "    <tr>\n",
       "      <th>1</th>\n",
       "      <td>1</td>\n",
       "      <td>6000.0</td>\n",
       "      <td>Home improvement</td>\n",
       "      <td>14.34</td>\n",
       "      <td>210xx</td>\n",
       "      <td>MD</td>\n",
       "      <td>10+ years</td>\n",
       "      <td>1</td>\n",
       "      <td>1</td>\n",
       "    </tr>\n",
       "    <tr>\n",
       "      <th>2</th>\n",
       "      <td>2</td>\n",
       "      <td>10000.0</td>\n",
       "      <td>Debt consolidation</td>\n",
       "      <td>25.35</td>\n",
       "      <td>890xx</td>\n",
       "      <td>NV</td>\n",
       "      <td>7 years</td>\n",
       "      <td>1</td>\n",
       "      <td>1</td>\n",
       "    </tr>\n",
       "    <tr>\n",
       "      <th>3</th>\n",
       "      <td>3</td>\n",
       "      <td>25000.0</td>\n",
       "      <td>Debt consolidation</td>\n",
       "      <td>7.17</td>\n",
       "      <td>640xx</td>\n",
       "      <td>MO</td>\n",
       "      <td>5 years</td>\n",
       "      <td>1</td>\n",
       "      <td>1</td>\n",
       "    </tr>\n",
       "    <tr>\n",
       "      <th>4</th>\n",
       "      <td>4</td>\n",
       "      <td>2000.0</td>\n",
       "      <td>Other</td>\n",
       "      <td>9.30</td>\n",
       "      <td>923xx</td>\n",
       "      <td>CA</td>\n",
       "      <td>4 years</td>\n",
       "      <td>1</td>\n",
       "      <td>1</td>\n",
       "    </tr>\n",
       "  </tbody>\n",
       "</table>\n",
       "</div>"
      ],
      "text/plain": [
       "   Unnamed: 0  amount_requested          reason_for_loan  \\\n",
       "0           0            9600.0  Credit card refinancing   \n",
       "1           1            6000.0         Home improvement   \n",
       "2           2           10000.0       Debt consolidation   \n",
       "3           3           25000.0       Debt consolidation   \n",
       "4           4            2000.0                    Other   \n",
       "\n",
       "   debt_to_income_ratio zip_code state emp_length  policy_code  \\\n",
       "0                 24.45    816xx    CO    4 years            1   \n",
       "1                 14.34    210xx    MD  10+ years            1   \n",
       "2                 25.35    890xx    NV    7 years            1   \n",
       "3                  7.17    640xx    MO    5 years            1   \n",
       "4                  9.30    923xx    CA    4 years            1   \n",
       "\n",
       "   applicant_result  \n",
       "0                 1  \n",
       "1                 1  \n",
       "2                 1  \n",
       "3                 1  \n",
       "4                 1  "
      ]
     },
     "execution_count": 3,
     "metadata": {},
     "output_type": "execute_result"
    }
   ],
   "source": [
    "df.head()"
   ]
  },
  {
   "cell_type": "code",
   "execution_count": 6,
   "id": "0f65f100",
   "metadata": {},
   "outputs": [
    {
     "name": "stdout",
     "output_type": "stream",
     "text": [
      "<class 'pandas.core.frame.DataFrame'>\n",
      "RangeIndex: 200000 entries, 0 to 199999\n",
      "Data columns (total 9 columns):\n",
      " #   Column                Non-Null Count   Dtype  \n",
      "---  ------                --------------   -----  \n",
      " 0   Unnamed: 0            200000 non-null  int64  \n",
      " 1   amount_requested      200000 non-null  float64\n",
      " 2   reason_for_loan       200000 non-null  object \n",
      " 3   debt_to_income_ratio  200000 non-null  float64\n",
      " 4   zip_code              200000 non-null  object \n",
      " 5   state                 200000 non-null  object \n",
      " 6   emp_length            200000 non-null  object \n",
      " 7   policy_code           200000 non-null  int64  \n",
      " 8   applicant_result      200000 non-null  int64  \n",
      "dtypes: float64(2), int64(3), object(4)\n",
      "memory usage: 13.7+ MB\n"
     ]
    }
   ],
   "source": [
    "df.info()"
   ]
  },
  {
   "cell_type": "code",
   "execution_count": 4,
   "id": "07e72309",
   "metadata": {},
   "outputs": [],
   "source": [
    "question_one = df[['applicant_result', 'emp_length']]"
   ]
  },
  {
   "cell_type": "code",
   "execution_count": 16,
   "id": "760d67de",
   "metadata": {},
   "outputs": [
    {
     "data": {
      "image/png": "[encoded data removed]",
      "text/plain": [
       "<Figure size 640x480 with 1 Axes>"
      ]
     },
     "metadata": {},
     "output_type": "display_data"
    }
   ],
   "source": [
    "x = np.arange(len(pd.unique(question_one['emp_length'])))\n",
    "y1 = question_one['emp_length'][question_one['applicant_result'] == 1].value_counts().sort_index().values\n",
    "y2 = question_one['emp_length'][question_one['applicant_result'] == 0].value_counts().sort_index().values\n",
    "width = 0.2\n",
    "\n",
    "plt.bar(x-0.2, y1, width, color='cyan')\n",
    "plt.bar(x, y2, width, color='orange')\n",
    "plt.xticks(x, question_one['emp_length'].value_counts().sort_index().index, rotation=90)\n",
    "plt.xlabel(\"Self-Reported Employee Length\")\n",
    "plt.ylabel(\"Counts\")\n",
    "plt.title(\"Accepted Vs. Rejected Based on Employment Length\")\n",
    "plt.legend([\"Accepted\", \"Rejected\"])\n",
    "plt.show()"
   ]
  },
  {
   "cell_type": "code",
   "execution_count": null,
   "id": "8dd8f0c0",
   "metadata": {},
   "outputs": [],
   "source": []
  }
 ],
 "metadata": {
  "kernelspec": {
   "display_name": "Python 3 (ipykernel)",
   "language": "python",
   "name": "python3"
  },
  "language_info": {
   "codemirror_mode": {
    "name": "ipython",
    "version": 3
   },
   "file_extension": ".py",
   "mimetype": "text/x-python",
   "name": "python",
   "nbconvert_exporter": "python",
   "pygments_lexer": "ipython3",
   "version": "3.9.7"
  }
 },
 "nbformat": 4,
 "nbformat_minor": 5
}
