{
 "cells": [
  {
   "cell_type": "code",
   "execution_count": 1,
   "id": "d4d7dbff",
   "metadata": {},
   "outputs": [],
   "source": [
    "import pandas as pd\n",
    "import matplotlib.pyplot as plt"
   ]
  },
  {
   "cell_type": "code",
   "execution_count": 2,
   "id": "baf586da",
   "metadata": {},
   "outputs": [],
   "source": [
    "model_df = pd.read_csv(\"model_only_data.csv\")"
   ]
  },
  {
   "cell_type": "code",
   "execution_count": 3,
   "id": "40978640",
   "metadata": {},
   "outputs": [
    {
     "data": {
      "text/html": [
       "<div>\n",
       "<style scoped>\n",
       "    .dataframe tbody tr th:only-of-type {\n",
       "        vertical-align: middle;\n",
       "    }\n",
       "\n",
       "    .dataframe tbody tr th {\n",
       "        vertical-align: top;\n",
       "    }\n",
       "\n",
       "    .dataframe thead th {\n",
       "        text-align: right;\n",
       "    }\n",
       "</style>\n",
       "<table border=\"1\" class=\"dataframe\">\n",
       "  <thead>\n",
       "    <tr style=\"text-align: right;\">\n",
       "      <th></th>\n",
       "      <th>Unnamed: 0</th>\n",
       "      <th>amount_requested</th>\n",
       "      <th>reason_for_loan</th>\n",
       "      <th>debt_to_income_ratio</th>\n",
       "      <th>zip_code</th>\n",
       "      <th>state</th>\n",
       "      <th>emp_length</th>\n",
       "      <th>policy_code</th>\n",
       "      <th>applicant_result</th>\n",
       "    </tr>\n",
       "  </thead>\n",
       "  <tbody>\n",
       "    <tr>\n",
       "      <th>0</th>\n",
       "      <td>0</td>\n",
       "      <td>9600.0</td>\n",
       "      <td>Credit card refinancing</td>\n",
       "      <td>24.45</td>\n",
       "      <td>816xx</td>\n",
       "      <td>CO</td>\n",
       "      <td>4 years</td>\n",
       "      <td>1</td>\n",
       "      <td>1</td>\n",
       "    </tr>\n",
       "    <tr>\n",
       "      <th>1</th>\n",
       "      <td>1</td>\n",
       "      <td>6000.0</td>\n",
       "      <td>Home improvement</td>\n",
       "      <td>14.34</td>\n",
       "      <td>210xx</td>\n",
       "      <td>MD</td>\n",
       "      <td>10+ years</td>\n",
       "      <td>1</td>\n",
       "      <td>1</td>\n",
       "    </tr>\n",
       "    <tr>\n",
       "      <th>2</th>\n",
       "      <td>2</td>\n",
       "      <td>10000.0</td>\n",
       "      <td>Debt consolidation</td>\n",
       "      <td>25.35</td>\n",
       "      <td>890xx</td>\n",
       "      <td>NV</td>\n",
       "      <td>7 years</td>\n",
       "      <td>1</td>\n",
       "      <td>1</td>\n",
       "    </tr>\n",
       "    <tr>\n",
       "      <th>3</th>\n",
       "      <td>3</td>\n",
       "      <td>25000.0</td>\n",
       "      <td>Debt consolidation</td>\n",
       "      <td>7.17</td>\n",
       "      <td>640xx</td>\n",
       "      <td>MO</td>\n",
       "      <td>5 years</td>\n",
       "      <td>1</td>\n",
       "      <td>1</td>\n",
       "    </tr>\n",
       "    <tr>\n",
       "      <th>4</th>\n",
       "      <td>4</td>\n",
       "      <td>2000.0</td>\n",
       "      <td>Other</td>\n",
       "      <td>9.30</td>\n",
       "      <td>923xx</td>\n",
       "      <td>CA</td>\n",
       "      <td>4 years</td>\n",
       "      <td>1</td>\n",
       "      <td>1</td>\n",
       "    </tr>\n",
       "  </tbody>\n",
       "</table>\n",
       "</div>"
      ],
      "text/plain": [
       "   Unnamed: 0  amount_requested          reason_for_loan  \\\n",
       "0           0            9600.0  Credit card refinancing   \n",
       "1           1            6000.0         Home improvement   \n",
       "2           2           10000.0       Debt consolidation   \n",
       "3           3           25000.0       Debt consolidation   \n",
       "4           4            2000.0                    Other   \n",
       "\n",
       "   debt_to_income_ratio zip_code state emp_length  policy_code  \\\n",
       "0                 24.45    816xx    CO    4 years            1   \n",
       "1                 14.34    210xx    MD  10+ years            1   \n",
       "2                 25.35    890xx    NV    7 years            1   \n",
       "3                  7.17    640xx    MO    5 years            1   \n",
       "4                  9.30    923xx    CA    4 years            1   \n",
       "\n",
       "   applicant_result  \n",
       "0                 1  \n",
       "1                 1  \n",
       "2                 1  \n",
       "3                 1  \n",
       "4                 1  "
      ]
     },
     "execution_count": 3,
     "metadata": {},
     "output_type": "execute_result"
    }
   ],
   "source": [
    "model_df.head()"
   ]
  },
  {
   "cell_type": "code",
   "execution_count": 10,
   "id": "909c092b",
   "metadata": {},
   "outputs": [
    {
     "data": {
      "image/png": "[encoded data removed]",
      "text/plain": [
       "<Figure size 640x480 with 1 Axes>"
      ]
     },
     "metadata": {},
     "output_type": "display_data"
    }
   ],
   "source": [
    "plt.hist(model_df['debt_to_income_ratio'][model_df['debt_to_income_ratio'] < 100])\n",
    "plt.show()"
   ]
  },
  {
   "cell_type": "code",
   "execution_count": 12,
   "id": "15d70b6f",
   "metadata": {},
   "outputs": [
    {
     "data": {
      "text/plain": [
       "0.959955"
      ]
     },
     "execution_count": 12,
     "metadata": {},
     "output_type": "execute_result"
    }
   ],
   "source": [
    "len(model_df['debt_to_income_ratio'][model_df['debt_to_income_ratio'] < 100])/len(model_df)"
   ]
  },
  {
   "cell_type": "code",
   "execution_count": 17,
   "id": "208057c5",
   "metadata": {},
   "outputs": [
    {
     "data": {
      "image/png": "[encoded data removed]",
      "text/plain": [
       "<Figure size 640x480 with 1 Axes>"
      ]
     },
     "metadata": {},
     "output_type": "display_data"
    }
   ],
   "source": [
    "plt.hist(model_df['debt_to_income_ratio'][(model_df['debt_to_income_ratio'] < 100) & (model_df['applicant_result'] == 1)])\n",
    "plt.show()"
   ]
  },
  {
   "cell_type": "code",
   "execution_count": 18,
   "id": "13ac3ca5",
   "metadata": {},
   "outputs": [
    {
     "data": {
      "image/png": "[encoded data removed]",
      "text/plain": [
       "<Figure size 640x480 with 1 Axes>"
      ]
     },
     "metadata": {},
     "output_type": "display_data"
    }
   ],
   "source": [
    "plt.hist(model_df['debt_to_income_ratio'][(model_df['debt_to_income_ratio'] < 100) & (model_df['applicant_result'] == 0)])\n",
    "plt.show()"
   ]
  },
  {
   "cell_type": "code",
   "execution_count": 19,
   "id": "09b10d22",
   "metadata": {},
   "outputs": [
    {
     "data": {
      "text/plain": [
       "count    200000.000000\n",
       "mean         81.103925\n",
       "std        2173.489904\n",
       "min          -1.000000\n",
       "25%          10.620000\n",
       "50%          18.530000\n",
       "75%          28.310000\n",
       "max      391200.000000\n",
       "Name: debt_to_income_ratio, dtype: float64"
      ]
     },
     "execution_count": 19,
     "metadata": {},
     "output_type": "execute_result"
    }
   ],
   "source": [
    "model_df['debt_to_income_ratio'].describe()"
   ]
  },
  {
   "cell_type": "code",
   "execution_count": null,
   "id": "85bee9f2",
   "metadata": {},
   "outputs": [],
   "source": []
  }
 ],
 "metadata": {
  "kernelspec": {
   "display_name": "Python 3 (ipykernel)",
   "language": "python",
   "name": "python3"
  },
  "language_info": {
   "codemirror_mode": {
    "name": "ipython",
    "version": 3
   },
   "file_extension": ".py",
   "mimetype": "text/x-python",
   "name": "python",
   "nbconvert_exporter": "python",
   "pygments_lexer": "ipython3",
   "version": "3.9.7"
  }
 },
 "nbformat": 4,
 "nbformat_minor": 5
}
