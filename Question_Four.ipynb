{
 "cells": [
  {
   "cell_type": "code",
   "execution_count": 1,
   "id": "dcb95fc1",
   "metadata": {},
   "outputs": [
    {
     "name": "stderr",
     "output_type": "stream",
     "text": [
      "C:\\Users\\orteg\\anaconda3\\lib\\site-packages\\numpy\\_distributor_init.py:30: UserWarning: loaded more than 1 DLL from .libs:\n",
      "C:\\Users\\orteg\\anaconda3\\lib\\site-packages\\numpy\\.libs\\libopenblas.EL2C6PLE4ZYW3ECEVIV3OXXGRN2NRFM2.gfortran-win_amd64.dll\n",
      "C:\\Users\\orteg\\anaconda3\\lib\\site-packages\\numpy\\.libs\\libopenblas64__v0.3.21-gcc_10_3_0.dll\n",
      "  warnings.warn(\"loaded more than 1 DLL from .libs:\"\n"
     ]
    }
   ],
   "source": [
    "import pandas as pd\n",
    "import matplotlib.pyplot as plt"
   ]
  },
  {
   "cell_type": "code",
   "execution_count": 2,
   "id": "4bcefd0e",
   "metadata": {},
   "outputs": [],
   "source": [
    "df = pd.read_csv(\"accepted_only_data.csv\")"
   ]
  },
  {
   "cell_type": "code",
   "execution_count": 3,
   "id": "bd55c2fd",
   "metadata": {},
   "outputs": [
    {
     "name": "stdout",
     "output_type": "stream",
     "text": [
      "<class 'pandas.core.frame.DataFrame'>\n",
      "RangeIndex: 2072705 entries, 0 to 2072704\n",
      "Data columns (total 19 columns):\n",
      " #   Column            Dtype  \n",
      "---  ------            -----  \n",
      " 0   Unnamed: 0        int64  \n",
      " 1   loan_amnt         float64\n",
      " 2   title             object \n",
      " 3   fico_range_low    int64  \n",
      " 4   fico_range_high   int64  \n",
      " 5   dti               float64\n",
      " 6   zip_code          object \n",
      " 7   addr_state        object \n",
      " 8   emp_length        object \n",
      " 9   emp_title         object \n",
      " 10  funded_amnt       float64\n",
      " 11  hardship_flag     object \n",
      " 12  home_ownership    object \n",
      " 13  loan_status       object \n",
      " 14  application_type  object \n",
      " 15  issue_d           object \n",
      " 16  policy_code       int64  \n",
      " 17  Applicant_Result  int64  \n",
      " 18  int_rate          float64\n",
      "dtypes: float64(4), int64(5), object(10)\n",
      "memory usage: 300.5+ MB\n"
     ]
    }
   ],
   "source": [
    "df.info()"
   ]
  },
  {
   "cell_type": "code",
   "execution_count": 4,
   "id": "3bdeb053",
   "metadata": {},
   "outputs": [
    {
     "data": {
      "text/plain": [
       "Unnamed: 0          0\n",
       "loan_amnt           0\n",
       "title               0\n",
       "fico_range_low      0\n",
       "fico_range_high     0\n",
       "dti                 0\n",
       "zip_code            0\n",
       "addr_state          0\n",
       "emp_length          0\n",
       "emp_title           0\n",
       "funded_amnt         0\n",
       "hardship_flag       0\n",
       "home_ownership      0\n",
       "loan_status         0\n",
       "application_type    0\n",
       "issue_d             0\n",
       "policy_code         0\n",
       "Applicant_Result    0\n",
       "int_rate            0\n",
       "dtype: int64"
      ]
     },
     "execution_count": 4,
     "metadata": {},
     "output_type": "execute_result"
    }
   ],
   "source": [
    "df.isnull().sum()"
   ]
  },
  {
   "cell_type": "code",
   "execution_count": 5,
   "id": "f03a56c2",
   "metadata": {},
   "outputs": [
    {
     "data": {
      "text/html": [
       "<div>\n",
       "<style scoped>\n",
       "    .dataframe tbody tr th:only-of-type {\n",
       "        vertical-align: middle;\n",
       "    }\n",
       "\n",
       "    .dataframe tbody tr th {\n",
       "        vertical-align: top;\n",
       "    }\n",
       "\n",
       "    .dataframe thead th {\n",
       "        text-align: right;\n",
       "    }\n",
       "</style>\n",
       "<table border=\"1\" class=\"dataframe\">\n",
       "  <thead>\n",
       "    <tr style=\"text-align: right;\">\n",
       "      <th></th>\n",
       "      <th>Unnamed: 0</th>\n",
       "      <th>loan_amnt</th>\n",
       "      <th>title</th>\n",
       "      <th>fico_range_low</th>\n",
       "      <th>fico_range_high</th>\n",
       "      <th>dti</th>\n",
       "      <th>zip_code</th>\n",
       "      <th>addr_state</th>\n",
       "      <th>emp_length</th>\n",
       "      <th>emp_title</th>\n",
       "      <th>funded_amnt</th>\n",
       "      <th>hardship_flag</th>\n",
       "      <th>home_ownership</th>\n",
       "      <th>loan_status</th>\n",
       "      <th>application_type</th>\n",
       "      <th>issue_d</th>\n",
       "      <th>policy_code</th>\n",
       "      <th>Applicant_Result</th>\n",
       "      <th>int_rate</th>\n",
       "    </tr>\n",
       "  </thead>\n",
       "  <tbody>\n",
       "    <tr>\n",
       "      <th>0</th>\n",
       "      <td>0</td>\n",
       "      <td>3600.0</td>\n",
       "      <td>Debt consolidation</td>\n",
       "      <td>675</td>\n",
       "      <td>679</td>\n",
       "      <td>5.91</td>\n",
       "      <td>190xx</td>\n",
       "      <td>PA</td>\n",
       "      <td>10+ years</td>\n",
       "      <td>leadman</td>\n",
       "      <td>3600.0</td>\n",
       "      <td>N</td>\n",
       "      <td>MORTGAGE</td>\n",
       "      <td>Fully Paid</td>\n",
       "      <td>Individual</td>\n",
       "      <td>Dec-2015</td>\n",
       "      <td>1</td>\n",
       "      <td>1</td>\n",
       "      <td>13.99</td>\n",
       "    </tr>\n",
       "    <tr>\n",
       "      <th>1</th>\n",
       "      <td>1</td>\n",
       "      <td>24700.0</td>\n",
       "      <td>Business</td>\n",
       "      <td>715</td>\n",
       "      <td>719</td>\n",
       "      <td>16.06</td>\n",
       "      <td>577xx</td>\n",
       "      <td>SD</td>\n",
       "      <td>10+ years</td>\n",
       "      <td>Engineer</td>\n",
       "      <td>24700.0</td>\n",
       "      <td>N</td>\n",
       "      <td>MORTGAGE</td>\n",
       "      <td>Fully Paid</td>\n",
       "      <td>Individual</td>\n",
       "      <td>Dec-2015</td>\n",
       "      <td>1</td>\n",
       "      <td>1</td>\n",
       "      <td>11.99</td>\n",
       "    </tr>\n",
       "    <tr>\n",
       "      <th>2</th>\n",
       "      <td>2</td>\n",
       "      <td>35000.0</td>\n",
       "      <td>Debt consolidation</td>\n",
       "      <td>785</td>\n",
       "      <td>789</td>\n",
       "      <td>17.06</td>\n",
       "      <td>076xx</td>\n",
       "      <td>NJ</td>\n",
       "      <td>10+ years</td>\n",
       "      <td>Information Systems Officer</td>\n",
       "      <td>35000.0</td>\n",
       "      <td>N</td>\n",
       "      <td>MORTGAGE</td>\n",
       "      <td>Current</td>\n",
       "      <td>Individual</td>\n",
       "      <td>Dec-2015</td>\n",
       "      <td>1</td>\n",
       "      <td>1</td>\n",
       "      <td>14.85</td>\n",
       "    </tr>\n",
       "    <tr>\n",
       "      <th>3</th>\n",
       "      <td>3</td>\n",
       "      <td>10400.0</td>\n",
       "      <td>Major purchase</td>\n",
       "      <td>695</td>\n",
       "      <td>699</td>\n",
       "      <td>25.37</td>\n",
       "      <td>174xx</td>\n",
       "      <td>PA</td>\n",
       "      <td>3 years</td>\n",
       "      <td>Contract Specialist</td>\n",
       "      <td>10400.0</td>\n",
       "      <td>N</td>\n",
       "      <td>MORTGAGE</td>\n",
       "      <td>Fully Paid</td>\n",
       "      <td>Individual</td>\n",
       "      <td>Dec-2015</td>\n",
       "      <td>1</td>\n",
       "      <td>1</td>\n",
       "      <td>22.45</td>\n",
       "    </tr>\n",
       "    <tr>\n",
       "      <th>4</th>\n",
       "      <td>4</td>\n",
       "      <td>11950.0</td>\n",
       "      <td>Debt consolidation</td>\n",
       "      <td>690</td>\n",
       "      <td>694</td>\n",
       "      <td>10.20</td>\n",
       "      <td>300xx</td>\n",
       "      <td>GA</td>\n",
       "      <td>4 years</td>\n",
       "      <td>Veterinary Tecnician</td>\n",
       "      <td>11950.0</td>\n",
       "      <td>N</td>\n",
       "      <td>RENT</td>\n",
       "      <td>Fully Paid</td>\n",
       "      <td>Individual</td>\n",
       "      <td>Dec-2015</td>\n",
       "      <td>1</td>\n",
       "      <td>1</td>\n",
       "      <td>13.44</td>\n",
       "    </tr>\n",
       "  </tbody>\n",
       "</table>\n",
       "</div>"
      ],
      "text/plain": [
       "   Unnamed: 0  loan_amnt               title  fico_range_low  fico_range_high  \\\n",
       "0           0     3600.0  Debt consolidation             675              679   \n",
       "1           1    24700.0            Business             715              719   \n",
       "2           2    35000.0  Debt consolidation             785              789   \n",
       "3           3    10400.0      Major purchase             695              699   \n",
       "4           4    11950.0  Debt consolidation             690              694   \n",
       "\n",
       "     dti zip_code addr_state emp_length                    emp_title  \\\n",
       "0   5.91    190xx         PA  10+ years                      leadman   \n",
       "1  16.06    577xx         SD  10+ years                     Engineer   \n",
       "2  17.06    076xx         NJ  10+ years  Information Systems Officer   \n",
       "3  25.37    174xx         PA    3 years          Contract Specialist   \n",
       "4  10.20    300xx         GA    4 years         Veterinary Tecnician   \n",
       "\n",
       "   funded_amnt hardship_flag home_ownership loan_status application_type  \\\n",
       "0       3600.0             N       MORTGAGE  Fully Paid       Individual   \n",
       "1      24700.0             N       MORTGAGE  Fully Paid       Individual   \n",
       "2      35000.0             N       MORTGAGE     Current       Individual   \n",
       "3      10400.0             N       MORTGAGE  Fully Paid       Individual   \n",
       "4      11950.0             N           RENT  Fully Paid       Individual   \n",
       "\n",
       "    issue_d  policy_code  Applicant_Result  int_rate  \n",
       "0  Dec-2015            1                 1     13.99  \n",
       "1  Dec-2015            1                 1     11.99  \n",
       "2  Dec-2015            1                 1     14.85  \n",
       "3  Dec-2015            1                 1     22.45  \n",
       "4  Dec-2015            1                 1     13.44  "
      ]
     },
     "execution_count": 5,
     "metadata": {},
     "output_type": "execute_result"
    }
   ],
   "source": [
    "df.head()"
   ]
  },
  {
   "cell_type": "code",
   "execution_count": 6,
   "id": "5fee03a2",
   "metadata": {},
   "outputs": [
    {
     "data": {
      "text/plain": [
       "MORTGAGE    1026198\n",
       "RENT         828421\n",
       "OWN          217129\n",
       "ANY             738\n",
       "OTHER           174\n",
       "NONE             45\n",
       "Name: home_ownership, dtype: int64"
      ]
     },
     "execution_count": 6,
     "metadata": {},
     "output_type": "execute_result"
    }
   ],
   "source": [
    "df['home_ownership'].value_counts()"
   ]
  },
  {
   "cell_type": "markdown",
   "id": "ab8b0c7e",
   "metadata": {},
   "source": [
    "The any, other, and none categories are very small and make up a small portion of the overall customers. They will not be considered."
   ]
  },
  {
   "cell_type": "code",
   "execution_count": 7,
   "id": "b340f9ae",
   "metadata": {},
   "outputs": [],
   "source": [
    "df_new = df[~df['home_ownership'].isin(['OTHER', 'ANY', 'NONE'])]"
   ]
  },
  {
   "cell_type": "markdown",
   "id": "d528d52e",
   "metadata": {},
   "source": [
    "Comparing the new data frame with the original. The difference in the distribution."
   ]
  },
  {
   "cell_type": "code",
   "execution_count": 8,
   "id": "70f63ea1",
   "metadata": {},
   "outputs": [
    {
     "data": {
      "image/png": "[encoded data removed]",
      "text/plain": [
       "<Figure size 640x480 with 1 Axes>"
      ]
     },
     "metadata": {},
     "output_type": "display_data"
    }
   ],
   "source": [
    "plt.hist(df['dti'][df['dti']<=100])\n",
    "plt.show()"
   ]
  },
  {
   "cell_type": "code",
   "execution_count": 9,
   "id": "5f7d2a4e",
   "metadata": {},
   "outputs": [
    {
     "data": {
      "image/png": "[encoded data removed]",
      "text/plain": [
       "<Figure size 640x480 with 1 Axes>"
      ]
     },
     "metadata": {},
     "output_type": "display_data"
    }
   ],
   "source": [
    "plt.hist(df_new['dti'][df_new['dti']<=100])\n",
    "plt.show()"
   ]
  },
  {
   "cell_type": "code",
   "execution_count": 10,
   "id": "40556e16",
   "metadata": {},
   "outputs": [
    {
     "data": {
      "image/png": "[encoded data removed]",
      "text/plain": [
       "<Figure size 640x480 with 1 Axes>"
      ]
     },
     "metadata": {},
     "output_type": "display_data"
    }
   ],
   "source": [
    "plt.hist(df['fico_range_low'][df['dti']<=100])\n",
    "plt.show()"
   ]
  },
  {
   "cell_type": "code",
   "execution_count": 11,
   "id": "0e20c908",
   "metadata": {},
   "outputs": [
    {
     "data": {
      "image/png": "[encoded data removed]",
      "text/plain": [
       "<Figure size 640x480 with 1 Axes>"
      ]
     },
     "metadata": {},
     "output_type": "display_data"
    }
   ],
   "source": [
    "plt.hist(df_new['fico_range_low'][df_new['dti']<=100])\n",
    "plt.show()"
   ]
  },
  {
   "cell_type": "code",
   "execution_count": 12,
   "id": "5a5fa1e0",
   "metadata": {},
   "outputs": [],
   "source": [
    "grouped_values = df_new.groupby(['home_ownership', 'application_type', 'hardship_flag'])['fico_range_low'].median()"
   ]
  },
  {
   "cell_type": "code",
   "execution_count": 13,
   "id": "89025096",
   "metadata": {},
   "outputs": [],
   "source": [
    "grouped_values = pd.DataFrame(grouped_values)"
   ]
  },
  {
   "cell_type": "code",
   "execution_count": 14,
   "id": "fed14b7d",
   "metadata": {},
   "outputs": [],
   "source": [
    "grouped_values.reset_index(inplace=True)"
   ]
  },
  {
   "cell_type": "code",
   "execution_count": 15,
   "id": "7d054dd8",
   "metadata": {},
   "outputs": [
    {
     "data": {
      "text/html": [
       "<div>\n",
       "<style scoped>\n",
       "    .dataframe tbody tr th:only-of-type {\n",
       "        vertical-align: middle;\n",
       "    }\n",
       "\n",
       "    .dataframe tbody tr th {\n",
       "        vertical-align: top;\n",
       "    }\n",
       "\n",
       "    .dataframe thead th {\n",
       "        text-align: right;\n",
       "    }\n",
       "</style>\n",
       "<table border=\"1\" class=\"dataframe\">\n",
       "  <thead>\n",
       "    <tr style=\"text-align: right;\">\n",
       "      <th></th>\n",
       "      <th>Ownership</th>\n",
       "      <th>Application Type</th>\n",
       "      <th>Hardship Flag</th>\n",
       "      <th>FICO Score</th>\n",
       "    </tr>\n",
       "  </thead>\n",
       "  <tbody>\n",
       "    <tr>\n",
       "      <th>0</th>\n",
       "      <td>OWN</td>\n",
       "      <td>Joint App</td>\n",
       "      <td>Y</td>\n",
       "      <td>720.0</td>\n",
       "    </tr>\n",
       "    <tr>\n",
       "      <th>1</th>\n",
       "      <td>OWN</td>\n",
       "      <td>Joint App</td>\n",
       "      <td>N</td>\n",
       "      <td>710.0</td>\n",
       "    </tr>\n",
       "    <tr>\n",
       "      <th>2</th>\n",
       "      <td>MORTGAGE</td>\n",
       "      <td>Joint App</td>\n",
       "      <td>N</td>\n",
       "      <td>705.0</td>\n",
       "    </tr>\n",
       "    <tr>\n",
       "      <th>3</th>\n",
       "      <td>MORTGAGE</td>\n",
       "      <td>Joint App</td>\n",
       "      <td>Y</td>\n",
       "      <td>700.0</td>\n",
       "    </tr>\n",
       "    <tr>\n",
       "      <th>4</th>\n",
       "      <td>RENT</td>\n",
       "      <td>Joint App</td>\n",
       "      <td>N</td>\n",
       "      <td>700.0</td>\n",
       "    </tr>\n",
       "  </tbody>\n",
       "</table>\n",
       "</div>"
      ],
      "text/plain": [
       "  Ownership Application Type Hardship Flag  FICO Score\n",
       "0       OWN        Joint App             Y       720.0\n",
       "1       OWN        Joint App             N       710.0\n",
       "2  MORTGAGE        Joint App             N       705.0\n",
       "3  MORTGAGE        Joint App             Y       700.0\n",
       "4      RENT        Joint App             N       700.0"
      ]
     },
     "execution_count": 15,
     "metadata": {},
     "output_type": "execute_result"
    }
   ],
   "source": [
    "sorted_df = grouped_values.sort_values(by='fico_range_low',ascending=False).head()\n",
    "sorted_df.reset_index(inplace=True,drop=True)\n",
    "sorted_df.rename(columns={\"home_ownership\": \"Ownership\", \"application_type\": \"Application Type\", \n",
    "                          \"hardship_flag\": \"Hardship Flag\", \"fico_range_low\": \"FICO Score\"}, inplace=True)\n",
    "sorted_df"
   ]
  },
  {
   "cell_type": "code",
   "execution_count": 16,
   "id": "86679387",
   "metadata": {},
   "outputs": [],
   "source": [
    "grouped_values_dti = df_new.groupby(['home_ownership', 'application_type', 'hardship_flag'])['dti'].median()"
   ]
  },
  {
   "cell_type": "code",
   "execution_count": 17,
   "id": "c271e157",
   "metadata": {},
   "outputs": [],
   "source": [
    "grouped_values_dti = pd.DataFrame(grouped_values_dti)"
   ]
  },
  {
   "cell_type": "code",
   "execution_count": 20,
   "id": "29047777",
   "metadata": {},
   "outputs": [],
   "source": [
    "grouped_values_dti.reset_index(inplace=True)"
   ]
  },
  {
   "cell_type": "code",
   "execution_count": 21,
   "id": "146d7cab",
   "metadata": {},
   "outputs": [
    {
     "data": {
      "text/html": [
       "<div>\n",
       "<style scoped>\n",
       "    .dataframe tbody tr th:only-of-type {\n",
       "        vertical-align: middle;\n",
       "    }\n",
       "\n",
       "    .dataframe tbody tr th {\n",
       "        vertical-align: top;\n",
       "    }\n",
       "\n",
       "    .dataframe thead th {\n",
       "        text-align: right;\n",
       "    }\n",
       "</style>\n",
       "<table border=\"1\" class=\"dataframe\">\n",
       "  <thead>\n",
       "    <tr style=\"text-align: right;\">\n",
       "      <th></th>\n",
       "      <th>Ownership</th>\n",
       "      <th>Application Type</th>\n",
       "      <th>Hardship Flag</th>\n",
       "      <th>Debt-to-Income Ratio</th>\n",
       "    </tr>\n",
       "  </thead>\n",
       "  <tbody>\n",
       "    <tr>\n",
       "      <th>0</th>\n",
       "      <td>OWN</td>\n",
       "      <td>Joint App</td>\n",
       "      <td>Y</td>\n",
       "      <td>11.90</td>\n",
       "    </tr>\n",
       "    <tr>\n",
       "      <th>1</th>\n",
       "      <td>RENT</td>\n",
       "      <td>Individual</td>\n",
       "      <td>N</td>\n",
       "      <td>17.30</td>\n",
       "    </tr>\n",
       "    <tr>\n",
       "      <th>2</th>\n",
       "      <td>RENT</td>\n",
       "      <td>Individual</td>\n",
       "      <td>Y</td>\n",
       "      <td>17.49</td>\n",
       "    </tr>\n",
       "    <tr>\n",
       "      <th>3</th>\n",
       "      <td>MORTGAGE</td>\n",
       "      <td>Individual</td>\n",
       "      <td>N</td>\n",
       "      <td>17.61</td>\n",
       "    </tr>\n",
       "    <tr>\n",
       "      <th>4</th>\n",
       "      <td>OWN</td>\n",
       "      <td>Individual</td>\n",
       "      <td>Y</td>\n",
       "      <td>17.70</td>\n",
       "    </tr>\n",
       "  </tbody>\n",
       "</table>\n",
       "</div>"
      ],
      "text/plain": [
       "  Ownership Application Type Hardship Flag  Debt-to-Income Ratio\n",
       "0       OWN        Joint App             Y                 11.90\n",
       "1      RENT       Individual             N                 17.30\n",
       "2      RENT       Individual             Y                 17.49\n",
       "3  MORTGAGE       Individual             N                 17.61\n",
       "4       OWN       Individual             Y                 17.70"
      ]
     },
     "execution_count": 21,
     "metadata": {},
     "output_type": "execute_result"
    }
   ],
   "source": [
    "sorted_df = grouped_values_dti.sort_values(by='dti', ascending=True).head()\n",
    "sorted_df.reset_index(inplace=True,drop=True)\n",
    "sorted_df.rename(columns={\"home_ownership\": \"Ownership\", \"application_type\": \"Application Type\", \n",
    "                          \"hardship_flag\": \"Hardship Flag\", \"dti\": \"Debt-to-Income Ratio\"}, inplace=True)\n",
    "sorted_df"
   ]
  },
  {
   "cell_type": "code",
   "execution_count": null,
   "id": "989450bd",
   "metadata": {},
   "outputs": [],
   "source": []
  }
 ],
 "metadata": {
  "kernelspec": {
   "display_name": "Python 3 (ipykernel)",
   "language": "python",
   "name": "python3"
  },
  "language_info": {
   "codemirror_mode": {
    "name": "ipython",
    "version": 3
   },
   "file_extension": ".py",
   "mimetype": "text/x-python",
   "name": "python",
   "nbconvert_exporter": "python",
   "pygments_lexer": "ipython3",
   "version": "3.9.7"
  }
 },
 "nbformat": 4,
 "nbformat_minor": 5
}
