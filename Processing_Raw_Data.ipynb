{
 "cells": [
  {
   "cell_type": "code",
   "execution_count": 1,
   "id": "e21e1bf6",
   "metadata": {},
   "outputs": [],
   "source": [
    "import pandas as pd"
   ]
  },
  {
   "cell_type": "code",
   "execution_count": 2,
   "id": "e2694503",
   "metadata": {},
   "outputs": [
    {
     "name": "stderr",
     "output_type": "stream",
     "text": [
      "C:\\Users\\orteg\\AppData\\Local\\Temp\\ipykernel_51756\\315921789.py:1: DtypeWarning: Columns (0,19,49,59,118,129,130,131,134,135,136,139,145,146,147) have mixed types. Specify dtype option on import or set low_memory=False.\n",
      "  accepted = pd.read_csv(\"accepted_2007_to_2018Q4.csv\")\n"
     ]
    }
   ],
   "source": [
    "accepted = pd.read_csv(\"accepted_2007_to_2018Q4.csv\")"
   ]
  },
  {
   "cell_type": "code",
   "execution_count": 3,
   "id": "13ae3be3",
   "metadata": {},
   "outputs": [
    {
     "data": {
      "text/plain": [
       "(2260701, 151)"
      ]
     },
     "execution_count": 3,
     "metadata": {},
     "output_type": "execute_result"
    }
   ],
   "source": [
    "accepted.shape"
   ]
  },
  {
   "cell_type": "code",
   "execution_count": 4,
   "id": "7c03ad8a",
   "metadata": {},
   "outputs": [
    {
     "data": {
      "text/plain": [
       "array(['id', 'member_id', 'loan_amnt', 'funded_amnt', 'funded_amnt_inv',\n",
       "       'term', 'int_rate', 'installment', 'grade', 'sub_grade',\n",
       "       'emp_title', 'emp_length', 'home_ownership', 'annual_inc',\n",
       "       'verification_status', 'issue_d', 'loan_status', 'pymnt_plan',\n",
       "       'url', 'desc', 'purpose', 'title', 'zip_code', 'addr_state', 'dti',\n",
       "       'delinq_2yrs', 'earliest_cr_line', 'fico_range_low',\n",
       "       'fico_range_high', 'inq_last_6mths', 'mths_since_last_delinq',\n",
       "       'mths_since_last_record', 'open_acc', 'pub_rec', 'revol_bal',\n",
       "       'revol_util', 'total_acc', 'initial_list_status', 'out_prncp',\n",
       "       'out_prncp_inv', 'total_pymnt', 'total_pymnt_inv',\n",
       "       'total_rec_prncp', 'total_rec_int', 'total_rec_late_fee',\n",
       "       'recoveries', 'collection_recovery_fee', 'last_pymnt_d',\n",
       "       'last_pymnt_amnt', 'next_pymnt_d', 'last_credit_pull_d',\n",
       "       'last_fico_range_high', 'last_fico_range_low',\n",
       "       'collections_12_mths_ex_med', 'mths_since_last_major_derog',\n",
       "       'policy_code', 'application_type', 'annual_inc_joint', 'dti_joint',\n",
       "       'verification_status_joint', 'acc_now_delinq', 'tot_coll_amt',\n",
       "       'tot_cur_bal', 'open_acc_6m', 'open_act_il', 'open_il_12m',\n",
       "       'open_il_24m', 'mths_since_rcnt_il', 'total_bal_il', 'il_util',\n",
       "       'open_rv_12m', 'open_rv_24m', 'max_bal_bc', 'all_util',\n",
       "       'total_rev_hi_lim', 'inq_fi', 'total_cu_tl', 'inq_last_12m',\n",
       "       'acc_open_past_24mths', 'avg_cur_bal', 'bc_open_to_buy', 'bc_util',\n",
       "       'chargeoff_within_12_mths', 'delinq_amnt', 'mo_sin_old_il_acct',\n",
       "       'mo_sin_old_rev_tl_op', 'mo_sin_rcnt_rev_tl_op', 'mo_sin_rcnt_tl',\n",
       "       'mort_acc', 'mths_since_recent_bc', 'mths_since_recent_bc_dlq',\n",
       "       'mths_since_recent_inq', 'mths_since_recent_revol_delinq',\n",
       "       'num_accts_ever_120_pd', 'num_actv_bc_tl', 'num_actv_rev_tl',\n",
       "       'num_bc_sats', 'num_bc_tl', 'num_il_tl', 'num_op_rev_tl',\n",
       "       'num_rev_accts', 'num_rev_tl_bal_gt_0', 'num_sats',\n",
       "       'num_tl_120dpd_2m', 'num_tl_30dpd', 'num_tl_90g_dpd_24m',\n",
       "       'num_tl_op_past_12m', 'pct_tl_nvr_dlq', 'percent_bc_gt_75',\n",
       "       'pub_rec_bankruptcies', 'tax_liens', 'tot_hi_cred_lim',\n",
       "       'total_bal_ex_mort', 'total_bc_limit',\n",
       "       'total_il_high_credit_limit', 'revol_bal_joint',\n",
       "       'sec_app_fico_range_low', 'sec_app_fico_range_high',\n",
       "       'sec_app_earliest_cr_line', 'sec_app_inq_last_6mths',\n",
       "       'sec_app_mort_acc', 'sec_app_open_acc', 'sec_app_revol_util',\n",
       "       'sec_app_open_act_il', 'sec_app_num_rev_accts',\n",
       "       'sec_app_chargeoff_within_12_mths',\n",
       "       'sec_app_collections_12_mths_ex_med',\n",
       "       'sec_app_mths_since_last_major_derog', 'hardship_flag',\n",
       "       'hardship_type', 'hardship_reason', 'hardship_status',\n",
       "       'deferral_term', 'hardship_amount', 'hardship_start_date',\n",
       "       'hardship_end_date', 'payment_plan_start_date', 'hardship_length',\n",
       "       'hardship_dpd', 'hardship_loan_status',\n",
       "       'orig_projected_additional_accrued_interest',\n",
       "       'hardship_payoff_balance_amount', 'hardship_last_payment_amount',\n",
       "       'disbursement_method', 'debt_settlement_flag',\n",
       "       'debt_settlement_flag_date', 'settlement_status',\n",
       "       'settlement_date', 'settlement_amount', 'settlement_percentage',\n",
       "       'settlement_term'], dtype=object)"
      ]
     },
     "execution_count": 4,
     "metadata": {},
     "output_type": "execute_result"
    }
   ],
   "source": [
    "accepted.columns.values"
   ]
  },
  {
   "cell_type": "code",
   "execution_count": 5,
   "id": "a60cd51e",
   "metadata": {},
   "outputs": [],
   "source": [
    "rejected = pd.read_csv(\"rejected_2007_to_2018Q4.csv\")"
   ]
  },
  {
   "cell_type": "code",
   "execution_count": 6,
   "id": "bcb80d5c",
   "metadata": {},
   "outputs": [
    {
     "data": {
      "text/plain": [
       "(27648741, 9)"
      ]
     },
     "execution_count": 6,
     "metadata": {},
     "output_type": "execute_result"
    }
   ],
   "source": [
    "rejected.shape"
   ]
  },
  {
   "cell_type": "code",
   "execution_count": 7,
   "id": "74532aae",
   "metadata": {},
   "outputs": [
    {
     "data": {
      "text/plain": [
       "array(['Amount Requested', 'Application Date', 'Loan Title', 'Risk_Score',\n",
       "       'Debt-To-Income Ratio', 'Zip Code', 'State', 'Employment Length',\n",
       "       'Policy Code'], dtype=object)"
      ]
     },
     "execution_count": 7,
     "metadata": {},
     "output_type": "execute_result"
    }
   ],
   "source": [
    "rejected.columns.values"
   ]
  },
  {
   "cell_type": "code",
   "execution_count": 8,
   "id": "de21061a",
   "metadata": {},
   "outputs": [],
   "source": [
    "accepted['Applicant_Result'] = 1\n",
    "rejected['Applicant_Result'] = 0"
   ]
  },
  {
   "cell_type": "markdown",
   "id": "5f78a211",
   "metadata": {},
   "source": [
    "### Creating a dataset for zip codes only"
   ]
  },
  {
   "cell_type": "code",
   "execution_count": 9,
   "id": "89144bc2",
   "metadata": {},
   "outputs": [
    {
     "data": {
      "text/plain": [
       "34"
      ]
     },
     "execution_count": 9,
     "metadata": {},
     "output_type": "execute_result"
    }
   ],
   "source": [
    "accepted['zip_code'].isnull().sum()"
   ]
  },
  {
   "cell_type": "code",
   "execution_count": 10,
   "id": "34e9317f",
   "metadata": {},
   "outputs": [
    {
     "data": {
      "text/plain": [
       "293"
      ]
     },
     "execution_count": 10,
     "metadata": {},
     "output_type": "execute_result"
    }
   ],
   "source": [
    "rejected['Zip Code'].isnull().sum()"
   ]
  },
  {
   "cell_type": "markdown",
   "id": "a6df7ee1",
   "metadata": {},
   "source": [
    "Since there are only a few missing values in the zip code columns, I will drop the rows. First I will concatenate the needed columns, and then I will drop the rows."
   ]
  },
  {
   "cell_type": "code",
   "execution_count": 11,
   "id": "f705109b",
   "metadata": {},
   "outputs": [
    {
     "data": {
      "text/plain": [
       "1.0597227555497012e-05"
      ]
     },
     "execution_count": 11,
     "metadata": {},
     "output_type": "execute_result"
    }
   ],
   "source": [
    "rejected['Zip Code'].isnull().sum()/len(rejected)"
   ]
  },
  {
   "cell_type": "code",
   "execution_count": 12,
   "id": "1bcf47e5",
   "metadata": {},
   "outputs": [
    {
     "data": {
      "text/plain": [
       "1.5039582855052482e-05"
      ]
     },
     "execution_count": 12,
     "metadata": {},
     "output_type": "execute_result"
    }
   ],
   "source": [
    "accepted['zip_code'].isnull().sum()/len(accepted)"
   ]
  },
  {
   "cell_type": "code",
   "execution_count": 13,
   "id": "000c44d9",
   "metadata": {},
   "outputs": [],
   "source": [
    "zip_df = rejected[['Zip Code', 'Applicant_Result']].rename(columns=\n",
    "                                                           {\"Zip Code\": \"zip_code\", \"Applicant_Result\": \"applicant_result\"})"
   ]
  },
  {
   "cell_type": "code",
   "execution_count": 14,
   "id": "b3d5e8c7",
   "metadata": {},
   "outputs": [],
   "source": [
    "zip_df = pd.concat([zip_df, accepted[['zip_code', 'Applicant_Result']].rename(columns={\"Applicant_Result\": \"applicant_result\"})]\n",
    "                   , axis=0)"
   ]
  },
  {
   "cell_type": "code",
   "execution_count": 15,
   "id": "4436883d",
   "metadata": {},
   "outputs": [
    {
     "data": {
      "text/html": [
       "<div>\n",
       "<style scoped>\n",
       "    .dataframe tbody tr th:only-of-type {\n",
       "        vertical-align: middle;\n",
       "    }\n",
       "\n",
       "    .dataframe tbody tr th {\n",
       "        vertical-align: top;\n",
       "    }\n",
       "\n",
       "    .dataframe thead th {\n",
       "        text-align: right;\n",
       "    }\n",
       "</style>\n",
       "<table border=\"1\" class=\"dataframe\">\n",
       "  <thead>\n",
       "    <tr style=\"text-align: right;\">\n",
       "      <th></th>\n",
       "      <th>zip_code</th>\n",
       "      <th>applicant_result</th>\n",
       "    </tr>\n",
       "  </thead>\n",
       "  <tbody>\n",
       "    <tr>\n",
       "      <th>0</th>\n",
       "      <td>481xx</td>\n",
       "      <td>0</td>\n",
       "    </tr>\n",
       "    <tr>\n",
       "      <th>1</th>\n",
       "      <td>010xx</td>\n",
       "      <td>0</td>\n",
       "    </tr>\n",
       "    <tr>\n",
       "      <th>2</th>\n",
       "      <td>212xx</td>\n",
       "      <td>0</td>\n",
       "    </tr>\n",
       "    <tr>\n",
       "      <th>3</th>\n",
       "      <td>017xx</td>\n",
       "      <td>0</td>\n",
       "    </tr>\n",
       "    <tr>\n",
       "      <th>4</th>\n",
       "      <td>209xx</td>\n",
       "      <td>0</td>\n",
       "    </tr>\n",
       "  </tbody>\n",
       "</table>\n",
       "</div>"
      ],
      "text/plain": [
       "  zip_code  applicant_result\n",
       "0    481xx                 0\n",
       "1    010xx                 0\n",
       "2    212xx                 0\n",
       "3    017xx                 0\n",
       "4    209xx                 0"
      ]
     },
     "execution_count": 15,
     "metadata": {},
     "output_type": "execute_result"
    }
   ],
   "source": [
    "zip_df.head()"
   ]
  },
  {
   "cell_type": "code",
   "execution_count": 16,
   "id": "5a458a17",
   "metadata": {},
   "outputs": [
    {
     "data": {
      "text/plain": [
       "0    27648741\n",
       "1     2260701\n",
       "Name: applicant_result, dtype: int64"
      ]
     },
     "execution_count": 16,
     "metadata": {},
     "output_type": "execute_result"
    }
   ],
   "source": [
    "zip_df['applicant_result'].value_counts()"
   ]
  },
  {
   "cell_type": "code",
   "execution_count": 17,
   "id": "0211dce5",
   "metadata": {},
   "outputs": [
    {
     "data": {
      "text/plain": [
       "112xx    291010\n",
       "770xx    281401\n",
       "300xx    280926\n",
       "331xx    264547\n",
       "606xx    256209\n",
       "          ...  \n",
       "004xx        11\n",
       "869xx        10\n",
       "699xx         9\n",
       "579xx         3\n",
       "09Oxx         1\n",
       "Name: zip_code, Length: 1001, dtype: int64"
      ]
     },
     "execution_count": 17,
     "metadata": {},
     "output_type": "execute_result"
    }
   ],
   "source": [
    "zip_df['zip_code'].value_counts()"
   ]
  },
  {
   "cell_type": "code",
   "execution_count": 18,
   "id": "721c5144",
   "metadata": {},
   "outputs": [],
   "source": [
    "zip_df.dropna(axis=0, inplace=True)"
   ]
  },
  {
   "cell_type": "code",
   "execution_count": 19,
   "id": "9f00d807",
   "metadata": {},
   "outputs": [
    {
     "data": {
      "text/plain": [
       "zip_code            0\n",
       "applicant_result    0\n",
       "dtype: int64"
      ]
     },
     "execution_count": 19,
     "metadata": {},
     "output_type": "execute_result"
    }
   ],
   "source": [
    "zip_df.isnull().sum()"
   ]
  },
  {
   "cell_type": "code",
   "execution_count": 20,
   "id": "c1348245",
   "metadata": {},
   "outputs": [
    {
     "name": "stdout",
     "output_type": "stream",
     "text": [
      "<class 'pandas.core.frame.DataFrame'>\n",
      "Int64Index: 29909115 entries, 0 to 2260698\n",
      "Data columns (total 2 columns):\n",
      " #   Column            Dtype \n",
      "---  ------            ----- \n",
      " 0   zip_code          object\n",
      " 1   applicant_result  int64 \n",
      "dtypes: int64(1), object(1)\n",
      "memory usage: 684.6+ MB\n"
     ]
    }
   ],
   "source": [
    "zip_df.info()"
   ]
  },
  {
   "cell_type": "code",
   "execution_count": 21,
   "id": "4808adb1",
   "metadata": {},
   "outputs": [],
   "source": [
    "zip_df.reset_index(drop=True, inplace=True)"
   ]
  },
  {
   "cell_type": "markdown",
   "id": "ea5fb642",
   "metadata": {},
   "source": [
    "### Selecting the Columns Related to the Project Proposal from the Accepted Dataset"
   ]
  },
  {
   "cell_type": "code",
   "execution_count": 23,
   "id": "e86e3450",
   "metadata": {},
   "outputs": [
    {
     "name": "stdout",
     "output_type": "stream",
     "text": [
      "<class 'pandas.core.frame.DataFrame'>\n",
      "RangeIndex: 2260701 entries, 0 to 2260700\n",
      "Columns: 152 entries, id to Applicant_Result\n",
      "dtypes: float64(113), int64(1), object(38)\n",
      "memory usage: 2.6+ GB\n"
     ]
    }
   ],
   "source": [
    "accepted.info()"
   ]
  },
  {
   "cell_type": "code",
   "execution_count": 24,
   "id": "debe3db9",
   "metadata": {},
   "outputs": [],
   "source": [
    "null_values = accepted.isnull().sum().sort_values(ascending = False)"
   ]
  },
  {
   "cell_type": "code",
   "execution_count": 25,
   "id": "6f711dc9",
   "metadata": {},
   "outputs": [
    {
     "name": "stdout",
     "output_type": "stream",
     "text": [
      "2260701 missing values for member_id\n",
      "2252050 missing values for orig_projected_additional_accrued_interest\n",
      "2249784 missing values for hardship_start_date\n",
      "2249784 missing values for deferral_term\n",
      "2249784 missing values for hardship_type\n",
      "2249784 missing values for hardship_reason\n",
      "2249784 missing values for hardship_last_payment_amount\n",
      "2249784 missing values for hardship_payoff_balance_amount\n",
      "2249784 missing values for hardship_loan_status\n",
      "2249784 missing values for hardship_dpd\n",
      "2249784 missing values for hardship_length\n",
      "2249784 missing values for payment_plan_start_date\n",
      "2249784 missing values for hardship_end_date\n",
      "2249784 missing values for hardship_status\n",
      "2249784 missing values for hardship_amount\n",
      "2226455 missing values for settlement_term\n",
      "2226455 missing values for settlement_percentage\n",
      "2226455 missing values for debt_settlement_flag_date\n",
      "2226455 missing values for settlement_status\n",
      "2226455 missing values for settlement_date\n",
      "2226455 missing values for settlement_amount\n",
      "2224759 missing values for sec_app_mths_since_last_major_derog\n",
      "2154517 missing values for sec_app_revol_util\n",
      "2152681 missing values for revol_bal_joint\n",
      "2152680 missing values for sec_app_inq_last_6mths\n",
      "2152680 missing values for sec_app_fico_range_low\n",
      "2152680 missing values for sec_app_fico_range_high\n",
      "2152680 missing values for sec_app_earliest_cr_line\n",
      "2152680 missing values for sec_app_num_rev_accts\n",
      "2152680 missing values for sec_app_mort_acc\n",
      "2152680 missing values for sec_app_open_act_il\n",
      "2152680 missing values for sec_app_chargeoff_within_12_mths\n",
      "2152680 missing values for sec_app_collections_12_mths_ex_med\n",
      "2152680 missing values for sec_app_open_acc\n",
      "2144971 missing values for verification_status_joint\n",
      "2139995 missing values for dti_joint\n",
      "2139991 missing values for annual_inc_joint\n",
      "2134634 missing values for desc\n",
      "1901545 missing values for mths_since_last_record\n",
      "1741000 missing values for mths_since_recent_bc_dlq\n",
      "1679926 missing values for mths_since_last_major_derog\n",
      "1520342 missing values for mths_since_recent_revol_delinq\n",
      "1345343 missing values for next_pymnt_d\n",
      "1158535 missing values for mths_since_last_delinq\n",
      "1068883 missing values for il_util\n",
      "909957 missing values for mths_since_rcnt_il\n",
      "866381 missing values for all_util\n",
      "866163 missing values for inq_last_12m\n",
      "866163 missing values for open_acc_6m\n",
      "866163 missing values for total_cu_tl\n",
      "866162 missing values for inq_fi\n",
      "866162 missing values for open_rv_24m\n",
      "866162 missing values for max_bal_bc\n",
      "866162 missing values for total_bal_il\n",
      "866162 missing values for open_il_24m\n",
      "866162 missing values for open_il_12m\n",
      "866162 missing values for open_act_il\n",
      "866162 missing values for open_rv_12m\n",
      "295468 missing values for mths_since_recent_inq\n",
      "167002 missing values for emp_title\n",
      "153690 missing values for num_tl_120dpd_2m\n",
      "146940 missing values for emp_length\n",
      "139104 missing values for mo_sin_old_il_acct\n",
      "76104 missing values for bc_util\n",
      "75412 missing values for percent_bc_gt_75\n",
      "74968 missing values for bc_open_to_buy\n",
      "73445 missing values for mths_since_recent_bc\n",
      "70464 missing values for pct_tl_nvr_dlq\n",
      "70379 missing values for avg_cur_bal\n",
      "70310 missing values for mo_sin_rcnt_rev_tl_op\n",
      "70310 missing values for mo_sin_old_rev_tl_op\n",
      "70310 missing values for num_rev_accts\n",
      "70309 missing values for tot_hi_cred_lim\n",
      "70309 missing values for tot_coll_amt\n",
      "70309 missing values for num_tl_30dpd\n",
      "70309 missing values for num_op_rev_tl\n",
      "70309 missing values for num_il_tl\n",
      "70309 missing values for num_bc_tl\n",
      "70309 missing values for num_actv_rev_tl\n",
      "70309 missing values for num_actv_bc_tl\n",
      "70309 missing values for num_accts_ever_120_pd\n",
      "70309 missing values for num_tl_90g_dpd_24m\n",
      "70309 missing values for num_tl_op_past_12m\n",
      "70309 missing values for mo_sin_rcnt_tl\n",
      "70309 missing values for total_il_high_credit_limit\n",
      "70309 missing values for tot_cur_bal\n",
      "70309 missing values for total_rev_hi_lim\n",
      "70309 missing values for num_rev_tl_bal_gt_0\n",
      "58623 missing values for num_sats\n",
      "58623 missing values for num_bc_sats\n",
      "50063 missing values for mort_acc\n",
      "50063 missing values for total_bal_ex_mort\n",
      "50063 missing values for acc_open_past_24mths\n",
      "50063 missing values for total_bc_limit\n",
      "23358 missing values for title\n",
      "2460 missing values for last_pymnt_d\n",
      "1835 missing values for revol_util\n",
      "1744 missing values for dti\n",
      "1398 missing values for pub_rec_bankruptcies\n",
      "178 missing values for chargeoff_within_12_mths\n",
      "178 missing values for collections_12_mths_ex_med\n",
      "138 missing values for tax_liens\n",
      "105 missing values for last_credit_pull_d\n",
      "63 missing values for inq_last_6mths\n",
      "62 missing values for total_acc\n",
      "62 missing values for delinq_2yrs\n",
      "62 missing values for acc_now_delinq\n",
      "62 missing values for delinq_amnt\n",
      "62 missing values for earliest_cr_line\n",
      "62 missing values for pub_rec\n",
      "62 missing values for open_acc\n",
      "37 missing values for annual_inc\n",
      "34 missing values for zip_code\n",
      "33 missing values for issue_d\n",
      "33 missing values for verification_status\n",
      "33 missing values for home_ownership\n",
      "33 missing values for total_pymnt\n",
      "33 missing values for last_fico_range_low\n",
      "33 missing values for sub_grade\n",
      "33 missing values for grade\n",
      "33 missing values for pymnt_plan\n",
      "33 missing values for installment\n",
      "33 missing values for int_rate\n",
      "33 missing values for disbursement_method\n",
      "33 missing values for debt_settlement_flag\n",
      "33 missing values for term\n",
      "33 missing values for funded_amnt_inv\n",
      "33 missing values for funded_amnt\n",
      "33 missing values for loan_amnt\n",
      "33 missing values for loan_status\n",
      "33 missing values for application_type\n",
      "33 missing values for url\n",
      "33 missing values for total_rec_int\n",
      "33 missing values for initial_list_status\n",
      "33 missing values for policy_code\n",
      "33 missing values for last_pymnt_amnt\n",
      "33 missing values for collection_recovery_fee\n",
      "33 missing values for recoveries\n",
      "33 missing values for total_pymnt_inv\n",
      "33 missing values for total_rec_late_fee\n",
      "33 missing values for revol_bal\n",
      "33 missing values for purpose\n",
      "33 missing values for fico_range_high\n",
      "33 missing values for fico_range_low\n",
      "33 missing values for out_prncp\n",
      "33 missing values for addr_state\n",
      "33 missing values for last_fico_range_high\n",
      "33 missing values for out_prncp_inv\n",
      "33 missing values for hardship_flag\n",
      "33 missing values for total_rec_prncp\n",
      "0 missing values for id\n",
      "0 missing values for Applicant_Result\n"
     ]
    }
   ],
   "source": [
    "#for row, index in enumerate(null_values.index):\n",
    " #   print(f\"{null_values[row]} missing values for {index}\")"
   ]
  },
  {
   "cell_type": "code",
   "execution_count": 26,
   "id": "bed82156",
   "metadata": {},
   "outputs": [],
   "source": [
    "col_to_be_dropped = []\n",
    "for column in accepted.columns:\n",
    "    if (accepted[column].isnull().sum()/len(accepted)) > 0.3:\n",
    "        col_to_be_dropped.append(column)"
   ]
  },
  {
   "cell_type": "code",
   "execution_count": 27,
   "id": "94e41a54",
   "metadata": {},
   "outputs": [],
   "source": [
    "trimmed_accepted = accepted.drop(col_to_be_dropped, axis = 1)"
   ]
  },
  {
   "cell_type": "code",
   "execution_count": 28,
   "id": "250e7c6d",
   "metadata": {},
   "outputs": [
    {
     "data": {
      "text/plain": [
       "(2260701, 94)"
      ]
     },
     "execution_count": 28,
     "metadata": {},
     "output_type": "execute_result"
    }
   ],
   "source": [
    "trimmed_accepted.shape"
   ]
  },
  {
   "cell_type": "code",
   "execution_count": 29,
   "id": "e36d03e6",
   "metadata": {},
   "outputs": [],
   "source": [
    "null_values = trimmed_accepted.isnull().sum().sort_values(ascending = False)"
   ]
  },
  {
   "cell_type": "code",
   "execution_count": 30,
   "id": "73902abe",
   "metadata": {},
   "outputs": [
    {
     "name": "stdout",
     "output_type": "stream",
     "text": [
      "295468 missing values for mths_since_recent_inq\n",
      "167002 missing values for emp_title\n",
      "153690 missing values for num_tl_120dpd_2m\n",
      "146940 missing values for emp_length\n",
      "139104 missing values for mo_sin_old_il_acct\n",
      "76104 missing values for bc_util\n",
      "75412 missing values for percent_bc_gt_75\n",
      "74968 missing values for bc_open_to_buy\n",
      "73445 missing values for mths_since_recent_bc\n",
      "70464 missing values for pct_tl_nvr_dlq\n",
      "70379 missing values for avg_cur_bal\n",
      "70310 missing values for num_rev_accts\n",
      "70310 missing values for mo_sin_old_rev_tl_op\n",
      "70310 missing values for mo_sin_rcnt_rev_tl_op\n",
      "70309 missing values for tot_coll_amt\n",
      "70309 missing values for num_actv_rev_tl\n",
      "70309 missing values for num_actv_bc_tl\n",
      "70309 missing values for num_il_tl\n",
      "70309 missing values for total_rev_hi_lim\n",
      "70309 missing values for num_accts_ever_120_pd\n",
      "70309 missing values for total_il_high_credit_limit\n",
      "70309 missing values for num_op_rev_tl\n",
      "70309 missing values for mo_sin_rcnt_tl\n",
      "70309 missing values for num_rev_tl_bal_gt_0\n",
      "70309 missing values for tot_cur_bal\n",
      "70309 missing values for tot_hi_cred_lim\n",
      "70309 missing values for num_tl_30dpd\n",
      "70309 missing values for num_tl_90g_dpd_24m\n",
      "70309 missing values for num_tl_op_past_12m\n",
      "70309 missing values for num_bc_tl\n",
      "58623 missing values for num_bc_sats\n",
      "58623 missing values for num_sats\n",
      "50063 missing values for mort_acc\n",
      "50063 missing values for acc_open_past_24mths\n",
      "50063 missing values for total_bc_limit\n",
      "50063 missing values for total_bal_ex_mort\n",
      "23358 missing values for title\n",
      "2460 missing values for last_pymnt_d\n",
      "1835 missing values for revol_util\n",
      "1744 missing values for dti\n",
      "1398 missing values for pub_rec_bankruptcies\n",
      "178 missing values for chargeoff_within_12_mths\n",
      "178 missing values for collections_12_mths_ex_med\n",
      "138 missing values for tax_liens\n",
      "105 missing values for last_credit_pull_d\n",
      "63 missing values for inq_last_6mths\n",
      "62 missing values for acc_now_delinq\n",
      "62 missing values for open_acc\n",
      "62 missing values for delinq_amnt\n",
      "62 missing values for total_acc\n",
      "62 missing values for pub_rec\n",
      "62 missing values for earliest_cr_line\n",
      "62 missing values for delinq_2yrs\n",
      "37 missing values for annual_inc\n",
      "34 missing values for zip_code\n",
      "33 missing values for hardship_flag\n",
      "33 missing values for last_fico_range_low\n",
      "33 missing values for last_fico_range_high\n",
      "33 missing values for application_type\n",
      "33 missing values for home_ownership\n",
      "33 missing values for purpose\n",
      "33 missing values for url\n",
      "33 missing values for pymnt_plan\n",
      "33 missing values for loan_status\n",
      "33 missing values for issue_d\n",
      "33 missing values for verification_status\n",
      "33 missing values for sub_grade\n",
      "33 missing values for policy_code\n",
      "33 missing values for grade\n",
      "33 missing values for installment\n",
      "33 missing values for int_rate\n",
      "33 missing values for term\n",
      "33 missing values for funded_amnt_inv\n",
      "33 missing values for funded_amnt\n",
      "33 missing values for addr_state\n",
      "33 missing values for fico_range_low\n",
      "33 missing values for fico_range_high\n",
      "33 missing values for revol_bal\n",
      "33 missing values for initial_list_status\n",
      "33 missing values for out_prncp\n",
      "33 missing values for out_prncp_inv\n",
      "33 missing values for total_pymnt\n",
      "33 missing values for total_pymnt_inv\n",
      "33 missing values for total_rec_prncp\n",
      "33 missing values for total_rec_int\n",
      "33 missing values for total_rec_late_fee\n",
      "33 missing values for recoveries\n",
      "33 missing values for collection_recovery_fee\n",
      "33 missing values for last_pymnt_amnt\n",
      "33 missing values for debt_settlement_flag\n",
      "33 missing values for loan_amnt\n",
      "33 missing values for disbursement_method\n",
      "0 missing values for id\n",
      "0 missing values for Applicant_Result\n"
     ]
    }
   ],
   "source": [
    "#for row, index in enumerate(null_values.index):\n",
    " #   print(f\"{null_values[row]} missing values for {index}\")"
   ]
  },
  {
   "cell_type": "markdown",
   "id": "69d0aa90",
   "metadata": {},
   "source": [
    "Now all columns that we want to use will be selected from the trimmed dataset"
   ]
  },
  {
   "cell_type": "code",
   "execution_count": 31,
   "id": "26b0479e",
   "metadata": {},
   "outputs": [],
   "source": [
    "columns_needed = ['loan_amnt', 'title', 'last_fico_range_low', 'last_fico_range_high',\n",
    "                 'dti', 'zip_code', 'addr_state', 'emp_length', 'emp_title', \n",
    "                 'funded_amnt', 'hardship_flag', 'home_ownership', 'loan_status', \n",
    "                 'application_type', 'issue_d', 'policy_code', 'Applicant_Result']"
   ]
  },
  {
   "cell_type": "code",
   "execution_count": 32,
   "id": "754f69f2",
   "metadata": {},
   "outputs": [],
   "source": [
    "accepted_project = trimmed_accepted[columns_needed]"
   ]
  },
  {
   "cell_type": "code",
   "execution_count": 33,
   "id": "2bad1f6c",
   "metadata": {},
   "outputs": [
    {
     "data": {
      "text/html": [
       "<div>\n",
       "<style scoped>\n",
       "    .dataframe tbody tr th:only-of-type {\n",
       "        vertical-align: middle;\n",
       "    }\n",
       "\n",
       "    .dataframe tbody tr th {\n",
       "        vertical-align: top;\n",
       "    }\n",
       "\n",
       "    .dataframe thead th {\n",
       "        text-align: right;\n",
       "    }\n",
       "</style>\n",
       "<table border=\"1\" class=\"dataframe\">\n",
       "  <thead>\n",
       "    <tr style=\"text-align: right;\">\n",
       "      <th></th>\n",
       "      <th>loan_amnt</th>\n",
       "      <th>title</th>\n",
       "      <th>last_fico_range_low</th>\n",
       "      <th>last_fico_range_high</th>\n",
       "      <th>dti</th>\n",
       "      <th>zip_code</th>\n",
       "      <th>addr_state</th>\n",
       "      <th>emp_length</th>\n",
       "      <th>emp_title</th>\n",
       "      <th>funded_amnt</th>\n",
       "      <th>hardship_flag</th>\n",
       "      <th>home_ownership</th>\n",
       "      <th>loan_status</th>\n",
       "      <th>application_type</th>\n",
       "      <th>issue_d</th>\n",
       "      <th>policy_code</th>\n",
       "      <th>Applicant_Result</th>\n",
       "    </tr>\n",
       "  </thead>\n",
       "  <tbody>\n",
       "    <tr>\n",
       "      <th>0</th>\n",
       "      <td>3600.0</td>\n",
       "      <td>Debt consolidation</td>\n",
       "      <td>560.0</td>\n",
       "      <td>564.0</td>\n",
       "      <td>5.91</td>\n",
       "      <td>190xx</td>\n",
       "      <td>PA</td>\n",
       "      <td>10+ years</td>\n",
       "      <td>leadman</td>\n",
       "      <td>3600.0</td>\n",
       "      <td>N</td>\n",
       "      <td>MORTGAGE</td>\n",
       "      <td>Fully Paid</td>\n",
       "      <td>Individual</td>\n",
       "      <td>Dec-2015</td>\n",
       "      <td>1.0</td>\n",
       "      <td>1</td>\n",
       "    </tr>\n",
       "    <tr>\n",
       "      <th>1</th>\n",
       "      <td>24700.0</td>\n",
       "      <td>Business</td>\n",
       "      <td>695.0</td>\n",
       "      <td>699.0</td>\n",
       "      <td>16.06</td>\n",
       "      <td>577xx</td>\n",
       "      <td>SD</td>\n",
       "      <td>10+ years</td>\n",
       "      <td>Engineer</td>\n",
       "      <td>24700.0</td>\n",
       "      <td>N</td>\n",
       "      <td>MORTGAGE</td>\n",
       "      <td>Fully Paid</td>\n",
       "      <td>Individual</td>\n",
       "      <td>Dec-2015</td>\n",
       "      <td>1.0</td>\n",
       "      <td>1</td>\n",
       "    </tr>\n",
       "    <tr>\n",
       "      <th>2</th>\n",
       "      <td>20000.0</td>\n",
       "      <td>NaN</td>\n",
       "      <td>700.0</td>\n",
       "      <td>704.0</td>\n",
       "      <td>10.78</td>\n",
       "      <td>605xx</td>\n",
       "      <td>IL</td>\n",
       "      <td>10+ years</td>\n",
       "      <td>truck driver</td>\n",
       "      <td>20000.0</td>\n",
       "      <td>N</td>\n",
       "      <td>MORTGAGE</td>\n",
       "      <td>Fully Paid</td>\n",
       "      <td>Joint App</td>\n",
       "      <td>Dec-2015</td>\n",
       "      <td>1.0</td>\n",
       "      <td>1</td>\n",
       "    </tr>\n",
       "    <tr>\n",
       "      <th>3</th>\n",
       "      <td>35000.0</td>\n",
       "      <td>Debt consolidation</td>\n",
       "      <td>675.0</td>\n",
       "      <td>679.0</td>\n",
       "      <td>17.06</td>\n",
       "      <td>076xx</td>\n",
       "      <td>NJ</td>\n",
       "      <td>10+ years</td>\n",
       "      <td>Information Systems Officer</td>\n",
       "      <td>35000.0</td>\n",
       "      <td>N</td>\n",
       "      <td>MORTGAGE</td>\n",
       "      <td>Current</td>\n",
       "      <td>Individual</td>\n",
       "      <td>Dec-2015</td>\n",
       "      <td>1.0</td>\n",
       "      <td>1</td>\n",
       "    </tr>\n",
       "    <tr>\n",
       "      <th>4</th>\n",
       "      <td>10400.0</td>\n",
       "      <td>Major purchase</td>\n",
       "      <td>700.0</td>\n",
       "      <td>704.0</td>\n",
       "      <td>25.37</td>\n",
       "      <td>174xx</td>\n",
       "      <td>PA</td>\n",
       "      <td>3 years</td>\n",
       "      <td>Contract Specialist</td>\n",
       "      <td>10400.0</td>\n",
       "      <td>N</td>\n",
       "      <td>MORTGAGE</td>\n",
       "      <td>Fully Paid</td>\n",
       "      <td>Individual</td>\n",
       "      <td>Dec-2015</td>\n",
       "      <td>1.0</td>\n",
       "      <td>1</td>\n",
       "    </tr>\n",
       "  </tbody>\n",
       "</table>\n",
       "</div>"
      ],
      "text/plain": [
       "   loan_amnt               title  last_fico_range_low  last_fico_range_high  \\\n",
       "0     3600.0  Debt consolidation                560.0                 564.0   \n",
       "1    24700.0            Business                695.0                 699.0   \n",
       "2    20000.0                 NaN                700.0                 704.0   \n",
       "3    35000.0  Debt consolidation                675.0                 679.0   \n",
       "4    10400.0      Major purchase                700.0                 704.0   \n",
       "\n",
       "     dti zip_code addr_state emp_length                    emp_title  \\\n",
       "0   5.91    190xx         PA  10+ years                      leadman   \n",
       "1  16.06    577xx         SD  10+ years                     Engineer   \n",
       "2  10.78    605xx         IL  10+ years                 truck driver   \n",
       "3  17.06    076xx         NJ  10+ years  Information Systems Officer   \n",
       "4  25.37    174xx         PA    3 years          Contract Specialist   \n",
       "\n",
       "   funded_amnt hardship_flag home_ownership loan_status application_type  \\\n",
       "0       3600.0             N       MORTGAGE  Fully Paid       Individual   \n",
       "1      24700.0             N       MORTGAGE  Fully Paid       Individual   \n",
       "2      20000.0             N       MORTGAGE  Fully Paid        Joint App   \n",
       "3      35000.0             N       MORTGAGE     Current       Individual   \n",
       "4      10400.0             N       MORTGAGE  Fully Paid       Individual   \n",
       "\n",
       "    issue_d  policy_code  Applicant_Result  \n",
       "0  Dec-2015          1.0                 1  \n",
       "1  Dec-2015          1.0                 1  \n",
       "2  Dec-2015          1.0                 1  \n",
       "3  Dec-2015          1.0                 1  \n",
       "4  Dec-2015          1.0                 1  "
      ]
     },
     "execution_count": 33,
     "metadata": {},
     "output_type": "execute_result"
    }
   ],
   "source": [
    "accepted_project.head()"
   ]
  },
  {
   "cell_type": "markdown",
   "id": "50da7faf",
   "metadata": {},
   "source": [
    "Below, I am checking the each data type. If there is a column that does not have an appropriate data type, it will be changed after the NA values are dealt with."
   ]
  },
  {
   "cell_type": "code",
   "execution_count": 34,
   "id": "b7f2c8b2",
   "metadata": {},
   "outputs": [
    {
     "name": "stdout",
     "output_type": "stream",
     "text": [
      "<class 'pandas.core.frame.DataFrame'>\n",
      "RangeIndex: 2260701 entries, 0 to 2260700\n",
      "Data columns (total 17 columns):\n",
      " #   Column                Dtype  \n",
      "---  ------                -----  \n",
      " 0   loan_amnt             float64\n",
      " 1   title                 object \n",
      " 2   last_fico_range_low   float64\n",
      " 3   last_fico_range_high  float64\n",
      " 4   dti                   float64\n",
      " 5   zip_code              object \n",
      " 6   addr_state            object \n",
      " 7   emp_length            object \n",
      " 8   emp_title             object \n",
      " 9   funded_amnt           float64\n",
      " 10  hardship_flag         object \n",
      " 11  home_ownership        object \n",
      " 12  loan_status           object \n",
      " 13  application_type      object \n",
      " 14  issue_d               object \n",
      " 15  policy_code           float64\n",
      " 16  Applicant_Result      int64  \n",
      "dtypes: float64(6), int64(1), object(10)\n",
      "memory usage: 293.2+ MB\n"
     ]
    }
   ],
   "source": [
    "accepted_project.info()"
   ]
  },
  {
   "cell_type": "code",
   "execution_count": 35,
   "id": "0a78b2f7",
   "metadata": {},
   "outputs": [
    {
     "data": {
      "text/plain": [
       "MORTGAGE    1111450\n",
       "RENT         894929\n",
       "OWN          253057\n",
       "ANY             996\n",
       "OTHER           182\n",
       "NONE             54\n",
       "Name: home_ownership, dtype: int64"
      ]
     },
     "execution_count": 35,
     "metadata": {},
     "output_type": "execute_result"
    }
   ],
   "source": [
    "accepted_project['home_ownership'].value_counts()"
   ]
  },
  {
   "cell_type": "code",
   "execution_count": 36,
   "id": "b975e091",
   "metadata": {},
   "outputs": [
    {
     "data": {
      "text/plain": [
       "Fully Paid                                             1076751\n",
       "Current                                                 878317\n",
       "Charged Off                                             268559\n",
       "Late (31-120 days)                                       21467\n",
       "In Grace Period                                           8436\n",
       "Late (16-30 days)                                         4349\n",
       "Does not meet the credit policy. Status:Fully Paid        1988\n",
       "Does not meet the credit policy. Status:Charged Off        761\n",
       "Default                                                     40\n",
       "Name: loan_status, dtype: int64"
      ]
     },
     "execution_count": 36,
     "metadata": {},
     "output_type": "execute_result"
    }
   ],
   "source": [
    "accepted_project['loan_status'].value_counts()"
   ]
  },
  {
   "cell_type": "code",
   "execution_count": 37,
   "id": "2697a8fe",
   "metadata": {},
   "outputs": [
    {
     "data": {
      "text/plain": [
       "Individual    2139958\n",
       "Joint App      120710\n",
       "Name: application_type, dtype: int64"
      ]
     },
     "execution_count": 37,
     "metadata": {},
     "output_type": "execute_result"
    }
   ],
   "source": [
    "accepted_project['application_type'].value_counts()"
   ]
  },
  {
   "cell_type": "code",
   "execution_count": 38,
   "id": "2500c320",
   "metadata": {},
   "outputs": [
    {
     "data": {
      "text/plain": [
       "emp_title               167002\n",
       "emp_length              146940\n",
       "title                    23358\n",
       "dti                       1744\n",
       "zip_code                    34\n",
       "home_ownership              33\n",
       "policy_code                 33\n",
       "issue_d                     33\n",
       "application_type            33\n",
       "loan_status                 33\n",
       "loan_amnt                   33\n",
       "hardship_flag               33\n",
       "funded_amnt                 33\n",
       "addr_state                  33\n",
       "last_fico_range_high        33\n",
       "last_fico_range_low         33\n",
       "Applicant_Result             0\n",
       "dtype: int64"
      ]
     },
     "execution_count": 38,
     "metadata": {},
     "output_type": "execute_result"
    }
   ],
   "source": [
    "accepted_project.isnull().sum().sort_values(ascending = False)"
   ]
  },
  {
   "cell_type": "markdown",
   "id": "95d25368",
   "metadata": {},
   "source": [
    "accepted_project_cut = accepted_project.dropna(axis=0)"
   ]
  },
  {
   "cell_type": "markdown",
   "id": "fce4fb6c",
   "metadata": {},
   "source": [
    "len(accepted_project_cut)/len(accepted_project) = 0.9168417229876927"
   ]
  },
  {
   "cell_type": "markdown",
   "id": "998d4bee",
   "metadata": {},
   "source": [
    "I think that having over 90% is acceptable."
   ]
  },
  {
   "cell_type": "code",
   "execution_count": 39,
   "id": "8144618a",
   "metadata": {},
   "outputs": [
    {
     "name": "stderr",
     "output_type": "stream",
     "text": [
      "C:\\Users\\orteg\\AppData\\Local\\Temp\\ipykernel_51756\\1057871221.py:1: SettingWithCopyWarning: \n",
      "A value is trying to be set on a copy of a slice from a DataFrame\n",
      "\n",
      "See the caveats in the documentation: https://pandas.pydata.org/pandas-docs/stable/user_guide/indexing.html#returning-a-view-versus-a-copy\n",
      "  accepted_project.dropna(axis=0, inplace=True)\n"
     ]
    }
   ],
   "source": [
    "accepted_project.dropna(axis=0, inplace=True)"
   ]
  },
  {
   "cell_type": "code",
   "execution_count": 40,
   "id": "bee1b69d",
   "metadata": {},
   "outputs": [
    {
     "name": "stderr",
     "output_type": "stream",
     "text": [
      "C:\\Users\\orteg\\AppData\\Local\\Temp\\ipykernel_51756\\239753879.py:1: SettingWithCopyWarning: \n",
      "A value is trying to be set on a copy of a slice from a DataFrame.\n",
      "Try using .loc[row_indexer,col_indexer] = value instead\n",
      "\n",
      "See the caveats in the documentation: https://pandas.pydata.org/pandas-docs/stable/user_guide/indexing.html#returning-a-view-versus-a-copy\n",
      "  accepted_project['last_fico_range_low'] = accepted_project['last_fico_range_low'].astype('int64')\n",
      "C:\\Users\\orteg\\AppData\\Local\\Temp\\ipykernel_51756\\239753879.py:2: SettingWithCopyWarning: \n",
      "A value is trying to be set on a copy of a slice from a DataFrame.\n",
      "Try using .loc[row_indexer,col_indexer] = value instead\n",
      "\n",
      "See the caveats in the documentation: https://pandas.pydata.org/pandas-docs/stable/user_guide/indexing.html#returning-a-view-versus-a-copy\n",
      "  accepted_project['last_fico_range_high'] = accepted_project['last_fico_range_high'].astype('int64')\n",
      "C:\\Users\\orteg\\AppData\\Local\\Temp\\ipykernel_51756\\239753879.py:3: SettingWithCopyWarning: \n",
      "A value is trying to be set on a copy of a slice from a DataFrame.\n",
      "Try using .loc[row_indexer,col_indexer] = value instead\n",
      "\n",
      "See the caveats in the documentation: https://pandas.pydata.org/pandas-docs/stable/user_guide/indexing.html#returning-a-view-versus-a-copy\n",
      "  accepted_project['policy_code'] = accepted_project['policy_code'].astype('int64')\n"
     ]
    }
   ],
   "source": [
    "accepted_project['last_fico_range_low'] = accepted_project['last_fico_range_low'].astype('int64')\n",
    "accepted_project['last_fico_range_high'] = accepted_project['last_fico_range_high'].astype('int64')\n",
    "accepted_project['policy_code'] = accepted_project['policy_code'].astype('int64')"
   ]
  },
  {
   "cell_type": "code",
   "execution_count": 41,
   "id": "dfbd184b",
   "metadata": {},
   "outputs": [],
   "source": [
    "accepted_project.reset_index(drop=True, inplace=True)"
   ]
  },
  {
   "cell_type": "code",
   "execution_count": 42,
   "id": "91760776",
   "metadata": {},
   "outputs": [
    {
     "name": "stdout",
     "output_type": "stream",
     "text": [
      "<class 'pandas.core.frame.DataFrame'>\n",
      "RangeIndex: 2072705 entries, 0 to 2072704\n",
      "Data columns (total 17 columns):\n",
      " #   Column                Dtype  \n",
      "---  ------                -----  \n",
      " 0   loan_amnt             float64\n",
      " 1   title                 object \n",
      " 2   last_fico_range_low   int64  \n",
      " 3   last_fico_range_high  int64  \n",
      " 4   dti                   float64\n",
      " 5   zip_code              object \n",
      " 6   addr_state            object \n",
      " 7   emp_length            object \n",
      " 8   emp_title             object \n",
      " 9   funded_amnt           float64\n",
      " 10  hardship_flag         object \n",
      " 11  home_ownership        object \n",
      " 12  loan_status           object \n",
      " 13  application_type      object \n",
      " 14  issue_d               object \n",
      " 15  policy_code           int64  \n",
      " 16  Applicant_Result      int64  \n",
      "dtypes: float64(3), int64(4), object(10)\n",
      "memory usage: 268.8+ MB\n"
     ]
    }
   ],
   "source": [
    "accepted_project.info()"
   ]
  },
  {
   "cell_type": "code",
   "execution_count": 43,
   "id": "2e4a8ad4",
   "metadata": {},
   "outputs": [],
   "source": [
    "#accepted_project.to_csv(\"accepted_only_data.csv\")"
   ]
  },
  {
   "cell_type": "markdown",
   "id": "437d2436",
   "metadata": {},
   "source": [
    "### Process the Rejected Dataset and Combine Accepted into Equally Split Dataset"
   ]
  },
  {
   "cell_type": "code",
   "execution_count": 44,
   "id": "43d295f5",
   "metadata": {},
   "outputs": [
    {
     "name": "stdout",
     "output_type": "stream",
     "text": [
      "<class 'pandas.core.frame.DataFrame'>\n",
      "RangeIndex: 27648741 entries, 0 to 27648740\n",
      "Data columns (total 10 columns):\n",
      " #   Column                Dtype  \n",
      "---  ------                -----  \n",
      " 0   Amount Requested      float64\n",
      " 1   Application Date      object \n",
      " 2   Loan Title            object \n",
      " 3   Risk_Score            float64\n",
      " 4   Debt-To-Income Ratio  object \n",
      " 5   Zip Code              object \n",
      " 6   State                 object \n",
      " 7   Employment Length     object \n",
      " 8   Policy Code           float64\n",
      " 9   Applicant_Result      int64  \n",
      "dtypes: float64(3), int64(1), object(6)\n",
      "memory usage: 2.1+ GB\n"
     ]
    }
   ],
   "source": [
    "rejected.info()"
   ]
  },
  {
   "cell_type": "code",
   "execution_count": 45,
   "id": "d58618b3",
   "metadata": {},
   "outputs": [
    {
     "data": {
      "text/plain": [
       "Amount Requested               0\n",
       "Application Date               0\n",
       "Loan Title                  1303\n",
       "Risk_Score              18497630\n",
       "Debt-To-Income Ratio           0\n",
       "Zip Code                     293\n",
       "State                         22\n",
       "Employment Length         951355\n",
       "Policy Code                  918\n",
       "Applicant_Result               0\n",
       "dtype: int64"
      ]
     },
     "execution_count": 45,
     "metadata": {},
     "output_type": "execute_result"
    }
   ],
   "source": [
    "rejected.isnull().sum()"
   ]
  },
  {
   "cell_type": "markdown",
   "id": "a10bc25c",
   "metadata": {},
   "source": [
    "Risk Score has too many missing values and will be excluded from the dataset."
   ]
  },
  {
   "cell_type": "code",
   "execution_count": 46,
   "id": "a9a9b088",
   "metadata": {},
   "outputs": [],
   "source": [
    "trimmed_rejected = rejected.drop(['Risk_Score'], axis=1)"
   ]
  },
  {
   "cell_type": "code",
   "execution_count": 47,
   "id": "b18d5b3a",
   "metadata": {},
   "outputs": [
    {
     "name": "stdout",
     "output_type": "stream",
     "text": [
      "<class 'pandas.core.frame.DataFrame'>\n",
      "RangeIndex: 27648741 entries, 0 to 27648740\n",
      "Data columns (total 9 columns):\n",
      " #   Column                Dtype  \n",
      "---  ------                -----  \n",
      " 0   Amount Requested      float64\n",
      " 1   Application Date      object \n",
      " 2   Loan Title            object \n",
      " 3   Debt-To-Income Ratio  object \n",
      " 4   Zip Code              object \n",
      " 5   State                 object \n",
      " 6   Employment Length     object \n",
      " 7   Policy Code           float64\n",
      " 8   Applicant_Result      int64  \n",
      "dtypes: float64(2), int64(1), object(6)\n",
      "memory usage: 1.9+ GB\n"
     ]
    }
   ],
   "source": [
    "trimmed_rejected.info()"
   ]
  },
  {
   "cell_type": "code",
   "execution_count": 48,
   "id": "1beec37d",
   "metadata": {},
   "outputs": [
    {
     "data": {
      "text/plain": [
       "0.03440861918450464"
      ]
     },
     "execution_count": 48,
     "metadata": {},
     "output_type": "execute_result"
    }
   ],
   "source": [
    "trimmed_rejected['Employment Length'].isnull().sum()/len(trimmed_rejected)"
   ]
  },
  {
   "cell_type": "markdown",
   "id": "e566f823",
   "metadata": {},
   "source": [
    "In a similar case to the accepted dataset, the missing data does not make up a large percentage of the data. I will drop the missing rows instead of imputing."
   ]
  },
  {
   "cell_type": "code",
   "execution_count": 49,
   "id": "fdfd3a8e",
   "metadata": {},
   "outputs": [],
   "source": [
    "trimmed_rejected.dropna(axis=0, inplace=True)"
   ]
  },
  {
   "cell_type": "code",
   "execution_count": 50,
   "id": "16b0f8f6",
   "metadata": {},
   "outputs": [],
   "source": [
    "trimmed_rejected.reset_index(drop=True, inplace=True)"
   ]
  },
  {
   "cell_type": "code",
   "execution_count": 51,
   "id": "778766b8",
   "metadata": {},
   "outputs": [],
   "source": [
    "trimmed_rejected['Policy Code'] = trimmed_rejected['Policy Code'].astype('int64')"
   ]
  },
  {
   "cell_type": "code",
   "execution_count": 52,
   "id": "f3052619",
   "metadata": {},
   "outputs": [
    {
     "name": "stdout",
     "output_type": "stream",
     "text": [
      "<class 'pandas.core.frame.DataFrame'>\n",
      "RangeIndex: 26694971 entries, 0 to 26694970\n",
      "Data columns (total 9 columns):\n",
      " #   Column                Dtype  \n",
      "---  ------                -----  \n",
      " 0   Amount Requested      float64\n",
      " 1   Application Date      object \n",
      " 2   Loan Title            object \n",
      " 3   Debt-To-Income Ratio  object \n",
      " 4   Zip Code              object \n",
      " 5   State                 object \n",
      " 6   Employment Length     object \n",
      " 7   Policy Code           int64  \n",
      " 8   Applicant_Result      int64  \n",
      "dtypes: float64(1), int64(2), object(6)\n",
      "memory usage: 1.8+ GB\n"
     ]
    }
   ],
   "source": [
    "trimmed_rejected.info()"
   ]
  },
  {
   "cell_type": "code",
   "execution_count": 53,
   "id": "5bcbd278",
   "metadata": {},
   "outputs": [],
   "source": [
    "trimmed_rejected['Debt-To-Income Ratio'] = trimmed_rejected['Debt-To-Income Ratio'].str.replace('%', '', regex=True)"
   ]
  },
  {
   "cell_type": "code",
   "execution_count": 54,
   "id": "2dcdcf78",
   "metadata": {},
   "outputs": [],
   "source": [
    "trimmed_rejected['Debt-To-Income Ratio'] = trimmed_rejected['Debt-To-Income Ratio'].astype('float64')"
   ]
  },
  {
   "cell_type": "markdown",
   "id": "bb7f42f5",
   "metadata": {},
   "source": [
    "#### Checking the Data for Both Accepted and Rejected"
   ]
  },
  {
   "cell_type": "code",
   "execution_count": 55,
   "id": "ded3441b",
   "metadata": {},
   "outputs": [
    {
     "name": "stdout",
     "output_type": "stream",
     "text": [
      "10000.00     3807937\n",
      "5000.00      2943174\n",
      "20000.00     1957945\n",
      "1000.00      1739882\n",
      "15000.00     1720088\n",
      "              ...   \n",
      "231000.00          1\n",
      "102325.00          1\n",
      "11742.49           1\n",
      "62600.00           1\n",
      "64075.00           1\n",
      "Name: Amount Requested, Length: 3637, dtype: int64\n",
      "2018-12-04    40375\n",
      "2018-05-14    39545\n",
      "2018-09-12    39502\n",
      "2018-12-05    38671\n",
      "2018-05-15    38366\n",
      "              ...  \n",
      "2007-08-19        2\n",
      "2007-06-16        2\n",
      "2007-07-28        2\n",
      "2007-05-26        2\n",
      "2007-06-07        1\n",
      "Name: Application Date, Length: 4238, dtype: int64\n",
      "Debt consolidation              6238316\n",
      "debt_consolidation              5730413\n",
      "Other                           2554408\n",
      "Credit card refinancing         2236885\n",
      "other                           1922835\n",
      "                                 ...   \n",
      "BORROWER LOOKING FOR HELP.            1\n",
      "Need loan to expand business          1\n",
      "Visa Credit Card Refinance            1\n",
      "Getting ahead at 21!                  1\n",
      "Business Advertising Loan             1\n",
      "Name: Loan Title, Length: 70129, dtype: int64\n",
      " 100.00      1331536\n",
      "-1.00        1163648\n",
      " 0.00         986339\n",
      " 9999.00       75821\n",
      " 1.20          31316\n",
      "              ...   \n",
      " 867.05            1\n",
      " 2221.81           1\n",
      " 870.62            1\n",
      " 13753.82          1\n",
      " 21215.75          1\n",
      "Name: Debt-To-Income Ratio, Length: 125367, dtype: int64\n",
      "112xx    260560\n",
      "770xx    257061\n",
      "300xx    253830\n",
      "331xx    239779\n",
      "606xx    228239\n",
      "          ...  \n",
      "869xx        10\n",
      "419xx        10\n",
      "699xx         8\n",
      "579xx         3\n",
      "09Oxx         1\n",
      "Name: Zip Code, Length: 1001, dtype: int64\n",
      "CA    3140714\n",
      "TX    2419757\n",
      "FL    2085259\n",
      "NY    1932017\n",
      "GA    1047469\n",
      "PA    1009405\n",
      "OH     973144\n",
      "IL     970291\n",
      "NC     830272\n",
      "NJ     828129\n",
      "MI     724855\n",
      "VA     715726\n",
      "MD     578250\n",
      "AZ     566816\n",
      "TN     553277\n",
      "MA     530388\n",
      "IN     498652\n",
      "WA     479672\n",
      "MO     476837\n",
      "AL     471026\n",
      "CO     456374\n",
      "SC     448731\n",
      "LA     405858\n",
      "WI     349057\n",
      "MN     348952\n",
      "KY     334529\n",
      "CT     329309\n",
      "NV     320914\n",
      "OK     293630\n",
      "AR     278452\n",
      "OR     271928\n",
      "MS     264934\n",
      "KS     222514\n",
      "UT     174548\n",
      "NM     158418\n",
      "HI     151256\n",
      "NH     113582\n",
      "NE     109250\n",
      "RI     108341\n",
      "WV     101771\n",
      "DE      90678\n",
      "ID      76867\n",
      "ME      74909\n",
      "MT      68722\n",
      "AK      58484\n",
      "SD      55106\n",
      "DC      51314\n",
      "VT      49643\n",
      "WY      48090\n",
      "ND      46403\n",
      "IA        451\n",
      "Name: State, dtype: int64\n",
      "< 1 year     22992671\n",
      "5 years       2279420\n",
      "10+ years      416035\n",
      "1 year         267786\n",
      "2 years        199135\n",
      "3 years        177280\n",
      "4 years        121573\n",
      "6 years         71583\n",
      "8 years         65940\n",
      "7 years         55627\n",
      "9 years         47921\n",
      "Name: Employment Length, dtype: int64\n",
      "0    26613032\n",
      "2       81939\n",
      "Name: Policy Code, dtype: int64\n",
      "0    26694971\n",
      "Name: Applicant_Result, dtype: int64\n"
     ]
    }
   ],
   "source": [
    "#for column in trimmed_rejected.columns:\n",
    " #   print(trimmed_rejected[column].value_counts())"
   ]
  },
  {
   "cell_type": "code",
   "execution_count": 56,
   "id": "db25321f",
   "metadata": {},
   "outputs": [
    {
     "name": "stdout",
     "output_type": "stream",
     "text": [
      "10000.0    168425\n",
      "20000.0    121221\n",
      "15000.0    113487\n",
      "12000.0    113282\n",
      "35000.0     81851\n",
      "            ...  \n",
      "725.0           1\n",
      "950.0           1\n",
      "750.0           1\n",
      "925.0           1\n",
      "550.0           1\n",
      "Name: loan_amnt, Length: 1571, dtype: int64\n",
      "Debt consolidation           1071649\n",
      "Credit card refinancing       434772\n",
      "Home improvement              125079\n",
      "Other                         116275\n",
      "Major purchase                 41571\n",
      "                              ...   \n",
      "Paying it Forward~                 1\n",
      "final credit card pay off          1\n",
      "Short-term investment              1\n",
      "Old home loan                      1\n",
      "Credit Card Financing              1\n",
      "Name: title, Length: 59289, dtype: int64\n",
      "690    76757\n",
      "695    76051\n",
      "700    75458\n",
      "705    75449\n",
      "710    72740\n",
      "       ...  \n",
      "825     5029\n",
      "830     3078\n",
      "835     1494\n",
      "840      732\n",
      "845      326\n",
      "Name: last_fico_range_low, Length: 71, dtype: int64\n",
      "694    76757\n",
      "699    76051\n",
      "704    75458\n",
      "709    75449\n",
      "714    72740\n",
      "       ...  \n",
      "834     3078\n",
      "839     1494\n",
      "844      732\n",
      "850      326\n",
      "0        221\n",
      "Name: last_fico_range_high, Length: 72, dtype: int64\n",
      "19.20    1469\n",
      "14.40    1463\n",
      "18.00    1458\n",
      "16.80    1443\n",
      "15.60    1384\n",
      "         ... \n",
      "82.23       1\n",
      "80.88       1\n",
      "71.36       1\n",
      "73.06       1\n",
      "81.15       1\n",
      "Name: dti, Length: 9335, dtype: int64\n",
      "750xx    22511\n",
      "945xx    22103\n",
      "112xx    22050\n",
      "606xx    19701\n",
      "300xx    19049\n",
      "         ...  \n",
      "892xx        1\n",
      "269xx        1\n",
      "399xx        1\n",
      "521xx        1\n",
      "896xx        1\n",
      "Name: zip_code, Length: 954, dtype: int64\n",
      "CA    289977\n",
      "TX    173310\n",
      "NY    170783\n",
      "FL    145170\n",
      "IL     84315\n",
      "NJ     77099\n",
      "PA     70790\n",
      "OH     68429\n",
      "GA     67870\n",
      "VA     58679\n",
      "NC     56780\n",
      "MI     52328\n",
      "MD     50100\n",
      "MA     48505\n",
      "AZ     48455\n",
      "CO     44834\n",
      "WA     43308\n",
      "MN     37100\n",
      "IN     34383\n",
      "CT     33212\n",
      "MO     32948\n",
      "TN     32207\n",
      "NV     29032\n",
      "WI     27472\n",
      "SC     24978\n",
      "AL     24606\n",
      "OR     24156\n",
      "LA     23702\n",
      "KY     19805\n",
      "OK     18919\n",
      "KS     17617\n",
      "AR     15194\n",
      "UT     13981\n",
      "MS     11325\n",
      "NM     10707\n",
      "NH     10348\n",
      "HI      9960\n",
      "RI      9289\n",
      "WV      7457\n",
      "NE      7242\n",
      "DE      5838\n",
      "MT      5731\n",
      "DC      5082\n",
      "AK      4890\n",
      "VT      4535\n",
      "ME      4448\n",
      "WY      4437\n",
      "SD      4224\n",
      "ID      3772\n",
      "ND      3362\n",
      "IA        14\n",
      "Name: addr_state, dtype: int64\n",
      "10+ years    736219\n",
      "2 years      201225\n",
      "3 years      178287\n",
      "< 1 year     177140\n",
      "1 year       145770\n",
      "5 years      137541\n",
      "4 years      134795\n",
      "6 years      101287\n",
      "7 years       91516\n",
      "8 years       90583\n",
      "9 years       78342\n",
      "Name: emp_length, dtype: int64\n",
      "Teacher                          38471\n",
      "Manager                          33990\n",
      "Owner                            21524\n",
      "Registered Nurse                 15666\n",
      "RN                               14619\n",
      "                                 ...  \n",
      "setup/server                         1\n",
      "Director of Adult Servicesq          1\n",
      "Specialist Expeditor                 1\n",
      "Hospitality Territory Manager        1\n",
      "Current Operations Officer           1\n",
      "Name: emp_title, Length: 509336, dtype: int64\n",
      "10000.0    168341\n",
      "20000.0    121037\n",
      "15000.0    113374\n",
      "12000.0    113195\n",
      "35000.0     81726\n",
      "            ...  \n",
      "725.0           1\n",
      "950.0           1\n",
      "750.0           1\n",
      "925.0           1\n",
      "550.0           1\n",
      "Name: funded_amnt, Length: 1571, dtype: int64\n",
      "N    2071936\n",
      "Y        769\n",
      "Name: hardship_flag, dtype: int64\n",
      "MORTGAGE    1026198\n",
      "RENT         828421\n",
      "OWN          217129\n",
      "ANY             738\n",
      "OTHER           174\n",
      "NONE             45\n",
      "Name: home_ownership, dtype: int64\n",
      "Fully Paid                                             1002533\n",
      "Current                                                 794938\n",
      "Charged Off                                             241959\n",
      "Late (31-120 days)                                       19198\n",
      "In Grace Period                                           7662\n",
      "Late (16-30 days)                                         3794\n",
      "Does not meet the credit policy. Status:Fully Paid        1877\n",
      "Does not meet the credit policy. Status:Charged Off        710\n",
      "Default                                                     34\n",
      "Name: loan_status, dtype: int64\n",
      "Individual    1971341\n",
      "Joint App      101364\n",
      "Name: application_type, dtype: int64\n",
      "Mar-2016    53588\n",
      "Oct-2015    45683\n",
      "Jul-2015    43474\n",
      "May-2018    42539\n",
      "Dec-2015    41395\n",
      "            ...  \n",
      "Aug-2007       65\n",
      "Sep-2008       54\n",
      "Jul-2007       53\n",
      "Sep-2007       49\n",
      "Jun-2007       19\n",
      "Name: issue_d, Length: 139, dtype: int64\n",
      "1    2072705\n",
      "Name: policy_code, dtype: int64\n",
      "1    2072705\n",
      "Name: Applicant_Result, dtype: int64\n"
     ]
    }
   ],
   "source": [
    "#for column in accepted_project.columns:\n",
    " #   print(accepted_project[column].value_counts())"
   ]
  },
  {
   "cell_type": "code",
   "execution_count": 57,
   "id": "9a7c26ab",
   "metadata": {},
   "outputs": [],
   "source": [
    "matching_columns_accepted = ['loan_amnt', 'title', 'dti', 'zip_code', 'addr_state', 'emp_length', 'policy_code', \n",
    "                             'Applicant_Result']"
   ]
  },
  {
   "cell_type": "code",
   "execution_count": 58,
   "id": "092b0499",
   "metadata": {},
   "outputs": [],
   "source": [
    "matching_columns_rejected = ['Amount Requested', 'Loan Title', 'Debt-To-Income Ratio', 'Zip Code', 'State', 'Employment Length', \n",
    "                             'Policy Code', 'Applicant_Result']"
   ]
  },
  {
   "cell_type": "code",
   "execution_count": 59,
   "id": "86a47f46",
   "metadata": {},
   "outputs": [],
   "source": [
    "rand_accepted = accepted_project[matching_columns_accepted].sample(n = 100000, random_state = 42, replace = False)"
   ]
  },
  {
   "cell_type": "code",
   "execution_count": 60,
   "id": "58a82ecd",
   "metadata": {},
   "outputs": [],
   "source": [
    "rand_accepted.rename(columns={\"Applicant_Result\": \"applicant_result\", \"loan_amnt\": \"amount_requested\", \"dti\": \"debt_to_income_ratio\", \n",
    "                             \"addr_state\": \"state\", \"title\": \"reason_for_loan\"}, inplace=True)"
   ]
  },
  {
   "cell_type": "code",
   "execution_count": 61,
   "id": "ead45e7b",
   "metadata": {},
   "outputs": [],
   "source": [
    "rand_rejected = trimmed_rejected[matching_columns_rejected].sample(n = 100000, random_state = 42, replace = False)"
   ]
  },
  {
   "cell_type": "code",
   "execution_count": 62,
   "id": "e33553ab",
   "metadata": {},
   "outputs": [],
   "source": [
    "rand_rejected.rename(columns={\"Applicant_Result\": \"applicant_result\", \"Amount Requested\": \"amount_requested\", \n",
    "                              \"Loan Title\": \"reason_for_loan\", \"Zip Code\": \"zip_code\", \"Debt-To-Income Ratio\": \"debt_to_income_ratio\", \n",
    "                             \"State\": \"state\", \"Policy Code\": \"policy_code\", \"Employment Length\": \"emp_length\"}, inplace=True)"
   ]
  },
  {
   "cell_type": "code",
   "execution_count": 63,
   "id": "0fdfbe98",
   "metadata": {},
   "outputs": [],
   "source": [
    "learning_data = pd.concat([rand_accepted, rand_rejected], axis=0, ignore_index=True)"
   ]
  },
  {
   "cell_type": "code",
   "execution_count": 64,
   "id": "ee2236f0",
   "metadata": {},
   "outputs": [
    {
     "data": {
      "text/html": [
       "<div>\n",
       "<style scoped>\n",
       "    .dataframe tbody tr th:only-of-type {\n",
       "        vertical-align: middle;\n",
       "    }\n",
       "\n",
       "    .dataframe tbody tr th {\n",
       "        vertical-align: top;\n",
       "    }\n",
       "\n",
       "    .dataframe thead th {\n",
       "        text-align: right;\n",
       "    }\n",
       "</style>\n",
       "<table border=\"1\" class=\"dataframe\">\n",
       "  <thead>\n",
       "    <tr style=\"text-align: right;\">\n",
       "      <th></th>\n",
       "      <th>amount_requested</th>\n",
       "      <th>reason_for_loan</th>\n",
       "      <th>debt_to_income_ratio</th>\n",
       "      <th>zip_code</th>\n",
       "      <th>state</th>\n",
       "      <th>emp_length</th>\n",
       "      <th>policy_code</th>\n",
       "      <th>applicant_result</th>\n",
       "    </tr>\n",
       "  </thead>\n",
       "  <tbody>\n",
       "    <tr>\n",
       "      <th>0</th>\n",
       "      <td>9600.0</td>\n",
       "      <td>Credit card refinancing</td>\n",
       "      <td>24.45</td>\n",
       "      <td>816xx</td>\n",
       "      <td>CO</td>\n",
       "      <td>4 years</td>\n",
       "      <td>1</td>\n",
       "      <td>1</td>\n",
       "    </tr>\n",
       "    <tr>\n",
       "      <th>1</th>\n",
       "      <td>6000.0</td>\n",
       "      <td>Home improvement</td>\n",
       "      <td>14.34</td>\n",
       "      <td>210xx</td>\n",
       "      <td>MD</td>\n",
       "      <td>10+ years</td>\n",
       "      <td>1</td>\n",
       "      <td>1</td>\n",
       "    </tr>\n",
       "    <tr>\n",
       "      <th>2</th>\n",
       "      <td>10000.0</td>\n",
       "      <td>Debt consolidation</td>\n",
       "      <td>25.35</td>\n",
       "      <td>890xx</td>\n",
       "      <td>NV</td>\n",
       "      <td>7 years</td>\n",
       "      <td>1</td>\n",
       "      <td>1</td>\n",
       "    </tr>\n",
       "    <tr>\n",
       "      <th>3</th>\n",
       "      <td>25000.0</td>\n",
       "      <td>Debt consolidation</td>\n",
       "      <td>7.17</td>\n",
       "      <td>640xx</td>\n",
       "      <td>MO</td>\n",
       "      <td>5 years</td>\n",
       "      <td>1</td>\n",
       "      <td>1</td>\n",
       "    </tr>\n",
       "    <tr>\n",
       "      <th>4</th>\n",
       "      <td>2000.0</td>\n",
       "      <td>Other</td>\n",
       "      <td>9.30</td>\n",
       "      <td>923xx</td>\n",
       "      <td>CA</td>\n",
       "      <td>4 years</td>\n",
       "      <td>1</td>\n",
       "      <td>1</td>\n",
       "    </tr>\n",
       "  </tbody>\n",
       "</table>\n",
       "</div>"
      ],
      "text/plain": [
       "   amount_requested          reason_for_loan  debt_to_income_ratio zip_code  \\\n",
       "0            9600.0  Credit card refinancing                 24.45    816xx   \n",
       "1            6000.0         Home improvement                 14.34    210xx   \n",
       "2           10000.0       Debt consolidation                 25.35    890xx   \n",
       "3           25000.0       Debt consolidation                  7.17    640xx   \n",
       "4            2000.0                    Other                  9.30    923xx   \n",
       "\n",
       "  state emp_length  policy_code  applicant_result  \n",
       "0    CO    4 years            1                 1  \n",
       "1    MD  10+ years            1                 1  \n",
       "2    NV    7 years            1                 1  \n",
       "3    MO    5 years            1                 1  \n",
       "4    CA    4 years            1                 1  "
      ]
     },
     "execution_count": 64,
     "metadata": {},
     "output_type": "execute_result"
    }
   ],
   "source": [
    "learning_data.head()"
   ]
  },
  {
   "cell_type": "code",
   "execution_count": 65,
   "id": "6a6e2ab0",
   "metadata": {},
   "outputs": [
    {
     "name": "stdout",
     "output_type": "stream",
     "text": [
      "<class 'pandas.core.frame.DataFrame'>\n",
      "RangeIndex: 200000 entries, 0 to 199999\n",
      "Data columns (total 8 columns):\n",
      " #   Column                Non-Null Count   Dtype  \n",
      "---  ------                --------------   -----  \n",
      " 0   amount_requested      200000 non-null  float64\n",
      " 1   reason_for_loan       200000 non-null  object \n",
      " 2   debt_to_income_ratio  200000 non-null  float64\n",
      " 3   zip_code              200000 non-null  object \n",
      " 4   state                 200000 non-null  object \n",
      " 5   emp_length            200000 non-null  object \n",
      " 6   policy_code           200000 non-null  int64  \n",
      " 7   applicant_result      200000 non-null  int64  \n",
      "dtypes: float64(2), int64(2), object(4)\n",
      "memory usage: 12.2+ MB\n"
     ]
    }
   ],
   "source": [
    "learning_data.info()"
   ]
  },
  {
   "cell_type": "code",
   "execution_count": 66,
   "id": "ae316033",
   "metadata": {},
   "outputs": [
    {
     "data": {
      "text/plain": [
       "1    100000\n",
       "0     99682\n",
       "2       318\n",
       "Name: policy_code, dtype: int64"
      ]
     },
     "execution_count": 66,
     "metadata": {},
     "output_type": "execute_result"
    }
   ],
   "source": [
    "learning_data['policy_code'].value_counts()"
   ]
  },
  {
   "cell_type": "markdown",
   "id": "f81f5bc4",
   "metadata": {},
   "source": [
    "Because there is such a high count of 1 values from the accepted dataset, I will assume that 0 is 1 and 2 is 2 in the rejected dataset."
   ]
  },
  {
   "cell_type": "code",
   "execution_count": 67,
   "id": "37b83ae3",
   "metadata": {},
   "outputs": [],
   "source": [
    "learning_data['policy_code'] = learning_data['policy_code'].replace(to_replace=0,value=1)"
   ]
  },
  {
   "cell_type": "code",
   "execution_count": 68,
   "id": "35ff1c9c",
   "metadata": {},
   "outputs": [
    {
     "data": {
      "text/plain": [
       "1    199682\n",
       "2       318\n",
       "Name: policy_code, dtype: int64"
      ]
     },
     "execution_count": 68,
     "metadata": {},
     "output_type": "execute_result"
    }
   ],
   "source": [
    "learning_data['policy_code'].value_counts()"
   ]
  },
  {
   "cell_type": "code",
   "execution_count": 69,
   "id": "0442fe27",
   "metadata": {},
   "outputs": [],
   "source": [
    "zip_df.to_csv(\"zip_only_data.csv\")"
   ]
  },
  {
   "cell_type": "code",
   "execution_count": 70,
   "id": "db894684",
   "metadata": {},
   "outputs": [],
   "source": [
    "learning_data.to_csv(\"model_only_data.csv\")"
   ]
  },
  {
   "cell_type": "code",
   "execution_count": 71,
   "id": "ae114132",
   "metadata": {},
   "outputs": [],
   "source": [
    "accepted_project.to_csv(\"accepted_only_data.csv\")"
   ]
  },
  {
   "cell_type": "code",
   "execution_count": null,
   "id": "bbd1ed38",
   "metadata": {},
   "outputs": [],
   "source": []
  }
 ],
 "metadata": {
  "kernelspec": {
   "display_name": "Python 3 (ipykernel)",
   "language": "python",
   "name": "python3"
  },
  "language_info": {
   "codemirror_mode": {
    "name": "ipython",
    "version": 3
   },
   "file_extension": ".py",
   "mimetype": "text/x-python",
   "name": "python",
   "nbconvert_exporter": "python",
   "pygments_lexer": "ipython3",
   "version": "3.9.7"
  }
 },
 "nbformat": 4,
 "nbformat_minor": 5
}
