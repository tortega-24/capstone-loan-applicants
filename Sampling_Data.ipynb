{
 "cells": [
  {
   "cell_type": "code",
   "execution_count": 1,
   "id": "ef415b4d",
   "metadata": {},
   "outputs": [],
   "source": [
    "import pandas as pd"
   ]
  },
  {
   "cell_type": "code",
   "execution_count": 2,
   "id": "62cb5208",
   "metadata": {},
   "outputs": [
    {
     "name": "stderr",
     "output_type": "stream",
     "text": [
      "C:\\Users\\orteg\\AppData\\Local\\Temp\\ipykernel_37076\\849300346.py:1: DtypeWarning: Columns (0,19,49,59,118,129,130,131,134,135,136,139,145,146,147) have mixed types. Specify dtype option on import or set low_memory=False.\n",
      "  df_one = pd.read_csv(\"accepted_2007_to_2018Q4.csv\")\n"
     ]
    }
   ],
   "source": [
    "df_one = pd.read_csv(\"accepted_2007_to_2018Q4.csv\")"
   ]
  },
  {
   "cell_type": "code",
   "execution_count": 3,
   "id": "e5f4ca9a",
   "metadata": {},
   "outputs": [
    {
     "data": {
      "text/plain": [
       "(2260701, 151)"
      ]
     },
     "execution_count": 3,
     "metadata": {},
     "output_type": "execute_result"
    }
   ],
   "source": [
    "df_one.shape"
   ]
  },
  {
   "cell_type": "code",
   "execution_count": 4,
   "id": "39d0634a",
   "metadata": {},
   "outputs": [],
   "source": [
    "df_two = pd.read_csv(\"rejected_2007_to_2018Q4.csv\")"
   ]
  },
  {
   "cell_type": "code",
   "execution_count": 5,
   "id": "d3cb7796",
   "metadata": {},
   "outputs": [
    {
     "data": {
      "text/plain": [
       "(27648741, 9)"
      ]
     },
     "execution_count": 5,
     "metadata": {},
     "output_type": "execute_result"
    }
   ],
   "source": [
    "df_two.shape"
   ]
  },
  {
   "cell_type": "code",
   "execution_count": 16,
   "id": "b1b163f8",
   "metadata": {},
   "outputs": [],
   "source": [
    "sample_two = df_two.sample(n = 100000, random_state = 42, replace = False)"
   ]
  },
  {
   "cell_type": "code",
   "execution_count": 11,
   "id": "f26a58f7",
   "metadata": {},
   "outputs": [
    {
     "data": {
      "text/plain": [
       "(100000, 9)"
      ]
     },
     "execution_count": 11,
     "metadata": {},
     "output_type": "execute_result"
    }
   ],
   "source": [
    "sample_two.shape"
   ]
  },
  {
   "cell_type": "code",
   "execution_count": 17,
   "id": "b3882d59",
   "metadata": {},
   "outputs": [],
   "source": [
    "sample_one = df_one.sample(n = 100000, random_state = 42, replace = False)"
   ]
  },
  {
   "cell_type": "code",
   "execution_count": 13,
   "id": "3111d9e3",
   "metadata": {},
   "outputs": [
    {
     "data": {
      "text/plain": [
       "(100000, 151)"
      ]
     },
     "execution_count": 13,
     "metadata": {},
     "output_type": "execute_result"
    }
   ],
   "source": [
    "sample_one.shape"
   ]
  },
  {
   "cell_type": "code",
   "execution_count": 18,
   "id": "d7678b32",
   "metadata": {},
   "outputs": [],
   "source": [
    "sample_one.reset_index(drop = True, inplace = True)\n",
    "sample_two.reset_index(drop = True, inplace = True)"
   ]
  },
  {
   "cell_type": "code",
   "execution_count": 19,
   "id": "71f3339e",
   "metadata": {},
   "outputs": [
    {
     "data": {
      "text/html": [
       "<div>\n",
       "<style scoped>\n",
       "    .dataframe tbody tr th:only-of-type {\n",
       "        vertical-align: middle;\n",
       "    }\n",
       "\n",
       "    .dataframe tbody tr th {\n",
       "        vertical-align: top;\n",
       "    }\n",
       "\n",
       "    .dataframe thead th {\n",
       "        text-align: right;\n",
       "    }\n",
       "</style>\n",
       "<table border=\"1\" class=\"dataframe\">\n",
       "  <thead>\n",
       "    <tr style=\"text-align: right;\">\n",
       "      <th></th>\n",
       "      <th>id</th>\n",
       "      <th>member_id</th>\n",
       "      <th>loan_amnt</th>\n",
       "      <th>funded_amnt</th>\n",
       "      <th>funded_amnt_inv</th>\n",
       "      <th>term</th>\n",
       "      <th>int_rate</th>\n",
       "      <th>installment</th>\n",
       "      <th>grade</th>\n",
       "      <th>sub_grade</th>\n",
       "      <th>...</th>\n",
       "      <th>hardship_payoff_balance_amount</th>\n",
       "      <th>hardship_last_payment_amount</th>\n",
       "      <th>disbursement_method</th>\n",
       "      <th>debt_settlement_flag</th>\n",
       "      <th>debt_settlement_flag_date</th>\n",
       "      <th>settlement_status</th>\n",
       "      <th>settlement_date</th>\n",
       "      <th>settlement_amount</th>\n",
       "      <th>settlement_percentage</th>\n",
       "      <th>settlement_term</th>\n",
       "    </tr>\n",
       "  </thead>\n",
       "  <tbody>\n",
       "    <tr>\n",
       "      <th>0</th>\n",
       "      <td>39651438</td>\n",
       "      <td>NaN</td>\n",
       "      <td>32000.0</td>\n",
       "      <td>32000.0</td>\n",
       "      <td>32000.0</td>\n",
       "      <td>60 months</td>\n",
       "      <td>10.49</td>\n",
       "      <td>687.65</td>\n",
       "      <td>B</td>\n",
       "      <td>B3</td>\n",
       "      <td>...</td>\n",
       "      <td>NaN</td>\n",
       "      <td>NaN</td>\n",
       "      <td>Cash</td>\n",
       "      <td>N</td>\n",
       "      <td>NaN</td>\n",
       "      <td>NaN</td>\n",
       "      <td>NaN</td>\n",
       "      <td>NaN</td>\n",
       "      <td>NaN</td>\n",
       "      <td>NaN</td>\n",
       "    </tr>\n",
       "    <tr>\n",
       "      <th>1</th>\n",
       "      <td>16411620</td>\n",
       "      <td>NaN</td>\n",
       "      <td>9600.0</td>\n",
       "      <td>9600.0</td>\n",
       "      <td>9600.0</td>\n",
       "      <td>36 months</td>\n",
       "      <td>12.99</td>\n",
       "      <td>323.42</td>\n",
       "      <td>C</td>\n",
       "      <td>C1</td>\n",
       "      <td>...</td>\n",
       "      <td>NaN</td>\n",
       "      <td>NaN</td>\n",
       "      <td>Cash</td>\n",
       "      <td>N</td>\n",
       "      <td>NaN</td>\n",
       "      <td>NaN</td>\n",
       "      <td>NaN</td>\n",
       "      <td>NaN</td>\n",
       "      <td>NaN</td>\n",
       "      <td>NaN</td>\n",
       "    </tr>\n",
       "    <tr>\n",
       "      <th>2</th>\n",
       "      <td>45122316</td>\n",
       "      <td>NaN</td>\n",
       "      <td>4000.0</td>\n",
       "      <td>4000.0</td>\n",
       "      <td>4000.0</td>\n",
       "      <td>36 months</td>\n",
       "      <td>6.68</td>\n",
       "      <td>122.93</td>\n",
       "      <td>A</td>\n",
       "      <td>A3</td>\n",
       "      <td>...</td>\n",
       "      <td>NaN</td>\n",
       "      <td>NaN</td>\n",
       "      <td>Cash</td>\n",
       "      <td>N</td>\n",
       "      <td>NaN</td>\n",
       "      <td>NaN</td>\n",
       "      <td>NaN</td>\n",
       "      <td>NaN</td>\n",
       "      <td>NaN</td>\n",
       "      <td>NaN</td>\n",
       "    </tr>\n",
       "    <tr>\n",
       "      <th>3</th>\n",
       "      <td>125356772</td>\n",
       "      <td>NaN</td>\n",
       "      <td>6025.0</td>\n",
       "      <td>6025.0</td>\n",
       "      <td>6025.0</td>\n",
       "      <td>36 months</td>\n",
       "      <td>10.91</td>\n",
       "      <td>197.00</td>\n",
       "      <td>B</td>\n",
       "      <td>B4</td>\n",
       "      <td>...</td>\n",
       "      <td>NaN</td>\n",
       "      <td>NaN</td>\n",
       "      <td>Cash</td>\n",
       "      <td>N</td>\n",
       "      <td>NaN</td>\n",
       "      <td>NaN</td>\n",
       "      <td>NaN</td>\n",
       "      <td>NaN</td>\n",
       "      <td>NaN</td>\n",
       "      <td>NaN</td>\n",
       "    </tr>\n",
       "    <tr>\n",
       "      <th>4</th>\n",
       "      <td>128490686</td>\n",
       "      <td>NaN</td>\n",
       "      <td>25000.0</td>\n",
       "      <td>25000.0</td>\n",
       "      <td>25000.0</td>\n",
       "      <td>60 months</td>\n",
       "      <td>26.30</td>\n",
       "      <td>752.96</td>\n",
       "      <td>E</td>\n",
       "      <td>E5</td>\n",
       "      <td>...</td>\n",
       "      <td>NaN</td>\n",
       "      <td>NaN</td>\n",
       "      <td>Cash</td>\n",
       "      <td>N</td>\n",
       "      <td>NaN</td>\n",
       "      <td>NaN</td>\n",
       "      <td>NaN</td>\n",
       "      <td>NaN</td>\n",
       "      <td>NaN</td>\n",
       "      <td>NaN</td>\n",
       "    </tr>\n",
       "  </tbody>\n",
       "</table>\n",
       "<p>5 rows × 151 columns</p>\n",
       "</div>"
      ],
      "text/plain": [
       "          id  member_id  loan_amnt  funded_amnt  funded_amnt_inv        term  \\\n",
       "0   39651438        NaN    32000.0      32000.0          32000.0   60 months   \n",
       "1   16411620        NaN     9600.0       9600.0           9600.0   36 months   \n",
       "2   45122316        NaN     4000.0       4000.0           4000.0   36 months   \n",
       "3  125356772        NaN     6025.0       6025.0           6025.0   36 months   \n",
       "4  128490686        NaN    25000.0      25000.0          25000.0   60 months   \n",
       "\n",
       "   int_rate  installment grade sub_grade  ... hardship_payoff_balance_amount  \\\n",
       "0     10.49       687.65     B        B3  ...                            NaN   \n",
       "1     12.99       323.42     C        C1  ...                            NaN   \n",
       "2      6.68       122.93     A        A3  ...                            NaN   \n",
       "3     10.91       197.00     B        B4  ...                            NaN   \n",
       "4     26.30       752.96     E        E5  ...                            NaN   \n",
       "\n",
       "  hardship_last_payment_amount disbursement_method  debt_settlement_flag  \\\n",
       "0                          NaN                Cash                     N   \n",
       "1                          NaN                Cash                     N   \n",
       "2                          NaN                Cash                     N   \n",
       "3                          NaN                Cash                     N   \n",
       "4                          NaN                Cash                     N   \n",
       "\n",
       "  debt_settlement_flag_date settlement_status settlement_date  \\\n",
       "0                       NaN               NaN             NaN   \n",
       "1                       NaN               NaN             NaN   \n",
       "2                       NaN               NaN             NaN   \n",
       "3                       NaN               NaN             NaN   \n",
       "4                       NaN               NaN             NaN   \n",
       "\n",
       "  settlement_amount settlement_percentage settlement_term  \n",
       "0               NaN                   NaN             NaN  \n",
       "1               NaN                   NaN             NaN  \n",
       "2               NaN                   NaN             NaN  \n",
       "3               NaN                   NaN             NaN  \n",
       "4               NaN                   NaN             NaN  \n",
       "\n",
       "[5 rows x 151 columns]"
      ]
     },
     "execution_count": 19,
     "metadata": {},
     "output_type": "execute_result"
    }
   ],
   "source": [
    "sample_one.head()"
   ]
  },
  {
   "cell_type": "code",
   "execution_count": 20,
   "id": "3cd768aa",
   "metadata": {},
   "outputs": [],
   "source": [
    "sample_two.to_csv(\"rejected_customers.csv\")"
   ]
  },
  {
   "cell_type": "code",
   "execution_count": 27,
   "id": "b9784432",
   "metadata": {},
   "outputs": [
    {
     "data": {
      "text/plain": [
       "member_id                                     100000\n",
       "orig_projected_additional_accrued_interest     99617\n",
       "hardship_end_date                              99510\n",
       "hardship_start_date                            99510\n",
       "hardship_type                                  99510\n",
       "                                               ...  \n",
       "open_acc                                           4\n",
       "inq_last_6mths                                     4\n",
       "fico_range_high                                    4\n",
       "fico_range_low                                     4\n",
       "id                                                 0\n",
       "Length: 151, dtype: int64"
      ]
     },
     "execution_count": 27,
     "metadata": {},
     "output_type": "execute_result"
    }
   ],
   "source": [
    "sample_one.isnull().sum().sort_values(ascending = False)"
   ]
  },
  {
   "cell_type": "code",
   "execution_count": 26,
   "id": "96d99e5b",
   "metadata": {},
   "outputs": [
    {
     "data": {
      "text/plain": [
       "array([100000,  99617,  99510,  99510,  99510,  99510,  99510,  99510,\n",
       "        99510,  99510,  99510,  99510,  99510,  99510,  99510,  98415,\n",
       "        98415,  98415,  98415,  98415,  98415,  98389,  95256,  95192,\n",
       "        95192,  95192,  95192,  95192,  95192,  95192,  95192,  95192,\n",
       "        95192,  95192,  94856,  94618,  94618,  94480,  84000,  76894,\n",
       "        74170,  67100,  59498,  51166,  47256,  40271,  38357,  38354,\n",
       "        38354,  38354,  38354,  38354,  38354,  38354,  38354,  38354,\n",
       "        38354,  38354,  12991,   7399,   6729,   6458,   5992,   3283,\n",
       "         3259,   3237,   3170,   2990,   2986,   2985,   2985,   2985,\n",
       "         2985,   2985,   2985,   2985,   2985,   2985,   2985,   2985,\n",
       "         2985,   2985,   2985,   2985,   2985,   2985,   2985,   2985,\n",
       "         2480,   2480,   2122,   2122,   2122,   2122,    992,    107,\n",
       "           84,     66,     52,      7,      6,      6,      5,      4,\n",
       "            4,      4,      4,      4,      4,      4,      4,      4,\n",
       "            4,      4,      4,      4,      4,      4,      4,      4,\n",
       "            4,      4,      4,      4,      4,      4,      4,      4,\n",
       "            4,      4,      4,      4,      4,      4,      4,      4,\n",
       "            4,      4,      4,      4,      4,      4,      4,      4,\n",
       "            4,      4,      4,      4,      4,      4,      0],\n",
       "      dtype=int64)"
      ]
     },
     "execution_count": 26,
     "metadata": {},
     "output_type": "execute_result"
    }
   ],
   "source": [
    "sample_one.isnull().sum().sort_values(ascending = False).values"
   ]
  },
  {
   "cell_type": "code",
   "execution_count": 29,
   "id": "ef5a7cde",
   "metadata": {},
   "outputs": [],
   "source": [
    "for column in sample_one.columns:\n",
    "    if (sample_one[column].isnull().sum()/len(sample_one)) > 0.3:\n",
    "        sample_one = sample_one.drop([column], axis = 1)"
   ]
  },
  {
   "cell_type": "code",
   "execution_count": 30,
   "id": "69828876",
   "metadata": {},
   "outputs": [
    {
     "data": {
      "text/plain": [
       "(100000, 93)"
      ]
     },
     "execution_count": 30,
     "metadata": {},
     "output_type": "execute_result"
    }
   ],
   "source": [
    "sample_one.shape"
   ]
  },
  {
   "cell_type": "code",
   "execution_count": 31,
   "id": "fe519f0f",
   "metadata": {},
   "outputs": [
    {
     "data": {
      "text/plain": [
       "array([12991,  7399,  6729,  6458,  5992,  3283,  3259,  3237,  3170,\n",
       "        2990,  2986,  2985,  2985,  2985,  2985,  2985,  2985,  2985,\n",
       "        2985,  2985,  2985,  2985,  2985,  2985,  2985,  2985,  2985,\n",
       "        2985,  2985,  2985,  2480,  2480,  2122,  2122,  2122,  2122,\n",
       "         992,   107,    84,    66,    52,     7,     6,     6,     5,\n",
       "           4,     4,     4,     4,     4,     4,     4,     4,     4,\n",
       "           4,     4,     4,     4,     4,     4,     4,     4,     4,\n",
       "           4,     4,     4,     4,     4,     4,     4,     4,     4,\n",
       "           4,     4,     4,     4,     4,     4,     4,     4,     4,\n",
       "           4,     4,     4,     4,     4,     4,     4,     4,     4,\n",
       "           4,     4,     0], dtype=int64)"
      ]
     },
     "execution_count": 31,
     "metadata": {},
     "output_type": "execute_result"
    }
   ],
   "source": [
    "sample_one.isnull().sum().sort_values(ascending = False).values"
   ]
  },
  {
   "cell_type": "code",
   "execution_count": 32,
   "id": "c5926909",
   "metadata": {},
   "outputs": [],
   "source": [
    "sample_one.to_csv(\"accepted_customers.csv\")"
   ]
  },
  {
   "cell_type": "code",
   "execution_count": 33,
   "id": "b7477b93",
   "metadata": {},
   "outputs": [],
   "source": [
    "samp_split_one = sample_one.iloc[:,:31]"
   ]
  },
  {
   "cell_type": "code",
   "execution_count": 35,
   "id": "e8c41e1d",
   "metadata": {},
   "outputs": [],
   "source": [
    "samp_split_two = sample_one.iloc[:,31:62]"
   ]
  },
  {
   "cell_type": "code",
   "execution_count": 36,
   "id": "e348a204",
   "metadata": {},
   "outputs": [],
   "source": [
    "samp_split_three = sample_one.iloc[:,62:]"
   ]
  },
  {
   "cell_type": "code",
   "execution_count": 37,
   "id": "47449f24",
   "metadata": {},
   "outputs": [],
   "source": [
    "samp_split_one.to_csv(\"accepted_customers_one.csv\")\n",
    "samp_split_two.to_csv(\"accepted_customers_two.csv\")\n",
    "samp_split_three.to_csv(\"accepted_customers_three.csv\")"
   ]
  },
  {
   "cell_type": "code",
   "execution_count": 38,
   "id": "5f8bee58",
   "metadata": {},
   "outputs": [],
   "source": [
    "samp_split_one_one = samp_split_one.iloc[:,:16]\n",
    "samp_split_one_two = samp_split_one.iloc[:,16:]"
   ]
  },
  {
   "cell_type": "code",
   "execution_count": 39,
   "id": "98ac36ca",
   "metadata": {},
   "outputs": [],
   "source": [
    "samp_split_one_one.to_csv(\"accepted_customers_one_one.csv\")\n",
    "samp_split_one_two.to_csv(\"accepted_customers_one_two.csv\")"
   ]
  },
  {
   "cell_type": "code",
   "execution_count": null,
   "id": "9c7263c1",
   "metadata": {},
   "outputs": [],
   "source": []
  }
 ],
 "metadata": {
  "kernelspec": {
   "display_name": "Python 3 (ipykernel)",
   "language": "python",
   "name": "python3"
  },
  "language_info": {
   "codemirror_mode": {
    "name": "ipython",
    "version": 3
   },
   "file_extension": ".py",
   "mimetype": "text/x-python",
   "name": "python",
   "nbconvert_exporter": "python",
   "pygments_lexer": "ipython3",
   "version": "3.9.7"
  }
 },
 "nbformat": 4,
 "nbformat_minor": 5
}
