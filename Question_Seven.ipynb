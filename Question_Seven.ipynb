{
 "cells": [
  {
   "cell_type": "code",
   "execution_count": 1,
   "id": "dc83f81e",
   "metadata": {},
   "outputs": [
    {
     "name": "stderr",
     "output_type": "stream",
     "text": [
      "C:\\Users\\orteg\\anaconda3\\lib\\site-packages\\numpy\\_distributor_init.py:30: UserWarning: loaded more than 1 DLL from .libs:\n",
      "C:\\Users\\orteg\\anaconda3\\lib\\site-packages\\numpy\\.libs\\libopenblas.EL2C6PLE4ZYW3ECEVIV3OXXGRN2NRFM2.gfortran-win_amd64.dll\n",
      "C:\\Users\\orteg\\anaconda3\\lib\\site-packages\\numpy\\.libs\\libopenblas64__v0.3.21-gcc_10_3_0.dll\n",
      "  warnings.warn(\"loaded more than 1 DLL from .libs:\"\n"
     ]
    }
   ],
   "source": [
    "import pandas as pd"
   ]
  },
  {
   "cell_type": "code",
   "execution_count": 2,
   "id": "5e93fd7e",
   "metadata": {},
   "outputs": [],
   "source": [
    "df = pd.read_csv(\"model_only_data.csv\")"
   ]
  },
  {
   "cell_type": "code",
   "execution_count": 3,
   "id": "4a5006ce",
   "metadata": {},
   "outputs": [
    {
     "data": {
      "text/html": [
       "<div>\n",
       "<style scoped>\n",
       "    .dataframe tbody tr th:only-of-type {\n",
       "        vertical-align: middle;\n",
       "    }\n",
       "\n",
       "    .dataframe tbody tr th {\n",
       "        vertical-align: top;\n",
       "    }\n",
       "\n",
       "    .dataframe thead th {\n",
       "        text-align: right;\n",
       "    }\n",
       "</style>\n",
       "<table border=\"1\" class=\"dataframe\">\n",
       "  <thead>\n",
       "    <tr style=\"text-align: right;\">\n",
       "      <th></th>\n",
       "      <th>Unnamed: 0</th>\n",
       "      <th>amount_requested</th>\n",
       "      <th>reason_for_loan</th>\n",
       "      <th>debt_to_income_ratio</th>\n",
       "      <th>zip_code</th>\n",
       "      <th>state</th>\n",
       "      <th>emp_length</th>\n",
       "      <th>policy_code</th>\n",
       "      <th>applicant_result</th>\n",
       "    </tr>\n",
       "  </thead>\n",
       "  <tbody>\n",
       "    <tr>\n",
       "      <th>0</th>\n",
       "      <td>0</td>\n",
       "      <td>9600.0</td>\n",
       "      <td>Credit card refinancing</td>\n",
       "      <td>24.45</td>\n",
       "      <td>816xx</td>\n",
       "      <td>CO</td>\n",
       "      <td>4 years</td>\n",
       "      <td>1</td>\n",
       "      <td>1</td>\n",
       "    </tr>\n",
       "    <tr>\n",
       "      <th>1</th>\n",
       "      <td>1</td>\n",
       "      <td>6000.0</td>\n",
       "      <td>Home improvement</td>\n",
       "      <td>14.34</td>\n",
       "      <td>210xx</td>\n",
       "      <td>MD</td>\n",
       "      <td>10+ years</td>\n",
       "      <td>1</td>\n",
       "      <td>1</td>\n",
       "    </tr>\n",
       "    <tr>\n",
       "      <th>2</th>\n",
       "      <td>2</td>\n",
       "      <td>10000.0</td>\n",
       "      <td>Debt consolidation</td>\n",
       "      <td>25.35</td>\n",
       "      <td>890xx</td>\n",
       "      <td>NV</td>\n",
       "      <td>7 years</td>\n",
       "      <td>1</td>\n",
       "      <td>1</td>\n",
       "    </tr>\n",
       "    <tr>\n",
       "      <th>3</th>\n",
       "      <td>3</td>\n",
       "      <td>25000.0</td>\n",
       "      <td>Debt consolidation</td>\n",
       "      <td>7.17</td>\n",
       "      <td>640xx</td>\n",
       "      <td>MO</td>\n",
       "      <td>5 years</td>\n",
       "      <td>1</td>\n",
       "      <td>1</td>\n",
       "    </tr>\n",
       "    <tr>\n",
       "      <th>4</th>\n",
       "      <td>4</td>\n",
       "      <td>2000.0</td>\n",
       "      <td>Other</td>\n",
       "      <td>9.30</td>\n",
       "      <td>923xx</td>\n",
       "      <td>CA</td>\n",
       "      <td>4 years</td>\n",
       "      <td>1</td>\n",
       "      <td>1</td>\n",
       "    </tr>\n",
       "  </tbody>\n",
       "</table>\n",
       "</div>"
      ],
      "text/plain": [
       "   Unnamed: 0  amount_requested          reason_for_loan  \\\n",
       "0           0            9600.0  Credit card refinancing   \n",
       "1           1            6000.0         Home improvement   \n",
       "2           2           10000.0       Debt consolidation   \n",
       "3           3           25000.0       Debt consolidation   \n",
       "4           4            2000.0                    Other   \n",
       "\n",
       "   debt_to_income_ratio zip_code state emp_length  policy_code  \\\n",
       "0                 24.45    816xx    CO    4 years            1   \n",
       "1                 14.34    210xx    MD  10+ years            1   \n",
       "2                 25.35    890xx    NV    7 years            1   \n",
       "3                  7.17    640xx    MO    5 years            1   \n",
       "4                  9.30    923xx    CA    4 years            1   \n",
       "\n",
       "   applicant_result  \n",
       "0                 1  \n",
       "1                 1  \n",
       "2                 1  \n",
       "3                 1  \n",
       "4                 1  "
      ]
     },
     "execution_count": 3,
     "metadata": {},
     "output_type": "execute_result"
    }
   ],
   "source": [
    "df.head()"
   ]
  },
  {
   "cell_type": "markdown",
   "id": "475484c2",
   "metadata": {},
   "source": [
    "## Breakdown of Features in Preparation for Models"
   ]
  },
  {
   "cell_type": "markdown",
   "id": "daa50e0e",
   "metadata": {},
   "source": [
    "### Handling Reason for Loan"
   ]
  },
  {
   "cell_type": "code",
   "execution_count": 4,
   "id": "e2fa98ee",
   "metadata": {},
   "outputs": [
    {
     "data": {
      "text/plain": [
       "Debt consolidation         75380\n",
       "Credit card refinancing    29157\n",
       "debt_consolidation         21376\n",
       "Other                      15117\n",
       "Home improvement            7677\n",
       "other                       7180\n",
       "credit_card                 4847\n",
       "Major purchase              3911\n",
       "Car financing               3751\n",
       "home_improvement            2536\n",
       "Medical expenses            2509\n",
       "Home buying                 2364\n",
       "Moving and relocation       1820\n",
       "car                         1801\n",
       "Business                    1706\n",
       "Name: reason_for_loan, dtype: int64"
      ]
     },
     "execution_count": 4,
     "metadata": {},
     "output_type": "execute_result"
    }
   ],
   "source": [
    "df['reason_for_loan'].value_counts()[0:15]"
   ]
  },
  {
   "cell_type": "code",
   "execution_count": 5,
   "id": "ab897c5e",
   "metadata": {},
   "outputs": [],
   "source": [
    "import nltk"
   ]
  },
  {
   "cell_type": "code",
   "execution_count": 6,
   "id": "b6f4fcf7",
   "metadata": {},
   "outputs": [],
   "source": [
    "from nltk.stem import WordNetLemmatizer"
   ]
  },
  {
   "cell_type": "code",
   "execution_count": 7,
   "id": "9cae6170",
   "metadata": {},
   "outputs": [],
   "source": [
    "corpus = \"\""
   ]
  },
  {
   "cell_type": "code",
   "execution_count": 8,
   "id": "65472dab",
   "metadata": {},
   "outputs": [],
   "source": [
    "i = 0\n",
    "while i < len(df['reason_for_loan']):\n",
    "    corpus += \" \" + df['reason_for_loan'][i]\n",
    "    i += 1"
   ]
  },
  {
   "cell_type": "code",
   "execution_count": 9,
   "id": "e5d5b6a4",
   "metadata": {},
   "outputs": [],
   "source": [
    "words = nltk.word_tokenize(corpus)"
   ]
  },
  {
   "cell_type": "code",
   "execution_count": 10,
   "id": "e0457ed4",
   "metadata": {},
   "outputs": [
    {
     "name": "stderr",
     "output_type": "stream",
     "text": [
      "[nltk_data] Downloading package stopwords to\n",
      "[nltk_data]     C:\\Users\\orteg\\AppData\\Roaming\\nltk_data...\n",
      "[nltk_data]   Package stopwords is already up-to-date!\n"
     ]
    },
    {
     "data": {
      "text/plain": [
       "True"
      ]
     },
     "execution_count": 10,
     "metadata": {},
     "output_type": "execute_result"
    }
   ],
   "source": [
    "nltk.download(\"stopwords\")"
   ]
  },
  {
   "cell_type": "code",
   "execution_count": 11,
   "id": "eed6e300",
   "metadata": {},
   "outputs": [],
   "source": [
    "from nltk.corpus import stopwords"
   ]
  },
  {
   "cell_type": "code",
   "execution_count": 12,
   "id": "478928a0",
   "metadata": {},
   "outputs": [],
   "source": [
    "stop_words = set(stopwords.words(\"english\")) # creating a list of stop words in the english language"
   ]
  },
  {
   "cell_type": "code",
   "execution_count": 13,
   "id": "7576a9f5",
   "metadata": {},
   "outputs": [],
   "source": [
    "filtered_list = []\n",
    "for word in words: # For every word\n",
    "    if word.casefold() not in stop_words: # Is the lowercase word in the stop words list?\n",
    "        filtered_list.append(word)"
   ]
  },
  {
   "cell_type": "code",
   "execution_count": 14,
   "id": "34b64c20",
   "metadata": {},
   "outputs": [
    {
     "data": {
      "text/plain": [
       "['Credit', 'card', 'refinancing', 'Home', 'improvement']"
      ]
     },
     "execution_count": 14,
     "metadata": {},
     "output_type": "execute_result"
    }
   ],
   "source": [
    "filtered_list[0:5]"
   ]
  },
  {
   "cell_type": "code",
   "execution_count": 15,
   "id": "d016b543",
   "metadata": {},
   "outputs": [],
   "source": [
    "lemmatizer = WordNetLemmatizer()"
   ]
  },
  {
   "cell_type": "code",
   "execution_count": 16,
   "id": "67456122",
   "metadata": {},
   "outputs": [],
   "source": [
    "lemma_corpus = []\n",
    "no_match = []"
   ]
  },
  {
   "cell_type": "code",
   "execution_count": 17,
   "id": "ca33df8b",
   "metadata": {},
   "outputs": [],
   "source": [
    "for word, tag in nltk.pos_tag(filtered_list):\n",
    "    wntag = tag[0].lower()\n",
    "    wntag = wntag if wntag in ['n'] else None\n",
    "    if not wntag:\n",
    "        lemma = word # if it is not one of the above word types\n",
    "        no_match.append(lemma)\n",
    "    else:\n",
    "        lemma = lemmatizer.lemmatize(word, wntag) # using the tag to properly reduce the word\n",
    "        lemma_corpus.append(lemma)"
   ]
  },
  {
   "cell_type": "code",
   "execution_count": 18,
   "id": "6112223a",
   "metadata": {},
   "outputs": [
    {
     "data": {
      "text/plain": [
       "39356"
      ]
     },
     "execution_count": 18,
     "metadata": {},
     "output_type": "execute_result"
    }
   ],
   "source": [
    "len(no_match)"
   ]
  },
  {
   "cell_type": "code",
   "execution_count": 19,
   "id": "e8cf7af5",
   "metadata": {},
   "outputs": [
    {
     "data": {
      "text/plain": [
       "306755"
      ]
     },
     "execution_count": 19,
     "metadata": {},
     "output_type": "execute_result"
    }
   ],
   "source": [
    "len(lemma_corpus)"
   ]
  },
  {
   "cell_type": "code",
   "execution_count": 20,
   "id": "081fc503",
   "metadata": {},
   "outputs": [],
   "source": [
    "no_match_series = pd.Series(no_match)"
   ]
  },
  {
   "cell_type": "code",
   "execution_count": 21,
   "id": "c31df41c",
   "metadata": {},
   "outputs": [
    {
     "data": {
      "text/plain": [
       "refinancing     29171\n",
       "Moving           1603\n",
       "moving           1433\n",
       "medical          1296\n",
       "credit_card      1162\n",
       "                ...  \n",
       "prison              1\n",
       "limousine           1\n",
       "add                 1\n",
       "cdloan020512        1\n",
       "payoff101           1\n",
       "Length: 755, dtype: int64"
      ]
     },
     "execution_count": 21,
     "metadata": {},
     "output_type": "execute_result"
    }
   ],
   "source": [
    "no_match_series.value_counts()"
   ]
  },
  {
   "cell_type": "code",
   "execution_count": 22,
   "id": "167db33e",
   "metadata": {},
   "outputs": [],
   "source": [
    "lemma_corpus_series = pd.Series(lemma_corpus)"
   ]
  },
  {
   "cell_type": "code",
   "execution_count": 23,
   "id": "1fdc60ba",
   "metadata": {},
   "outputs": [
    {
     "data": {
      "text/plain": [
       "Debt                  77131\n",
       "consolidation         76015\n",
       "Credit                30139\n",
       "card                  29697\n",
       "debt_consolidation    21372\n",
       "                      ...  \n",
       "CJLoan                    1\n",
       "Considation               1\n",
       "Javier                    1\n",
       "LOVE                      1\n",
       "moving                    1\n",
       "Length: 2478, dtype: int64"
      ]
     },
     "execution_count": 23,
     "metadata": {},
     "output_type": "execute_result"
    }
   ],
   "source": [
    "lemma_corpus_series.value_counts()"
   ]
  },
  {
   "cell_type": "markdown",
   "id": "59bd1de0",
   "metadata": {},
   "source": [
    "I will be using, approximately, the top 100 words to use as a filter when processing the loan reason column. I will use the most frequent values before processing as categories. I will also clarify words that can have multiple meanings. When processing, the order of each category will matter. I will try to use words that do not conflict with other categories"
   ]
  },
  {
   "cell_type": "code",
   "execution_count": 24,
   "id": "312d3405",
   "metadata": {},
   "outputs": [
    {
     "data": {
      "text/plain": [
       "Index(['Debt', 'consolidation', 'Credit', 'card', 'debt_consolidation', 'Home',\n",
       "       'improvement', 'purchase', 'Car', 'credit_card', 'financing', 'Major',\n",
       "       'Business', 'Medical', 'expense', 'Loan', 'buying', 'home_improvement',\n",
       "       'car', 'relocation', 'Consolidation', 'major_purchase', 'Vacation',\n",
       "       'small_business', 'loan', 'debt', 'vacation', 'Card', 'house', 'credit',\n",
       "       'Moving', 'Personal', 'Pay', 'Payoff', 'Consolidate', 'Refinance',\n",
       "       'Improvement', 'CC', 'Cards', 'Green', 'pay', 'payoff', 'home', 'bill',\n",
       "       'Wedding', 'refinance', 'Freedom', 'Free', 'New', 'DEBT',\n",
       "       'renewable_energy', 'interest', 'consolidate', 'CONSOLIDATION', 'Get',\n",
       "       'payment', 'Help', 'Club', 'Lending', 'Bill', 'rate', 'LOAN',\n",
       "       'Purchase', 'CREDIT', 'Refi', 'freedom', 'Expenses', 'Pool', 'Relief',\n",
       "       'Bills', 'Small', 'CARD', 'Interest', 'Lower', 'Start', 'money',\n",
       "       'Consolodation', 'repair', 'High', 'Life', 'life', 'Payment', 'House',\n",
       "       'Refinancing', 'refi', 'PAYOFF', 'business', 'Student', 'Improvements',\n",
       "       'College', 'Rate', 'Plan', 'Need', 'Roof', 'help', 'relief', 'Consol',\n",
       "       'Debit', 'Capital', 'Back'],\n",
       "      dtype='object')"
      ]
     },
     "execution_count": 24,
     "metadata": {},
     "output_type": "execute_result"
    }
   ],
   "source": [
    "lemma_corpus_series.value_counts().index[0:100]"
   ]
  },
  {
   "cell_type": "code",
   "execution_count": 25,
   "id": "764d94fa",
   "metadata": {},
   "outputs": [
    {
     "data": {
      "text/plain": [
       "Index(['Line', 'Kitchen', 'Fresh', 'Engagement', 'Family', 'Ring', 'cc',\n",
       "       'pool', 'Consolidating', 'Project', 'Time', 'Repayment', 'LC', 'CARDS',\n",
       "       'Motorcycle', 'Clean', 'Auto', 'Chase', 'wedding', 'Better', 'Debts',\n",
       "       'Repair', 'School', 'need', 'debit', 'Financial', 'Reduction', 'time',\n",
       "       'Education', 'Money', 'Getting', 'PAY', 'Investment', '/', 'track',\n",
       "       'FREE', 'First', 'reduction', 'Good', 'start', 'Future', 'way', 'Gone',\n",
       "       'Expense', 'DC', 'remodel', 'Track', 'Move', 'tax', 'Repairs'],\n",
       "      dtype='object')"
      ]
     },
     "execution_count": 25,
     "metadata": {},
     "output_type": "execute_result"
    }
   ],
   "source": [
    "lemma_corpus_series.value_counts().index[100:150]"
   ]
  },
  {
   "cell_type": "code",
   "execution_count": 26,
   "id": "91df2afc",
   "metadata": {},
   "outputs": [
    {
     "data": {
      "text/plain": [
       "Index(['refinancing', 'Moving', 'moving', 'medical', 'credit_card',\n",
       "       'home_improvement', 'Major', 'financing', 'small_business', 'buying',\n",
       "       '!', 'major_purchase', 'personal', 'wedding', 'free', '.', ''s', '&',\n",
       "       '1', 'high', 'renewable_energy', 'pay', ',', 'Paying', 'new', '2013',\n",
       "       '2012', 'one', 'payoff', 'get', '-', 'lower', '2', 'consolidate',\n",
       "       'Getting', 'back', 'Consolidating', ')', '3', 'gone', 'One', 'getting',\n",
       "       'Wedding', 'major', 'better', 'paying', 'financial', '2nd', '2011',\n",
       "       '2010'],\n",
       "      dtype='object')"
      ]
     },
     "execution_count": 26,
     "metadata": {},
     "output_type": "execute_result"
    }
   ],
   "source": [
    "no_match_series.value_counts().index[0:50]"
   ]
  },
  {
   "cell_type": "code",
   "execution_count": 27,
   "id": "45a542a9",
   "metadata": {},
   "outputs": [],
   "source": [
    "home = ['home', 'house', 'kitchen', 'improvement', 'pool', 'remodel']\n",
    "car = ['car', 'auto', 'motorcycle', 'vehicle', 'truck']\n",
    "business = ['business']\n",
    "medical = ['medical', 'remove']\n",
    "debt_credit_issues = ['consolidation', 'credit', 'debt', 'refinancing', 'card', 'cc', 'consolidate', 'payoff', \n",
    "                      'interest', 'rate'] \n",
    "moving = ['move', 'moving']\n",
    "major_purchase = ['purchase', 'major']\n",
    "vacation = ['vacation']\n",
    "wedding = ['wedding', 'ring']\n",
    "student = ['student', 'college', 'education', 'school']\n",
    "#If not categories match, then it will be placed into the 'other' category"
   ]
  },
  {
   "cell_type": "code",
   "execution_count": 28,
   "id": "85fcdf0c",
   "metadata": {},
   "outputs": [
    {
     "name": "stdout",
     "output_type": "stream",
     "text": [
      "['Pool & Landscaping' 'Pool Renovation' 'Pool Repairs'\n",
      " 'Swimming Pool Maintenance Loan' 'Above Ground Pool' 'Swimming Pool'\n",
      " 'Pool Loan' 'Pool loan ' 'Swimming Pool Project 2012' 'Pool'\n",
      " 'Pool House Renovations' 'Home Pool Loan'\n",
      " 'Winter Storm Destruction -Pool' 'Pool and landscape' 'Pool Improvement'\n",
      " 'Pool Loan ' 'Pool funding ' 'Say No To Bugs! - Pool Screen Cage'\n",
      " 'Pool Repair']\n"
     ]
    }
   ],
   "source": [
    "l = []\n",
    "for thing in df['reason_for_loan']:\n",
    "    if thing.find(\"Pool\") != -1:\n",
    "        l.append(thing)\n",
    "print(pd.unique(l))"
   ]
  },
  {
   "cell_type": "code",
   "execution_count": 29,
   "id": "11e69b3e",
   "metadata": {},
   "outputs": [
    {
     "name": "stdout",
     "output_type": "stream",
     "text": [
      "['Credit card refinancing' 'crdit card refinancing' 'refinancing'\n",
      " 'credit refinancing' 'Credit card refinancing at lower rate'\n",
      " 'credit card refinancing' 'Credit Card refinancing'\n",
      " 'Debt / Credit card refinancing' 'refinancing credit cards'\n",
      " 'cc refinancing & debt consolidation' 'debt refinancing'\n",
      " 'refinancing 19% CARD' 'refinancing high interest credit cards']\n"
     ]
    }
   ],
   "source": [
    "l = []\n",
    "for thing in df['reason_for_loan']:\n",
    "    if thing.find(\"refinancing\") != -1:\n",
    "        l.append(thing)\n",
    "print(pd.unique(l))"
   ]
  },
  {
   "cell_type": "code",
   "execution_count": 30,
   "id": "d0b052d2",
   "metadata": {},
   "outputs": [
    {
     "name": "stdout",
     "output_type": "stream",
     "text": [
      "['Major purchase' 'Loan for purchase of a project vehicle'\n",
      " 'loan for ebay purchase' 'purchase' 'major purchase loan'\n",
      " 'major_purchase' 'major purchase for equipment for job' 'major purchase'\n",
      " 'property purchase' 'Consolidate debt/small purchases' 'purchase of car'\n",
      " 'consolidate and purchase loan' 'equipment purchase'\n",
      " 'deby consolidation major purchase' 'Loan for a Major Appliance purchase'\n",
      " 'for a major purchase ' 'purchase of mobile home'\n",
      " 'Loan for purchase of road tractor' 'Equipment purchase']\n"
     ]
    }
   ],
   "source": [
    "l = []\n",
    "for thing in df['reason_for_loan']:\n",
    "    if thing.find(\"purchase\") != -1:\n",
    "        l.append(thing)\n",
    "print(pd.unique(l))"
   ]
  },
  {
   "cell_type": "markdown",
   "id": "97e5cedc",
   "metadata": {},
   "source": [
    "Issues:\n",
    "-Words have multiple meanings \n",
    "-Obervations can match multiple categories\n",
    "-Misspelling\n",
    "-Is what they write what they mean? (freedom loans)"
   ]
  },
  {
   "cell_type": "markdown",
   "id": "902a2412",
   "metadata": {},
   "source": [
    "I will go from specific to general debt consolidation and credit card issues. Lastly, we will have other."
   ]
  },
  {
   "cell_type": "code",
   "execution_count": 31,
   "id": "44f36cc1",
   "metadata": {},
   "outputs": [],
   "source": [
    "df[\"reduced_reason\"] = \"Test\""
   ]
  },
  {
   "cell_type": "code",
   "execution_count": 32,
   "id": "1a95469b",
   "metadata": {},
   "outputs": [],
   "source": [
    "df['reason_for_loan'] = df['reason_for_loan'].apply(str.lower)"
   ]
  },
  {
   "cell_type": "code",
   "execution_count": 33,
   "id": "7e55ef3d",
   "metadata": {},
   "outputs": [],
   "source": [
    "my_dict = {\"Home\": home, \"Car\": car, \"Business\": business, \"Medical\": medical, \"Vacation\": vacation, \"Wedding\": wedding,\n",
    "        \"Moving\": moving, \"Student\": student, \"Major Purchase\": major_purchase, \"Debt/Credit Issues\": debt_credit_issues}"
   ]
  },
  {
   "cell_type": "code",
   "execution_count": 34,
   "id": "3e9a36aa",
   "metadata": {},
   "outputs": [],
   "source": [
    "for k, v in my_dict.items():\n",
    "    for word in v:\n",
    "        df.loc[df['reason_for_loan'].str.contains(word), 'reduced_reason'] = k"
   ]
  },
  {
   "cell_type": "code",
   "execution_count": 35,
   "id": "1bd8f2e6",
   "metadata": {},
   "outputs": [
    {
     "data": {
      "text/plain": [
       "Debt/Credit Issues    136164\n",
       "Test                   25352\n",
       "Home                   13689\n",
       "Car                     5709\n",
       "Major Purchase          5686\n",
       "Business                4160\n",
       "Medical                 3855\n",
       "Moving                  3308\n",
       "Vacation                1786\n",
       "Wedding                  221\n",
       "Student                   70\n",
       "Name: reduced_reason, dtype: int64"
      ]
     },
     "execution_count": 35,
     "metadata": {},
     "output_type": "execute_result"
    }
   ],
   "source": [
    "df['reduced_reason'].value_counts()"
   ]
  },
  {
   "cell_type": "code",
   "execution_count": 36,
   "id": "62b39dd7",
   "metadata": {},
   "outputs": [
    {
     "data": {
      "text/plain": [
       "other               22297\n",
       "personal loan         159\n",
       "green loan            139\n",
       "renewable_energy      113\n",
       "personal               91\n",
       "                    ...  \n",
       "summer 2012             1\n",
       "educateme               1\n",
       "relax relax             1\n",
       "a safe bet              1\n",
       "pay irs                 1\n",
       "Name: reason_for_loan, Length: 1795, dtype: int64"
      ]
     },
     "execution_count": 36,
     "metadata": {},
     "output_type": "execute_result"
    }
   ],
   "source": [
    "df['reason_for_loan'][df['reduced_reason'] == \"Test\"].value_counts()"
   ]
  },
  {
   "cell_type": "markdown",
   "id": "99721608",
   "metadata": {},
   "source": [
    "I think that these are pretty great results!! Now we set the vague responses to \"Other.\""
   ]
  },
  {
   "cell_type": "code",
   "execution_count": 37,
   "id": "aab4eddc",
   "metadata": {},
   "outputs": [
    {
     "name": "stderr",
     "output_type": "stream",
     "text": [
      "C:\\Users\\orteg\\AppData\\Local\\Temp\\ipykernel_18092\\57583683.py:1: SettingWithCopyWarning: \n",
      "A value is trying to be set on a copy of a slice from a DataFrame\n",
      "\n",
      "See the caveats in the documentation: https://pandas.pydata.org/pandas-docs/stable/user_guide/indexing.html#returning-a-view-versus-a-copy\n",
      "  df['reduced_reason'][df['reduced_reason'] == \"Test\"] = \"Other\"\n"
     ]
    }
   ],
   "source": [
    "df['reduced_reason'][df['reduced_reason'] == \"Test\"] = \"Other\""
   ]
  },
  {
   "cell_type": "code",
   "execution_count": 38,
   "id": "0edfbd45",
   "metadata": {},
   "outputs": [
    {
     "data": {
      "text/plain": [
       "Debt/Credit Issues    136164\n",
       "Other                  25352\n",
       "Home                   13689\n",
       "Car                     5709\n",
       "Major Purchase          5686\n",
       "Business                4160\n",
       "Medical                 3855\n",
       "Moving                  3308\n",
       "Vacation                1786\n",
       "Wedding                  221\n",
       "Student                   70\n",
       "Name: reduced_reason, dtype: int64"
      ]
     },
     "execution_count": 38,
     "metadata": {},
     "output_type": "execute_result"
    }
   ],
   "source": [
    "df['reduced_reason'].value_counts()"
   ]
  },
  {
   "cell_type": "markdown",
   "id": "99ec0089",
   "metadata": {},
   "source": [
    "### Handling the Employee Length Column"
   ]
  },
  {
   "cell_type": "markdown",
   "id": "609321be",
   "metadata": {},
   "source": [
    "I am going to rank the employment length. 0 is < 1 year and 10 is 10+ years."
   ]
  },
  {
   "cell_type": "code",
   "execution_count": 39,
   "id": "e168d6d7",
   "metadata": {},
   "outputs": [],
   "source": [
    "ranking = ['< 1 year', '1 year', '2 years', '3 years', '4 years', '5 years', '6 years', '7 years',\n",
    "          '8 years', '9 years', '10+ years']"
   ]
  },
  {
   "cell_type": "code",
   "execution_count": 40,
   "id": "94b0f940",
   "metadata": {},
   "outputs": [
    {
     "data": {
      "text/plain": [
       "< 1 year     94715\n",
       "10+ years    37076\n",
       "5 years      15176\n",
       "2 years      10520\n",
       "3 years       9224\n",
       "1 year        8021\n",
       "4 years       6866\n",
       "6 years       5163\n",
       "8 years       4645\n",
       "7 years       4594\n",
       "9 years       4000\n",
       "Name: emp_length, dtype: int64"
      ]
     },
     "execution_count": 40,
     "metadata": {},
     "output_type": "execute_result"
    }
   ],
   "source": [
    "df['emp_length'].value_counts()"
   ]
  },
  {
   "cell_type": "code",
   "execution_count": 41,
   "id": "a265ce5f",
   "metadata": {},
   "outputs": [],
   "source": [
    "df_new = df.copy()"
   ]
  },
  {
   "cell_type": "code",
   "execution_count": 42,
   "id": "6fc6d49f",
   "metadata": {},
   "outputs": [],
   "source": [
    "for index, value in enumerate(ranking):\n",
    "    df_new.loc[df_new['emp_length'].str.contains(value), 'emp_length'] = str(index)"
   ]
  },
  {
   "cell_type": "code",
   "execution_count": 43,
   "id": "f4c69a0c",
   "metadata": {},
   "outputs": [
    {
     "data": {
      "text/plain": [
       "0            94715\n",
       "10+ years    37076\n",
       "5            15176\n",
       "2            10520\n",
       "3             9224\n",
       "1             8021\n",
       "4             6866\n",
       "6             5163\n",
       "8             4645\n",
       "7             4594\n",
       "9             4000\n",
       "Name: emp_length, dtype: int64"
      ]
     },
     "execution_count": 43,
     "metadata": {},
     "output_type": "execute_result"
    }
   ],
   "source": [
    "df_new['emp_length'].value_counts()"
   ]
  },
  {
   "cell_type": "code",
   "execution_count": 44,
   "id": "265915b7",
   "metadata": {},
   "outputs": [],
   "source": [
    "df_new.loc[df_new['emp_length'].str.contains('10+'), 'emp_length'] = str(10)"
   ]
  },
  {
   "cell_type": "code",
   "execution_count": 45,
   "id": "c012dfbd",
   "metadata": {},
   "outputs": [
    {
     "data": {
      "text/plain": [
       "0     94715\n",
       "10    37076\n",
       "5     15176\n",
       "2     10520\n",
       "3      9224\n",
       "1      8021\n",
       "4      6866\n",
       "6      5163\n",
       "8      4645\n",
       "7      4594\n",
       "9      4000\n",
       "Name: emp_length, dtype: int64"
      ]
     },
     "execution_count": 45,
     "metadata": {},
     "output_type": "execute_result"
    }
   ],
   "source": [
    "df_new['emp_length'].value_counts()"
   ]
  },
  {
   "cell_type": "code",
   "execution_count": 46,
   "id": "baaec8c2",
   "metadata": {},
   "outputs": [],
   "source": [
    "df_new['emp_length'] = df_new['emp_length'].astype(\"int64\")"
   ]
  },
  {
   "cell_type": "markdown",
   "id": "7680dea5",
   "metadata": {},
   "source": [
    "### Review"
   ]
  },
  {
   "cell_type": "code",
   "execution_count": 47,
   "id": "1ea15f52",
   "metadata": {},
   "outputs": [
    {
     "data": {
      "text/html": [
       "<div>\n",
       "<style scoped>\n",
       "    .dataframe tbody tr th:only-of-type {\n",
       "        vertical-align: middle;\n",
       "    }\n",
       "\n",
       "    .dataframe tbody tr th {\n",
       "        vertical-align: top;\n",
       "    }\n",
       "\n",
       "    .dataframe thead th {\n",
       "        text-align: right;\n",
       "    }\n",
       "</style>\n",
       "<table border=\"1\" class=\"dataframe\">\n",
       "  <thead>\n",
       "    <tr style=\"text-align: right;\">\n",
       "      <th></th>\n",
       "      <th>Unnamed: 0</th>\n",
       "      <th>amount_requested</th>\n",
       "      <th>reason_for_loan</th>\n",
       "      <th>debt_to_income_ratio</th>\n",
       "      <th>zip_code</th>\n",
       "      <th>state</th>\n",
       "      <th>emp_length</th>\n",
       "      <th>policy_code</th>\n",
       "      <th>applicant_result</th>\n",
       "      <th>reduced_reason</th>\n",
       "    </tr>\n",
       "  </thead>\n",
       "  <tbody>\n",
       "    <tr>\n",
       "      <th>0</th>\n",
       "      <td>0</td>\n",
       "      <td>9600.0</td>\n",
       "      <td>credit card refinancing</td>\n",
       "      <td>24.45</td>\n",
       "      <td>816xx</td>\n",
       "      <td>CO</td>\n",
       "      <td>4</td>\n",
       "      <td>1</td>\n",
       "      <td>1</td>\n",
       "      <td>Debt/Credit Issues</td>\n",
       "    </tr>\n",
       "    <tr>\n",
       "      <th>1</th>\n",
       "      <td>1</td>\n",
       "      <td>6000.0</td>\n",
       "      <td>home improvement</td>\n",
       "      <td>14.34</td>\n",
       "      <td>210xx</td>\n",
       "      <td>MD</td>\n",
       "      <td>10</td>\n",
       "      <td>1</td>\n",
       "      <td>1</td>\n",
       "      <td>Home</td>\n",
       "    </tr>\n",
       "    <tr>\n",
       "      <th>2</th>\n",
       "      <td>2</td>\n",
       "      <td>10000.0</td>\n",
       "      <td>debt consolidation</td>\n",
       "      <td>25.35</td>\n",
       "      <td>890xx</td>\n",
       "      <td>NV</td>\n",
       "      <td>7</td>\n",
       "      <td>1</td>\n",
       "      <td>1</td>\n",
       "      <td>Debt/Credit Issues</td>\n",
       "    </tr>\n",
       "    <tr>\n",
       "      <th>3</th>\n",
       "      <td>3</td>\n",
       "      <td>25000.0</td>\n",
       "      <td>debt consolidation</td>\n",
       "      <td>7.17</td>\n",
       "      <td>640xx</td>\n",
       "      <td>MO</td>\n",
       "      <td>5</td>\n",
       "      <td>1</td>\n",
       "      <td>1</td>\n",
       "      <td>Debt/Credit Issues</td>\n",
       "    </tr>\n",
       "    <tr>\n",
       "      <th>4</th>\n",
       "      <td>4</td>\n",
       "      <td>2000.0</td>\n",
       "      <td>other</td>\n",
       "      <td>9.30</td>\n",
       "      <td>923xx</td>\n",
       "      <td>CA</td>\n",
       "      <td>4</td>\n",
       "      <td>1</td>\n",
       "      <td>1</td>\n",
       "      <td>Other</td>\n",
       "    </tr>\n",
       "  </tbody>\n",
       "</table>\n",
       "</div>"
      ],
      "text/plain": [
       "   Unnamed: 0  amount_requested          reason_for_loan  \\\n",
       "0           0            9600.0  credit card refinancing   \n",
       "1           1            6000.0         home improvement   \n",
       "2           2           10000.0       debt consolidation   \n",
       "3           3           25000.0       debt consolidation   \n",
       "4           4            2000.0                    other   \n",
       "\n",
       "   debt_to_income_ratio zip_code state  emp_length  policy_code  \\\n",
       "0                 24.45    816xx    CO           4            1   \n",
       "1                 14.34    210xx    MD          10            1   \n",
       "2                 25.35    890xx    NV           7            1   \n",
       "3                  7.17    640xx    MO           5            1   \n",
       "4                  9.30    923xx    CA           4            1   \n",
       "\n",
       "   applicant_result      reduced_reason  \n",
       "0                 1  Debt/Credit Issues  \n",
       "1                 1                Home  \n",
       "2                 1  Debt/Credit Issues  \n",
       "3                 1  Debt/Credit Issues  \n",
       "4                 1               Other  "
      ]
     },
     "execution_count": 47,
     "metadata": {},
     "output_type": "execute_result"
    }
   ],
   "source": [
    "df_new.head()"
   ]
  },
  {
   "cell_type": "code",
   "execution_count": 48,
   "id": "60795e80",
   "metadata": {},
   "outputs": [
    {
     "data": {
      "text/plain": [
       "Index(['Unnamed: 0', 'amount_requested', 'reason_for_loan',\n",
       "       'debt_to_income_ratio', 'zip_code', 'state', 'emp_length',\n",
       "       'policy_code', 'applicant_result', 'reduced_reason'],\n",
       "      dtype='object')"
      ]
     },
     "execution_count": 48,
     "metadata": {},
     "output_type": "execute_result"
    }
   ],
   "source": [
    "df_new.columns"
   ]
  },
  {
   "cell_type": "markdown",
   "id": "9e8ed9c7",
   "metadata": {},
   "source": [
    "I will remove the useless index column."
   ]
  },
  {
   "cell_type": "code",
   "execution_count": 49,
   "id": "40ad86ad",
   "metadata": {},
   "outputs": [],
   "source": [
    "df_new.drop(['Unnamed: 0'], inplace=True, axis=1)"
   ]
  },
  {
   "cell_type": "code",
   "execution_count": 50,
   "id": "13212bf5",
   "metadata": {},
   "outputs": [
    {
     "data": {
      "text/html": [
       "<div>\n",
       "<style scoped>\n",
       "    .dataframe tbody tr th:only-of-type {\n",
       "        vertical-align: middle;\n",
       "    }\n",
       "\n",
       "    .dataframe tbody tr th {\n",
       "        vertical-align: top;\n",
       "    }\n",
       "\n",
       "    .dataframe thead th {\n",
       "        text-align: right;\n",
       "    }\n",
       "</style>\n",
       "<table border=\"1\" class=\"dataframe\">\n",
       "  <thead>\n",
       "    <tr style=\"text-align: right;\">\n",
       "      <th></th>\n",
       "      <th>amount_requested</th>\n",
       "      <th>reason_for_loan</th>\n",
       "      <th>debt_to_income_ratio</th>\n",
       "      <th>zip_code</th>\n",
       "      <th>state</th>\n",
       "      <th>emp_length</th>\n",
       "      <th>policy_code</th>\n",
       "      <th>applicant_result</th>\n",
       "      <th>reduced_reason</th>\n",
       "    </tr>\n",
       "  </thead>\n",
       "  <tbody>\n",
       "    <tr>\n",
       "      <th>0</th>\n",
       "      <td>9600.0</td>\n",
       "      <td>credit card refinancing</td>\n",
       "      <td>24.45</td>\n",
       "      <td>816xx</td>\n",
       "      <td>CO</td>\n",
       "      <td>4</td>\n",
       "      <td>1</td>\n",
       "      <td>1</td>\n",
       "      <td>Debt/Credit Issues</td>\n",
       "    </tr>\n",
       "    <tr>\n",
       "      <th>1</th>\n",
       "      <td>6000.0</td>\n",
       "      <td>home improvement</td>\n",
       "      <td>14.34</td>\n",
       "      <td>210xx</td>\n",
       "      <td>MD</td>\n",
       "      <td>10</td>\n",
       "      <td>1</td>\n",
       "      <td>1</td>\n",
       "      <td>Home</td>\n",
       "    </tr>\n",
       "    <tr>\n",
       "      <th>2</th>\n",
       "      <td>10000.0</td>\n",
       "      <td>debt consolidation</td>\n",
       "      <td>25.35</td>\n",
       "      <td>890xx</td>\n",
       "      <td>NV</td>\n",
       "      <td>7</td>\n",
       "      <td>1</td>\n",
       "      <td>1</td>\n",
       "      <td>Debt/Credit Issues</td>\n",
       "    </tr>\n",
       "    <tr>\n",
       "      <th>3</th>\n",
       "      <td>25000.0</td>\n",
       "      <td>debt consolidation</td>\n",
       "      <td>7.17</td>\n",
       "      <td>640xx</td>\n",
       "      <td>MO</td>\n",
       "      <td>5</td>\n",
       "      <td>1</td>\n",
       "      <td>1</td>\n",
       "      <td>Debt/Credit Issues</td>\n",
       "    </tr>\n",
       "    <tr>\n",
       "      <th>4</th>\n",
       "      <td>2000.0</td>\n",
       "      <td>other</td>\n",
       "      <td>9.30</td>\n",
       "      <td>923xx</td>\n",
       "      <td>CA</td>\n",
       "      <td>4</td>\n",
       "      <td>1</td>\n",
       "      <td>1</td>\n",
       "      <td>Other</td>\n",
       "    </tr>\n",
       "  </tbody>\n",
       "</table>\n",
       "</div>"
      ],
      "text/plain": [
       "   amount_requested          reason_for_loan  debt_to_income_ratio zip_code  \\\n",
       "0            9600.0  credit card refinancing                 24.45    816xx   \n",
       "1            6000.0         home improvement                 14.34    210xx   \n",
       "2           10000.0       debt consolidation                 25.35    890xx   \n",
       "3           25000.0       debt consolidation                  7.17    640xx   \n",
       "4            2000.0                    other                  9.30    923xx   \n",
       "\n",
       "  state  emp_length  policy_code  applicant_result      reduced_reason  \n",
       "0    CO           4            1                 1  Debt/Credit Issues  \n",
       "1    MD          10            1                 1                Home  \n",
       "2    NV           7            1                 1  Debt/Credit Issues  \n",
       "3    MO           5            1                 1  Debt/Credit Issues  \n",
       "4    CA           4            1                 1               Other  "
      ]
     },
     "execution_count": 50,
     "metadata": {},
     "output_type": "execute_result"
    }
   ],
   "source": [
    "df_new.head()"
   ]
  },
  {
   "cell_type": "markdown",
   "id": "8fd1ad0f",
   "metadata": {},
   "source": [
    "### Dealing with Amount Requested"
   ]
  },
  {
   "cell_type": "code",
   "execution_count": 51,
   "id": "8ed6650f",
   "metadata": {},
   "outputs": [],
   "source": [
    "import matplotlib.pyplot as plt"
   ]
  },
  {
   "cell_type": "code",
   "execution_count": 52,
   "id": "20943250",
   "metadata": {},
   "outputs": [
    {
     "data": {
      "image/png": "[encoded data removed]",
      "text/plain": [
       "<Figure size 640x480 with 1 Axes>"
      ]
     },
     "metadata": {},
     "output_type": "display_data"
    }
   ],
   "source": [
    "plt.hist(df_new['amount_requested'][df_new['amount_requested'] < 50000])\n",
    "plt.show()"
   ]
  },
  {
   "cell_type": "code",
   "execution_count": 53,
   "id": "4d3c3189",
   "metadata": {},
   "outputs": [
    {
     "data": {
      "image/png": "[encoded data removed]",
      "text/plain": [
       "<Figure size 640x480 with 1 Axes>"
      ]
     },
     "metadata": {},
     "output_type": "display_data"
    }
   ],
   "source": [
    "plt.hist(df_new['amount_requested'][df_new['amount_requested'] > 50000])\n",
    "plt.show()"
   ]
  },
  {
   "cell_type": "markdown",
   "id": "855462d5",
   "metadata": {},
   "source": [
    "Considering the variety of reasons people apply for loans, I do not think it is valid to set any limit on the amount requested. I think the variation is natural."
   ]
  },
  {
   "cell_type": "markdown",
   "id": "6a1ca0ad",
   "metadata": {},
   "source": [
    "### Dealing with DTI Ratio"
   ]
  },
  {
   "cell_type": "code",
   "execution_count": 54,
   "id": "1d2ee311",
   "metadata": {},
   "outputs": [
    {
     "data": {
      "image/png": "[encoded data removed]",
      "text/plain": [
       "<Figure size 640x480 with 1 Axes>"
      ]
     },
     "metadata": {},
     "output_type": "display_data"
    }
   ],
   "source": [
    "plt.hist(df_new['debt_to_income_ratio'][df_new['debt_to_income_ratio'] < 100])\n",
    "plt.show()"
   ]
  },
  {
   "cell_type": "code",
   "execution_count": 55,
   "id": "f61dd84c",
   "metadata": {},
   "outputs": [
    {
     "data": {
      "image/png": "[encoded data removed]",
      "text/plain": [
       "<Figure size 640x480 with 1 Axes>"
      ]
     },
     "metadata": {},
     "output_type": "display_data"
    }
   ],
   "source": [
    "plt.hist(df_new['debt_to_income_ratio'][df_new['debt_to_income_ratio'] > 100])\n",
    "plt.show()"
   ]
  },
  {
   "cell_type": "code",
   "execution_count": 56,
   "id": "62c54d10",
   "metadata": {},
   "outputs": [
    {
     "data": {
      "text/plain": [
       "3037"
      ]
     },
     "execution_count": 56,
     "metadata": {},
     "output_type": "execute_result"
    }
   ],
   "source": [
    "len(df_new['debt_to_income_ratio'][df_new['debt_to_income_ratio'] > 100])"
   ]
  },
  {
   "cell_type": "code",
   "execution_count": 57,
   "id": "7ffd164e",
   "metadata": {},
   "outputs": [
    {
     "data": {
      "image/png": "[encoded data removed]",
      "text/plain": [
       "<Figure size 640x480 with 1 Axes>"
      ]
     },
     "metadata": {},
     "output_type": "display_data"
    }
   ],
   "source": [
    "plt.boxplot(df_new['debt_to_income_ratio'])\n",
    "plt.show()"
   ]
  },
  {
   "cell_type": "code",
   "execution_count": 58,
   "id": "78e84af8",
   "metadata": {},
   "outputs": [
    {
     "data": {
      "image/png": "[encoded data removed]",
      "text/plain": [
       "<Figure size 640x480 with 1 Axes>"
      ]
     },
     "metadata": {},
     "output_type": "display_data"
    }
   ],
   "source": [
    "plt.boxplot(df_new['debt_to_income_ratio'][df_new['debt_to_income_ratio'] < 100])\n",
    "plt.show()"
   ]
  },
  {
   "cell_type": "markdown",
   "id": "2f9a7fd4",
   "metadata": {},
   "source": [
    "Based on the odd behavior of ratios, I think removing the rows that have ratios greater than 100% is the best course of action. If I find arguments against this, I will change the method."
   ]
  },
  {
   "cell_type": "code",
   "execution_count": 59,
   "id": "772b137d",
   "metadata": {},
   "outputs": [],
   "source": [
    "df_new = df_new[df_new['debt_to_income_ratio'] <= 100]"
   ]
  },
  {
   "cell_type": "code",
   "execution_count": 60,
   "id": "7378c2e9",
   "metadata": {},
   "outputs": [],
   "source": [
    "df_new.reset_index(drop=False, inplace=True)\n",
    "df_new = df_new.drop('index', axis=1)"
   ]
  },
  {
   "cell_type": "markdown",
   "id": "ab4c5a8b",
   "metadata": {},
   "source": [
    "### Handling Categorical Variables"
   ]
  },
  {
   "cell_type": "code",
   "execution_count": 61,
   "id": "01e5ded9",
   "metadata": {},
   "outputs": [
    {
     "name": "stdout",
     "output_type": "stream",
     "text": [
      "<class 'pandas.core.frame.DataFrame'>\n",
      "RangeIndex: 196963 entries, 0 to 196962\n",
      "Data columns (total 9 columns):\n",
      " #   Column                Non-Null Count   Dtype  \n",
      "---  ------                --------------   -----  \n",
      " 0   amount_requested      196963 non-null  float64\n",
      " 1   reason_for_loan       196963 non-null  object \n",
      " 2   debt_to_income_ratio  196963 non-null  float64\n",
      " 3   zip_code              196963 non-null  object \n",
      " 4   state                 196963 non-null  object \n",
      " 5   emp_length            196963 non-null  int64  \n",
      " 6   policy_code           196963 non-null  int64  \n",
      " 7   applicant_result      196963 non-null  int64  \n",
      " 8   reduced_reason        196963 non-null  object \n",
      "dtypes: float64(2), int64(3), object(4)\n",
      "memory usage: 13.5+ MB\n"
     ]
    }
   ],
   "source": [
    "df_new.info()"
   ]
  },
  {
   "cell_type": "code",
   "execution_count": 62,
   "id": "897f82ae",
   "metadata": {},
   "outputs": [
    {
     "data": {
      "text/html": [
       "<div>\n",
       "<style scoped>\n",
       "    .dataframe tbody tr th:only-of-type {\n",
       "        vertical-align: middle;\n",
       "    }\n",
       "\n",
       "    .dataframe tbody tr th {\n",
       "        vertical-align: top;\n",
       "    }\n",
       "\n",
       "    .dataframe thead th {\n",
       "        text-align: right;\n",
       "    }\n",
       "</style>\n",
       "<table border=\"1\" class=\"dataframe\">\n",
       "  <thead>\n",
       "    <tr style=\"text-align: right;\">\n",
       "      <th></th>\n",
       "      <th>amount_requested</th>\n",
       "      <th>reason_for_loan</th>\n",
       "      <th>debt_to_income_ratio</th>\n",
       "      <th>zip_code</th>\n",
       "      <th>state</th>\n",
       "      <th>emp_length</th>\n",
       "      <th>policy_code</th>\n",
       "      <th>applicant_result</th>\n",
       "      <th>reduced_reason</th>\n",
       "    </tr>\n",
       "  </thead>\n",
       "  <tbody>\n",
       "    <tr>\n",
       "      <th>0</th>\n",
       "      <td>9600.0</td>\n",
       "      <td>credit card refinancing</td>\n",
       "      <td>24.45</td>\n",
       "      <td>816xx</td>\n",
       "      <td>CO</td>\n",
       "      <td>4</td>\n",
       "      <td>1</td>\n",
       "      <td>1</td>\n",
       "      <td>Debt/Credit Issues</td>\n",
       "    </tr>\n",
       "    <tr>\n",
       "      <th>1</th>\n",
       "      <td>6000.0</td>\n",
       "      <td>home improvement</td>\n",
       "      <td>14.34</td>\n",
       "      <td>210xx</td>\n",
       "      <td>MD</td>\n",
       "      <td>10</td>\n",
       "      <td>1</td>\n",
       "      <td>1</td>\n",
       "      <td>Home</td>\n",
       "    </tr>\n",
       "    <tr>\n",
       "      <th>2</th>\n",
       "      <td>10000.0</td>\n",
       "      <td>debt consolidation</td>\n",
       "      <td>25.35</td>\n",
       "      <td>890xx</td>\n",
       "      <td>NV</td>\n",
       "      <td>7</td>\n",
       "      <td>1</td>\n",
       "      <td>1</td>\n",
       "      <td>Debt/Credit Issues</td>\n",
       "    </tr>\n",
       "    <tr>\n",
       "      <th>3</th>\n",
       "      <td>25000.0</td>\n",
       "      <td>debt consolidation</td>\n",
       "      <td>7.17</td>\n",
       "      <td>640xx</td>\n",
       "      <td>MO</td>\n",
       "      <td>5</td>\n",
       "      <td>1</td>\n",
       "      <td>1</td>\n",
       "      <td>Debt/Credit Issues</td>\n",
       "    </tr>\n",
       "    <tr>\n",
       "      <th>4</th>\n",
       "      <td>2000.0</td>\n",
       "      <td>other</td>\n",
       "      <td>9.30</td>\n",
       "      <td>923xx</td>\n",
       "      <td>CA</td>\n",
       "      <td>4</td>\n",
       "      <td>1</td>\n",
       "      <td>1</td>\n",
       "      <td>Other</td>\n",
       "    </tr>\n",
       "  </tbody>\n",
       "</table>\n",
       "</div>"
      ],
      "text/plain": [
       "   amount_requested          reason_for_loan  debt_to_income_ratio zip_code  \\\n",
       "0            9600.0  credit card refinancing                 24.45    816xx   \n",
       "1            6000.0         home improvement                 14.34    210xx   \n",
       "2           10000.0       debt consolidation                 25.35    890xx   \n",
       "3           25000.0       debt consolidation                  7.17    640xx   \n",
       "4            2000.0                    other                  9.30    923xx   \n",
       "\n",
       "  state  emp_length  policy_code  applicant_result      reduced_reason  \n",
       "0    CO           4            1                 1  Debt/Credit Issues  \n",
       "1    MD          10            1                 1                Home  \n",
       "2    NV           7            1                 1  Debt/Credit Issues  \n",
       "3    MO           5            1                 1  Debt/Credit Issues  \n",
       "4    CA           4            1                 1               Other  "
      ]
     },
     "execution_count": 62,
     "metadata": {},
     "output_type": "execute_result"
    }
   ],
   "source": [
    "df_new.head()"
   ]
  },
  {
   "cell_type": "code",
   "execution_count": 63,
   "id": "27a1fb62",
   "metadata": {},
   "outputs": [],
   "source": [
    "cat_df = df_new.drop(['amount_requested', 'debt_to_income_ratio', 'reason_for_loan', 'applicant_result'], axis=1)"
   ]
  },
  {
   "cell_type": "code",
   "execution_count": 64,
   "id": "f404304e",
   "metadata": {},
   "outputs": [],
   "source": [
    "cat_df = pd.get_dummies(cat_df)"
   ]
  },
  {
   "cell_type": "code",
   "execution_count": 65,
   "id": "99959382",
   "metadata": {},
   "outputs": [
    {
     "data": {
      "text/plain": [
       "(196963, 969)"
      ]
     },
     "execution_count": 65,
     "metadata": {},
     "output_type": "execute_result"
    }
   ],
   "source": [
    "cat_df.shape"
   ]
  },
  {
   "cell_type": "code",
   "execution_count": 66,
   "id": "2ca8c60c",
   "metadata": {},
   "outputs": [
    {
     "data": {
      "text/html": [
       "<div>\n",
       "<style scoped>\n",
       "    .dataframe tbody tr th:only-of-type {\n",
       "        vertical-align: middle;\n",
       "    }\n",
       "\n",
       "    .dataframe tbody tr th {\n",
       "        vertical-align: top;\n",
       "    }\n",
       "\n",
       "    .dataframe thead th {\n",
       "        text-align: right;\n",
       "    }\n",
       "</style>\n",
       "<table border=\"1\" class=\"dataframe\">\n",
       "  <thead>\n",
       "    <tr style=\"text-align: right;\">\n",
       "      <th></th>\n",
       "      <th>emp_length</th>\n",
       "      <th>policy_code</th>\n",
       "      <th>zip_code_000xx</th>\n",
       "      <th>zip_code_002xx</th>\n",
       "      <th>zip_code_006xx</th>\n",
       "      <th>zip_code_007xx</th>\n",
       "      <th>zip_code_008xx</th>\n",
       "      <th>zip_code_009xx</th>\n",
       "      <th>zip_code_010xx</th>\n",
       "      <th>zip_code_011xx</th>\n",
       "      <th>...</th>\n",
       "      <th>reduced_reason_Car</th>\n",
       "      <th>reduced_reason_Debt/Credit Issues</th>\n",
       "      <th>reduced_reason_Home</th>\n",
       "      <th>reduced_reason_Major Purchase</th>\n",
       "      <th>reduced_reason_Medical</th>\n",
       "      <th>reduced_reason_Moving</th>\n",
       "      <th>reduced_reason_Other</th>\n",
       "      <th>reduced_reason_Student</th>\n",
       "      <th>reduced_reason_Vacation</th>\n",
       "      <th>reduced_reason_Wedding</th>\n",
       "    </tr>\n",
       "  </thead>\n",
       "  <tbody>\n",
       "    <tr>\n",
       "      <th>0</th>\n",
       "      <td>4</td>\n",
       "      <td>1</td>\n",
       "      <td>0</td>\n",
       "      <td>0</td>\n",
       "      <td>0</td>\n",
       "      <td>0</td>\n",
       "      <td>0</td>\n",
       "      <td>0</td>\n",
       "      <td>0</td>\n",
       "      <td>0</td>\n",
       "      <td>...</td>\n",
       "      <td>0</td>\n",
       "      <td>1</td>\n",
       "      <td>0</td>\n",
       "      <td>0</td>\n",
       "      <td>0</td>\n",
       "      <td>0</td>\n",
       "      <td>0</td>\n",
       "      <td>0</td>\n",
       "      <td>0</td>\n",
       "      <td>0</td>\n",
       "    </tr>\n",
       "    <tr>\n",
       "      <th>1</th>\n",
       "      <td>10</td>\n",
       "      <td>1</td>\n",
       "      <td>0</td>\n",
       "      <td>0</td>\n",
       "      <td>0</td>\n",
       "      <td>0</td>\n",
       "      <td>0</td>\n",
       "      <td>0</td>\n",
       "      <td>0</td>\n",
       "      <td>0</td>\n",
       "      <td>...</td>\n",
       "      <td>0</td>\n",
       "      <td>0</td>\n",
       "      <td>1</td>\n",
       "      <td>0</td>\n",
       "      <td>0</td>\n",
       "      <td>0</td>\n",
       "      <td>0</td>\n",
       "      <td>0</td>\n",
       "      <td>0</td>\n",
       "      <td>0</td>\n",
       "    </tr>\n",
       "    <tr>\n",
       "      <th>2</th>\n",
       "      <td>7</td>\n",
       "      <td>1</td>\n",
       "      <td>0</td>\n",
       "      <td>0</td>\n",
       "      <td>0</td>\n",
       "      <td>0</td>\n",
       "      <td>0</td>\n",
       "      <td>0</td>\n",
       "      <td>0</td>\n",
       "      <td>0</td>\n",
       "      <td>...</td>\n",
       "      <td>0</td>\n",
       "      <td>1</td>\n",
       "      <td>0</td>\n",
       "      <td>0</td>\n",
       "      <td>0</td>\n",
       "      <td>0</td>\n",
       "      <td>0</td>\n",
       "      <td>0</td>\n",
       "      <td>0</td>\n",
       "      <td>0</td>\n",
       "    </tr>\n",
       "    <tr>\n",
       "      <th>3</th>\n",
       "      <td>5</td>\n",
       "      <td>1</td>\n",
       "      <td>0</td>\n",
       "      <td>0</td>\n",
       "      <td>0</td>\n",
       "      <td>0</td>\n",
       "      <td>0</td>\n",
       "      <td>0</td>\n",
       "      <td>0</td>\n",
       "      <td>0</td>\n",
       "      <td>...</td>\n",
       "      <td>0</td>\n",
       "      <td>1</td>\n",
       "      <td>0</td>\n",
       "      <td>0</td>\n",
       "      <td>0</td>\n",
       "      <td>0</td>\n",
       "      <td>0</td>\n",
       "      <td>0</td>\n",
       "      <td>0</td>\n",
       "      <td>0</td>\n",
       "    </tr>\n",
       "    <tr>\n",
       "      <th>4</th>\n",
       "      <td>4</td>\n",
       "      <td>1</td>\n",
       "      <td>0</td>\n",
       "      <td>0</td>\n",
       "      <td>0</td>\n",
       "      <td>0</td>\n",
       "      <td>0</td>\n",
       "      <td>0</td>\n",
       "      <td>0</td>\n",
       "      <td>0</td>\n",
       "      <td>...</td>\n",
       "      <td>0</td>\n",
       "      <td>0</td>\n",
       "      <td>0</td>\n",
       "      <td>0</td>\n",
       "      <td>0</td>\n",
       "      <td>0</td>\n",
       "      <td>1</td>\n",
       "      <td>0</td>\n",
       "      <td>0</td>\n",
       "      <td>0</td>\n",
       "    </tr>\n",
       "  </tbody>\n",
       "</table>\n",
       "<p>5 rows × 969 columns</p>\n",
       "</div>"
      ],
      "text/plain": [
       "   emp_length  policy_code  zip_code_000xx  zip_code_002xx  zip_code_006xx  \\\n",
       "0           4            1               0               0               0   \n",
       "1          10            1               0               0               0   \n",
       "2           7            1               0               0               0   \n",
       "3           5            1               0               0               0   \n",
       "4           4            1               0               0               0   \n",
       "\n",
       "   zip_code_007xx  zip_code_008xx  zip_code_009xx  zip_code_010xx  \\\n",
       "0               0               0               0               0   \n",
       "1               0               0               0               0   \n",
       "2               0               0               0               0   \n",
       "3               0               0               0               0   \n",
       "4               0               0               0               0   \n",
       "\n",
       "   zip_code_011xx  ...  reduced_reason_Car  reduced_reason_Debt/Credit Issues  \\\n",
       "0               0  ...                   0                                  1   \n",
       "1               0  ...                   0                                  0   \n",
       "2               0  ...                   0                                  1   \n",
       "3               0  ...                   0                                  1   \n",
       "4               0  ...                   0                                  0   \n",
       "\n",
       "   reduced_reason_Home  reduced_reason_Major Purchase  reduced_reason_Medical  \\\n",
       "0                    0                              0                       0   \n",
       "1                    1                              0                       0   \n",
       "2                    0                              0                       0   \n",
       "3                    0                              0                       0   \n",
       "4                    0                              0                       0   \n",
       "\n",
       "   reduced_reason_Moving  reduced_reason_Other  reduced_reason_Student  \\\n",
       "0                      0                     0                       0   \n",
       "1                      0                     0                       0   \n",
       "2                      0                     0                       0   \n",
       "3                      0                     0                       0   \n",
       "4                      0                     1                       0   \n",
       "\n",
       "   reduced_reason_Vacation  reduced_reason_Wedding  \n",
       "0                        0                       0  \n",
       "1                        0                       0  \n",
       "2                        0                       0  \n",
       "3                        0                       0  \n",
       "4                        0                       0  \n",
       "\n",
       "[5 rows x 969 columns]"
      ]
     },
     "execution_count": 66,
     "metadata": {},
     "output_type": "execute_result"
    }
   ],
   "source": [
    "cat_df.head()"
   ]
  },
  {
   "cell_type": "markdown",
   "id": "f26ec925",
   "metadata": {},
   "source": [
    "### Handling Numeric Variables"
   ]
  },
  {
   "cell_type": "code",
   "execution_count": 67,
   "id": "1a8aa339",
   "metadata": {},
   "outputs": [],
   "source": [
    "num_df = df_new[['amount_requested', 'debt_to_income_ratio']]"
   ]
  },
  {
   "cell_type": "code",
   "execution_count": 68,
   "id": "b4222a2f",
   "metadata": {},
   "outputs": [],
   "source": [
    " from sklearn import preprocessing"
   ]
  },
  {
   "cell_type": "code",
   "execution_count": 69,
   "id": "6e09c075",
   "metadata": {},
   "outputs": [],
   "source": [
    "std_num_df = preprocessing.scale(num_df, axis=0)"
   ]
  },
  {
   "cell_type": "code",
   "execution_count": 70,
   "id": "a684a100",
   "metadata": {},
   "outputs": [
    {
     "data": {
      "text/html": [
       "<div>\n",
       "<style scoped>\n",
       "    .dataframe tbody tr th:only-of-type {\n",
       "        vertical-align: middle;\n",
       "    }\n",
       "\n",
       "    .dataframe tbody tr th {\n",
       "        vertical-align: top;\n",
       "    }\n",
       "\n",
       "    .dataframe thead th {\n",
       "        text-align: right;\n",
       "    }\n",
       "</style>\n",
       "<table border=\"1\" class=\"dataframe\">\n",
       "  <thead>\n",
       "    <tr style=\"text-align: right;\">\n",
       "      <th></th>\n",
       "      <th>amount_requested</th>\n",
       "      <th>debt_to_income_ratio</th>\n",
       "    </tr>\n",
       "  </thead>\n",
       "  <tbody>\n",
       "    <tr>\n",
       "      <th>count</th>\n",
       "      <td>1.969630e+05</td>\n",
       "      <td>1.969630e+05</td>\n",
       "    </tr>\n",
       "    <tr>\n",
       "      <th>mean</th>\n",
       "      <td>-7.407462e-15</td>\n",
       "      <td>2.414309e-15</td>\n",
       "    </tr>\n",
       "    <tr>\n",
       "      <th>std</th>\n",
       "      <td>1.000003e+00</td>\n",
       "      <td>1.000003e+00</td>\n",
       "    </tr>\n",
       "    <tr>\n",
       "      <th>min</th>\n",
       "      <td>-1.092136e+00</td>\n",
       "      <td>-1.215644e+00</td>\n",
       "    </tr>\n",
       "    <tr>\n",
       "      <th>25%</th>\n",
       "      <td>-6.678269e-01</td>\n",
       "      <td>-6.067189e-01</td>\n",
       "    </tr>\n",
       "    <tr>\n",
       "      <th>50%</th>\n",
       "      <td>-2.752418e-01</td>\n",
       "      <td>-1.924590e-01</td>\n",
       "    </tr>\n",
       "    <tr>\n",
       "      <th>75%</th>\n",
       "      <td>4.544113e-01</td>\n",
       "      <td>3.077294e-01</td>\n",
       "    </tr>\n",
       "    <tr>\n",
       "      <th>max</th>\n",
       "      <td>2.266125e+01</td>\n",
       "      <td>4.141623e+00</td>\n",
       "    </tr>\n",
       "  </tbody>\n",
       "</table>\n",
       "</div>"
      ],
      "text/plain": [
       "       amount_requested  debt_to_income_ratio\n",
       "count      1.969630e+05          1.969630e+05\n",
       "mean      -7.407462e-15          2.414309e-15\n",
       "std        1.000003e+00          1.000003e+00\n",
       "min       -1.092136e+00         -1.215644e+00\n",
       "25%       -6.678269e-01         -6.067189e-01\n",
       "50%       -2.752418e-01         -1.924590e-01\n",
       "75%        4.544113e-01          3.077294e-01\n",
       "max        2.266125e+01          4.141623e+00"
      ]
     },
     "execution_count": 70,
     "metadata": {},
     "output_type": "execute_result"
    }
   ],
   "source": [
    "std_num_df = pd.DataFrame(std_num_df, columns = num_df.columns, index = num_df.index)\n",
    "std_num_df.describe()"
   ]
  },
  {
   "cell_type": "markdown",
   "id": "3898034a",
   "metadata": {},
   "source": [
    "### Combining and Dealing with Multicollinearity"
   ]
  },
  {
   "cell_type": "code",
   "execution_count": 71,
   "id": "db7c32e7",
   "metadata": {},
   "outputs": [],
   "source": [
    " std_df = pd.concat([cat_df, std_num_df], axis = 1)"
   ]
  },
  {
   "cell_type": "code",
   "execution_count": 72,
   "id": "df89bb65",
   "metadata": {},
   "outputs": [
    {
     "data": {
      "text/html": [
       "<div>\n",
       "<style scoped>\n",
       "    .dataframe tbody tr th:only-of-type {\n",
       "        vertical-align: middle;\n",
       "    }\n",
       "\n",
       "    .dataframe tbody tr th {\n",
       "        vertical-align: top;\n",
       "    }\n",
       "\n",
       "    .dataframe thead th {\n",
       "        text-align: right;\n",
       "    }\n",
       "</style>\n",
       "<table border=\"1\" class=\"dataframe\">\n",
       "  <thead>\n",
       "    <tr style=\"text-align: right;\">\n",
       "      <th></th>\n",
       "      <th>emp_length</th>\n",
       "      <th>policy_code</th>\n",
       "      <th>zip_code_000xx</th>\n",
       "      <th>zip_code_002xx</th>\n",
       "      <th>zip_code_006xx</th>\n",
       "      <th>zip_code_007xx</th>\n",
       "      <th>zip_code_008xx</th>\n",
       "      <th>zip_code_009xx</th>\n",
       "      <th>zip_code_010xx</th>\n",
       "      <th>zip_code_011xx</th>\n",
       "      <th>...</th>\n",
       "      <th>reduced_reason_Home</th>\n",
       "      <th>reduced_reason_Major Purchase</th>\n",
       "      <th>reduced_reason_Medical</th>\n",
       "      <th>reduced_reason_Moving</th>\n",
       "      <th>reduced_reason_Other</th>\n",
       "      <th>reduced_reason_Student</th>\n",
       "      <th>reduced_reason_Vacation</th>\n",
       "      <th>reduced_reason_Wedding</th>\n",
       "      <th>amount_requested</th>\n",
       "      <th>debt_to_income_ratio</th>\n",
       "    </tr>\n",
       "  </thead>\n",
       "  <tbody>\n",
       "    <tr>\n",
       "      <th>0</th>\n",
       "      <td>4</td>\n",
       "      <td>1</td>\n",
       "      <td>0</td>\n",
       "      <td>0</td>\n",
       "      <td>0</td>\n",
       "      <td>0</td>\n",
       "      <td>0</td>\n",
       "      <td>0</td>\n",
       "      <td>0</td>\n",
       "      <td>0</td>\n",
       "      <td>...</td>\n",
       "      <td>0</td>\n",
       "      <td>0</td>\n",
       "      <td>0</td>\n",
       "      <td>0</td>\n",
       "      <td>0</td>\n",
       "      <td>0</td>\n",
       "      <td>0</td>\n",
       "      <td>0</td>\n",
       "      <td>-0.370414</td>\n",
       "      <td>0.134281</td>\n",
       "    </tr>\n",
       "    <tr>\n",
       "      <th>1</th>\n",
       "      <td>10</td>\n",
       "      <td>1</td>\n",
       "      <td>0</td>\n",
       "      <td>0</td>\n",
       "      <td>0</td>\n",
       "      <td>0</td>\n",
       "      <td>0</td>\n",
       "      <td>0</td>\n",
       "      <td>0</td>\n",
       "      <td>0</td>\n",
       "      <td>...</td>\n",
       "      <td>1</td>\n",
       "      <td>0</td>\n",
       "      <td>0</td>\n",
       "      <td>0</td>\n",
       "      <td>0</td>\n",
       "      <td>0</td>\n",
       "      <td>0</td>\n",
       "      <td>0</td>\n",
       "      <td>-0.655930</td>\n",
       "      <td>-0.401976</td>\n",
       "    </tr>\n",
       "    <tr>\n",
       "      <th>2</th>\n",
       "      <td>7</td>\n",
       "      <td>1</td>\n",
       "      <td>0</td>\n",
       "      <td>0</td>\n",
       "      <td>0</td>\n",
       "      <td>0</td>\n",
       "      <td>0</td>\n",
       "      <td>0</td>\n",
       "      <td>0</td>\n",
       "      <td>0</td>\n",
       "      <td>...</td>\n",
       "      <td>0</td>\n",
       "      <td>0</td>\n",
       "      <td>0</td>\n",
       "      <td>0</td>\n",
       "      <td>0</td>\n",
       "      <td>0</td>\n",
       "      <td>0</td>\n",
       "      <td>0</td>\n",
       "      <td>-0.338690</td>\n",
       "      <td>0.182019</td>\n",
       "    </tr>\n",
       "    <tr>\n",
       "      <th>3</th>\n",
       "      <td>5</td>\n",
       "      <td>1</td>\n",
       "      <td>0</td>\n",
       "      <td>0</td>\n",
       "      <td>0</td>\n",
       "      <td>0</td>\n",
       "      <td>0</td>\n",
       "      <td>0</td>\n",
       "      <td>0</td>\n",
       "      <td>0</td>\n",
       "      <td>...</td>\n",
       "      <td>0</td>\n",
       "      <td>0</td>\n",
       "      <td>0</td>\n",
       "      <td>0</td>\n",
       "      <td>0</td>\n",
       "      <td>0</td>\n",
       "      <td>0</td>\n",
       "      <td>0</td>\n",
       "      <td>0.850962</td>\n",
       "      <td>-0.782289</td>\n",
       "    </tr>\n",
       "    <tr>\n",
       "      <th>4</th>\n",
       "      <td>4</td>\n",
       "      <td>1</td>\n",
       "      <td>0</td>\n",
       "      <td>0</td>\n",
       "      <td>0</td>\n",
       "      <td>0</td>\n",
       "      <td>0</td>\n",
       "      <td>0</td>\n",
       "      <td>0</td>\n",
       "      <td>0</td>\n",
       "      <td>...</td>\n",
       "      <td>0</td>\n",
       "      <td>0</td>\n",
       "      <td>0</td>\n",
       "      <td>0</td>\n",
       "      <td>1</td>\n",
       "      <td>0</td>\n",
       "      <td>0</td>\n",
       "      <td>0</td>\n",
       "      <td>-0.973171</td>\n",
       "      <td>-0.669309</td>\n",
       "    </tr>\n",
       "  </tbody>\n",
       "</table>\n",
       "<p>5 rows × 971 columns</p>\n",
       "</div>"
      ],
      "text/plain": [
       "   emp_length  policy_code  zip_code_000xx  zip_code_002xx  zip_code_006xx  \\\n",
       "0           4            1               0               0               0   \n",
       "1          10            1               0               0               0   \n",
       "2           7            1               0               0               0   \n",
       "3           5            1               0               0               0   \n",
       "4           4            1               0               0               0   \n",
       "\n",
       "   zip_code_007xx  zip_code_008xx  zip_code_009xx  zip_code_010xx  \\\n",
       "0               0               0               0               0   \n",
       "1               0               0               0               0   \n",
       "2               0               0               0               0   \n",
       "3               0               0               0               0   \n",
       "4               0               0               0               0   \n",
       "\n",
       "   zip_code_011xx  ...  reduced_reason_Home  reduced_reason_Major Purchase  \\\n",
       "0               0  ...                    0                              0   \n",
       "1               0  ...                    1                              0   \n",
       "2               0  ...                    0                              0   \n",
       "3               0  ...                    0                              0   \n",
       "4               0  ...                    0                              0   \n",
       "\n",
       "   reduced_reason_Medical  reduced_reason_Moving  reduced_reason_Other  \\\n",
       "0                       0                      0                     0   \n",
       "1                       0                      0                     0   \n",
       "2                       0                      0                     0   \n",
       "3                       0                      0                     0   \n",
       "4                       0                      0                     1   \n",
       "\n",
       "   reduced_reason_Student  reduced_reason_Vacation  reduced_reason_Wedding  \\\n",
       "0                       0                        0                       0   \n",
       "1                       0                        0                       0   \n",
       "2                       0                        0                       0   \n",
       "3                       0                        0                       0   \n",
       "4                       0                        0                       0   \n",
       "\n",
       "   amount_requested  debt_to_income_ratio  \n",
       "0         -0.370414              0.134281  \n",
       "1         -0.655930             -0.401976  \n",
       "2         -0.338690              0.182019  \n",
       "3          0.850962             -0.782289  \n",
       "4         -0.973171             -0.669309  \n",
       "\n",
       "[5 rows x 971 columns]"
      ]
     },
     "execution_count": 72,
     "metadata": {},
     "output_type": "execute_result"
    }
   ],
   "source": [
    "std_df.head()"
   ]
  },
  {
   "cell_type": "code",
   "execution_count": 73,
   "id": "63411d24",
   "metadata": {},
   "outputs": [],
   "source": [
    " from statsmodels.stats.outliers_influence import variance_inflation_factor"
   ]
  },
  {
   "cell_type": "code",
   "execution_count": 74,
   "id": "54e6b390",
   "metadata": {},
   "outputs": [],
   "source": [
    "std_df_vif = std_df[['emp_length', 'policy_code', 'amount_requested', 'debt_to_income_ratio']]"
   ]
  },
  {
   "cell_type": "code",
   "execution_count": 75,
   "id": "d48776ba",
   "metadata": {},
   "outputs": [
    {
     "name": "stdout",
     "output_type": "stream",
     "text": [
      "                feature       VIF\n",
      "0            emp_length  1.773204\n",
      "1           policy_code  1.745956\n",
      "2      amount_requested  1.008505\n",
      "3  debt_to_income_ratio  1.022933\n"
     ]
    }
   ],
   "source": [
    "vif_data = pd.DataFrame()\n",
    "vif_data[\"feature\"] = std_df_vif.columns\n",
    "# calculating VIF for each feature\n",
    "vif_data[\"VIF\"] = [variance_inflation_factor(std_df_vif.values, i) for i in range(len(std_df_vif.columns))]\n",
    "print(vif_data)"
   ]
  },
  {
   "cell_type": "markdown",
   "id": "d53905cc",
   "metadata": {},
   "source": [
    "The entire data frame was not tested for multicollinearity because the method struggles to handle the encoded columns."
   ]
  },
  {
   "cell_type": "markdown",
   "id": "f6b1f48c",
   "metadata": {},
   "source": [
    "### Splitting the Data"
   ]
  },
  {
   "cell_type": "code",
   "execution_count": 76,
   "id": "fd4d7bdb",
   "metadata": {},
   "outputs": [],
   "source": [
    "from sklearn.model_selection import train_test_split"
   ]
  },
  {
   "cell_type": "code",
   "execution_count": 77,
   "id": "cd5a45d3",
   "metadata": {},
   "outputs": [],
   "source": [
    "target_std = df_new['applicant_result']\n",
    "predictors_std = std_df"
   ]
  },
  {
   "cell_type": "code",
   "execution_count": 78,
   "id": "437d39a6",
   "metadata": {},
   "outputs": [],
   "source": [
    "pred_std_train, pred_std_test, tar_std_train, tar_std_test = train_test_split(predictors_std, target_std, \n",
    "                                                                              test_size = 0.2, random_state = 42)"
   ]
  },
  {
   "cell_type": "markdown",
   "id": "a499d7dc",
   "metadata": {},
   "source": [
    "### Model Metrics"
   ]
  },
  {
   "cell_type": "code",
   "execution_count": 79,
   "id": "6c8934db",
   "metadata": {},
   "outputs": [],
   "source": [
    "from sklearn.metrics import (confusion_matrix, classification_report, precision_score, \n",
    "                             recall_score, f1_score, RocCurveDisplay, PrecisionRecallDisplay, \n",
    "                             accuracy_score, confusion_matrix, ConfusionMatrixDisplay)"
   ]
  },
  {
   "cell_type": "markdown",
   "id": "60651e87",
   "metadata": {},
   "source": [
    "### KNN"
   ]
  },
  {
   "cell_type": "code",
   "execution_count": 80,
   "id": "7d6174cc",
   "metadata": {},
   "outputs": [],
   "source": [
    "from sklearn.neighbors import KNeighborsClassifier as knn"
   ]
  },
  {
   "cell_type": "code",
   "execution_count": 81,
   "id": "fe09be8c",
   "metadata": {},
   "outputs": [],
   "source": [
    "import math as m"
   ]
  },
  {
   "cell_type": "code",
   "execution_count": 82,
   "id": "d7925029",
   "metadata": {},
   "outputs": [],
   "source": [
    "from sklearn.model_selection import cross_val_predict, cross_val_score"
   ]
  },
  {
   "cell_type": "code",
   "execution_count": 83,
   "id": "432ed520",
   "metadata": {},
   "outputs": [],
   "source": [
    "knn_new = knn(n_neighbors=m.ceil((len(pred_std_train))**(1/2)))\n",
    "algorithm_knn = knn_new.fit(pred_std_train, tar_std_train)"
   ]
  },
  {
   "cell_type": "code",
   "execution_count": 84,
   "id": "50e80c52",
   "metadata": {},
   "outputs": [
    {
     "ename": "NameError",
     "evalue": "name 'stop' is not defined",
     "output_type": "error",
     "traceback": [
      "\u001b[1;31m---------------------------------------------------------------------------\u001b[0m",
      "\u001b[1;31mNameError\u001b[0m                                 Traceback (most recent call last)",
      "Cell \u001b[1;32mIn [84], line 2\u001b[0m\n\u001b[0;32m      1\u001b[0m \u001b[38;5;66;03m#%pip install threadpoolctl==3.1.0\u001b[39;00m\n\u001b[1;32m----> 2\u001b[0m \u001b[43mstop\u001b[49m\n",
      "\u001b[1;31mNameError\u001b[0m: name 'stop' is not defined"
     ]
    }
   ],
   "source": [
    "#%pip install threadpoolctl==3.1.0\n",
    "stop"
   ]
  },
  {
   "cell_type": "code",
   "execution_count": null,
   "id": "2729efd3",
   "metadata": {},
   "outputs": [],
   "source": [
    "algorithm_predict_train = cross_val_predict(algorithm_knn, pred_std_train, tar_std_train, cv=10)\n",
    "#This is the confusion matrix for the training data, added as requested by the Professor.\n",
    "cm = confusion_matrix(tar_std_train, algorithm_predict_train)\n",
    "disp = ConfusionMatrixDisplay(confusion_matrix=cm)"
   ]
  },
  {
   "cell_type": "code",
   "execution_count": null,
   "id": "2d50a79e",
   "metadata": {},
   "outputs": [],
   "source": [
    "algorithm_predict_test = algorithm.predict(pred_std_test)\n",
    "#Same thing as cross val predict, but a regular prediction and without the target. Also, use test instead.\n",
    "#This is the confusion matrix for the training data, added as requested by the Professor.\n",
    "cm = confusion_matrix(tar_std_test, algorithm_predict_test)\n",
    "disp = ConfusionMatrixDisplay(confusion_matrix=cm)"
   ]
  },
  {
   "cell_type": "code",
   "execution_count": null,
   "id": "ec38d2fd",
   "metadata": {},
   "outputs": [],
   "source": [
    "print(classification_report(tar_std_test, algorithm_predict_test))"
   ]
  },
  {
   "cell_type": "code",
   "execution_count": null,
   "id": "466ea7a7",
   "metadata": {},
   "outputs": [],
   "source": [
    "disp.plot()\n",
    "plt.show()"
   ]
  },
  {
   "cell_type": "markdown",
   "id": "a7277477",
   "metadata": {},
   "source": [
    "### Logistic Regression"
   ]
  },
  {
   "cell_type": "code",
   "execution_count": 85,
   "id": "6cdd6a48",
   "metadata": {},
   "outputs": [],
   "source": [
    "from sklearn.linear_model import LogisticRegression"
   ]
  },
  {
   "cell_type": "code",
   "execution_count": 86,
   "id": "22513f18",
   "metadata": {},
   "outputs": [
    {
     "name": "stderr",
     "output_type": "stream",
     "text": [
      "C:\\Users\\orteg\\anaconda3\\lib\\site-packages\\sklearn\\linear_model\\_logistic.py:444: ConvergenceWarning: lbfgs failed to converge (status=1):\n",
      "STOP: TOTAL NO. of ITERATIONS REACHED LIMIT.\n",
      "\n",
      "Increase the number of iterations (max_iter) or scale the data as shown in:\n",
      "    https://scikit-learn.org/stable/modules/preprocessing.html\n",
      "Please also refer to the documentation for alternative solver options:\n",
      "    https://scikit-learn.org/stable/modules/linear_model.html#logistic-regression\n",
      "  n_iter_i = _check_optimize_result(\n"
     ]
    }
   ],
   "source": [
    "clf = LogisticRegression(random_state=42).fit(pred_std_train, tar_std_train)"
   ]
  },
  {
   "cell_type": "code",
   "execution_count": null,
   "id": "275979b6",
   "metadata": {},
   "outputs": [],
   "source": [
    "y_pred_lr = clf.predict(pred_std_test)"
   ]
  },
  {
   "cell_type": "code",
   "execution_count": null,
   "id": "5459d612",
   "metadata": {},
   "outputs": [],
   "source": [
    "print(classification_report(tar_std_test, y_pred_lr))"
   ]
  },
  {
   "cell_type": "code",
   "execution_count": null,
   "id": "12772037",
   "metadata": {},
   "outputs": [],
   "source": [
    "cm_lr = confusion_matrix(tar_std_test, y_pred_lr)\n",
    "disp_lr = ConfusionMatrixDisplay(confusion_matrix=cm_lr)"
   ]
  },
  {
   "cell_type": "code",
   "execution_count": null,
   "id": "cac6f41e",
   "metadata": {},
   "outputs": [],
   "source": [
    "disp_lr.plot()\n",
    "plt.show()"
   ]
  },
  {
   "cell_type": "markdown",
   "id": "23b7aa7f",
   "metadata": {},
   "source": [
    "### Decision Tree"
   ]
  },
  {
   "cell_type": "code",
   "execution_count": 87,
   "id": "e9b493d9",
   "metadata": {},
   "outputs": [],
   "source": [
    "from sklearn.tree import DecisionTreeClassifier"
   ]
  },
  {
   "cell_type": "code",
   "execution_count": 88,
   "id": "89b90d4d",
   "metadata": {},
   "outputs": [],
   "source": [
    "tree_clf = DecisionTreeClassifier(random_state=42)\n",
    "algorithm_tree = tree_clf.fit(pred_std_train, tar_std_train)"
   ]
  },
  {
   "cell_type": "code",
   "execution_count": null,
   "id": "d48157fa",
   "metadata": {},
   "outputs": [],
   "source": [
    "y_pred = algorithm_tree.predict(pred_std_test)"
   ]
  },
  {
   "cell_type": "code",
   "execution_count": 89,
   "id": "40388fd3",
   "metadata": {},
   "outputs": [
    {
     "ename": "NameError",
     "evalue": "name 'y_pred' is not defined",
     "output_type": "error",
     "traceback": [
      "\u001b[1;31m---------------------------------------------------------------------------\u001b[0m",
      "\u001b[1;31mNameError\u001b[0m                                 Traceback (most recent call last)",
      "Cell \u001b[1;32mIn [89], line 2\u001b[0m\n\u001b[0;32m      1\u001b[0m \u001b[38;5;28;01mfrom\u001b[39;00m \u001b[38;5;21;01msklearn\u001b[39;00m\u001b[38;5;21;01m.\u001b[39;00m\u001b[38;5;21;01mmetrics\u001b[39;00m \u001b[38;5;28;01mimport\u001b[39;00m classification_report, confusion_matrix\n\u001b[1;32m----> 2\u001b[0m \u001b[38;5;28mprint\u001b[39m(confusion_matrix(tar_std_test, \u001b[43my_pred\u001b[49m))\n\u001b[0;32m      3\u001b[0m \u001b[38;5;28mprint\u001b[39m(classification_report(tar_std_test, y_pred))\n",
      "\u001b[1;31mNameError\u001b[0m: name 'y_pred' is not defined"
     ]
    }
   ],
   "source": [
    "from sklearn.metrics import classification_report, confusion_matrix\n",
    "print(confusion_matrix(tar_std_test, y_pred))\n",
    "print(classification_report(tar_std_test, y_pred))"
   ]
  },
  {
   "cell_type": "code",
   "execution_count": null,
   "id": "e5e22510",
   "metadata": {},
   "outputs": [],
   "source": [
    "cm_dt = confusion_matrix(tar_std_test, y_pred)\n",
    "disp_dt = ConfusionMatrixDisplay(confusion_matrix=cm_dt)"
   ]
  },
  {
   "cell_type": "code",
   "execution_count": null,
   "id": "d37e0ce5",
   "metadata": {},
   "outputs": [],
   "source": [
    "disp_dt.plot()\n",
    "plt.show()"
   ]
  },
  {
   "cell_type": "code",
   "execution_count": 90,
   "id": "3f0319cc",
   "metadata": {},
   "outputs": [],
   "source": [
    "from sklearn.ensemble import VotingClassifier"
   ]
  },
  {
   "cell_type": "code",
   "execution_count": 91,
   "id": "0b13f917",
   "metadata": {},
   "outputs": [
    {
     "name": "stderr",
     "output_type": "stream",
     "text": [
      "C:\\Users\\orteg\\anaconda3\\lib\\site-packages\\sklearn\\linear_model\\_logistic.py:444: ConvergenceWarning: lbfgs failed to converge (status=1):\n",
      "STOP: TOTAL NO. of ITERATIONS REACHED LIMIT.\n",
      "\n",
      "Increase the number of iterations (max_iter) or scale the data as shown in:\n",
      "    https://scikit-learn.org/stable/modules/preprocessing.html\n",
      "Please also refer to the documentation for alternative solver options:\n",
      "    https://scikit-learn.org/stable/modules/linear_model.html#logistic-regression\n",
      "  n_iter_i = _check_optimize_result(\n"
     ]
    }
   ],
   "source": [
    "voting_clf_best_of_all = VotingClassifier(estimators=[('knn', algorithm_knn), ('lr', clf), ('dt', algorithm_tree)], \n",
    "                                          voting='soft')\n",
    "algorithm_ens = voting_clf_best_of_all.fit(pred_std_train, tar_std_train)\n",
    "ensemble_hard = algorithm_ens.predict(pred_std_test)"
   ]
  },
  {
   "cell_type": "code",
   "execution_count": 92,
   "id": "8158a856",
   "metadata": {},
   "outputs": [],
   "source": [
    "import seaborn as sns\n",
    "import numpy as np"
   ]
  },
  {
   "cell_type": "code",
   "execution_count": 101,
   "id": "bb8f2673",
   "metadata": {},
   "outputs": [],
   "source": [
    "labels = ['True Neg','False Pos','False Neg','True Pos']\n",
    "categories = ['Rejected', 'Accepted']"
   ]
  },
  {
   "cell_type": "code",
   "execution_count": 102,
   "id": "7e5fa699",
   "metadata": {},
   "outputs": [],
   "source": [
    "cm_ens = confusion_matrix(tar_std_test, ensemble_hard)\n",
    "group_counts = ['{0:0.0f}'.format(value) for value in\n",
    "                cm_ens.flatten()]\n",
    "labels = [f'{v1}\\n{v2}' for v1, v2 in\n",
    "          zip(labels,group_counts)]\n",
    "labels = np.asarray(labels).reshape(2,2)\n",
    "disp_ens = ConfusionMatrixDisplay(confusion_matrix=cm_ens)"
   ]
  },
  {
   "cell_type": "code",
   "execution_count": 103,
   "id": "471ab4d3",
   "metadata": {},
   "outputs": [
    {
     "ename": "ConversionError",
     "evalue": "Failed to convert value(s) to axis units: ['Rejected', 'Accepted']",
     "output_type": "error",
     "traceback": [
      "\u001b[1;31m---------------------------------------------------------------------------\u001b[0m",
      "\u001b[1;31mValueError\u001b[0m                                Traceback (most recent call last)",
      "File \u001b[1;32m~\\anaconda3\\lib\\site-packages\\matplotlib\\axis.py:1506\u001b[0m, in \u001b[0;36mAxis.convert_units\u001b[1;34m(self, x)\u001b[0m\n\u001b[0;32m   1505\u001b[0m \u001b[38;5;28;01mtry\u001b[39;00m:\n\u001b[1;32m-> 1506\u001b[0m     ret \u001b[38;5;241m=\u001b[39m \u001b[38;5;28;43mself\u001b[39;49m\u001b[38;5;241;43m.\u001b[39;49m\u001b[43mconverter\u001b[49m\u001b[38;5;241;43m.\u001b[39;49m\u001b[43mconvert\u001b[49m\u001b[43m(\u001b[49m\u001b[43mx\u001b[49m\u001b[43m,\u001b[49m\u001b[43m \u001b[49m\u001b[38;5;28;43mself\u001b[39;49m\u001b[38;5;241;43m.\u001b[39;49m\u001b[43munits\u001b[49m\u001b[43m,\u001b[49m\u001b[43m \u001b[49m\u001b[38;5;28;43mself\u001b[39;49m\u001b[43m)\u001b[49m\n\u001b[0;32m   1507\u001b[0m \u001b[38;5;28;01mexcept\u001b[39;00m \u001b[38;5;167;01mException\u001b[39;00m \u001b[38;5;28;01mas\u001b[39;00m e:\n",
      "File \u001b[1;32m~\\anaconda3\\lib\\site-packages\\matplotlib\\category.py:49\u001b[0m, in \u001b[0;36mStrCategoryConverter.convert\u001b[1;34m(value, unit, axis)\u001b[0m\n\u001b[0;32m     48\u001b[0m \u001b[38;5;28;01mif\u001b[39;00m unit \u001b[38;5;129;01mis\u001b[39;00m \u001b[38;5;28;01mNone\u001b[39;00m:\n\u001b[1;32m---> 49\u001b[0m     \u001b[38;5;28;01mraise\u001b[39;00m \u001b[38;5;167;01mValueError\u001b[39;00m(\n\u001b[0;32m     50\u001b[0m         \u001b[38;5;124m'\u001b[39m\u001b[38;5;124mMissing category information for StrCategoryConverter; \u001b[39m\u001b[38;5;124m'\u001b[39m\n\u001b[0;32m     51\u001b[0m         \u001b[38;5;124m'\u001b[39m\u001b[38;5;124mthis might be caused by unintendedly mixing categorical and \u001b[39m\u001b[38;5;124m'\u001b[39m\n\u001b[0;32m     52\u001b[0m         \u001b[38;5;124m'\u001b[39m\u001b[38;5;124mnumeric data\u001b[39m\u001b[38;5;124m'\u001b[39m)\n\u001b[0;32m     53\u001b[0m StrCategoryConverter\u001b[38;5;241m.\u001b[39m_validate_unit(unit)\n",
      "\u001b[1;31mValueError\u001b[0m: Missing category information for StrCategoryConverter; this might be caused by unintendedly mixing categorical and numeric data",
      "\nThe above exception was the direct cause of the following exception:\n",
      "\u001b[1;31mConversionError\u001b[0m                           Traceback (most recent call last)",
      "Cell \u001b[1;32mIn [103], line 2\u001b[0m\n\u001b[0;32m      1\u001b[0m disp_ens\u001b[38;5;241m.\u001b[39mplot(cmap\u001b[38;5;241m=\u001b[39m\u001b[38;5;124m\"\u001b[39m\u001b[38;5;124msummer\u001b[39m\u001b[38;5;124m\"\u001b[39m)\n\u001b[1;32m----> 2\u001b[0m \u001b[43mplt\u001b[49m\u001b[38;5;241;43m.\u001b[39;49m\u001b[43mxticks\u001b[49m\u001b[43m(\u001b[49m\u001b[43m[\u001b[49m\u001b[38;5;124;43m'\u001b[39;49m\u001b[38;5;124;43mRejected\u001b[39;49m\u001b[38;5;124;43m'\u001b[39;49m\u001b[43m,\u001b[49m\u001b[43m \u001b[49m\u001b[38;5;124;43m'\u001b[39;49m\u001b[38;5;124;43mAccepted\u001b[39;49m\u001b[38;5;124;43m'\u001b[39;49m\u001b[43m]\u001b[49m\u001b[43m,\u001b[49m\u001b[43m \u001b[49m\u001b[43mrotation\u001b[49m\u001b[38;5;241;43m=\u001b[39;49m\u001b[38;5;241;43m45\u001b[39;49m\u001b[43m)\u001b[49m\n\u001b[0;32m      3\u001b[0m plt\u001b[38;5;241m.\u001b[39mshow()\n",
      "File \u001b[1;32m~\\anaconda3\\lib\\site-packages\\matplotlib\\pyplot.py:1807\u001b[0m, in \u001b[0;36mxticks\u001b[1;34m(ticks, labels, **kwargs)\u001b[0m\n\u001b[0;32m   1804\u001b[0m         \u001b[38;5;28;01mraise\u001b[39;00m \u001b[38;5;167;01mTypeError\u001b[39;00m(\u001b[38;5;124m\"\u001b[39m\u001b[38;5;124mxticks(): Parameter \u001b[39m\u001b[38;5;124m'\u001b[39m\u001b[38;5;124mlabels\u001b[39m\u001b[38;5;124m'\u001b[39m\u001b[38;5;124m can\u001b[39m\u001b[38;5;124m'\u001b[39m\u001b[38;5;124mt be set \u001b[39m\u001b[38;5;124m\"\u001b[39m\n\u001b[0;32m   1805\u001b[0m                         \u001b[38;5;124m\"\u001b[39m\u001b[38;5;124mwithout setting \u001b[39m\u001b[38;5;124m'\u001b[39m\u001b[38;5;124mticks\u001b[39m\u001b[38;5;124m'\u001b[39m\u001b[38;5;124m\"\u001b[39m)\n\u001b[0;32m   1806\u001b[0m \u001b[38;5;28;01melse\u001b[39;00m:\n\u001b[1;32m-> 1807\u001b[0m     locs \u001b[38;5;241m=\u001b[39m \u001b[43max\u001b[49m\u001b[38;5;241;43m.\u001b[39;49m\u001b[43mset_xticks\u001b[49m\u001b[43m(\u001b[49m\u001b[43mticks\u001b[49m\u001b[43m)\u001b[49m\n\u001b[0;32m   1809\u001b[0m \u001b[38;5;28;01mif\u001b[39;00m labels \u001b[38;5;129;01mis\u001b[39;00m \u001b[38;5;28;01mNone\u001b[39;00m:\n\u001b[0;32m   1810\u001b[0m     labels \u001b[38;5;241m=\u001b[39m ax\u001b[38;5;241m.\u001b[39mget_xticklabels()\n",
      "File \u001b[1;32m~\\anaconda3\\lib\\site-packages\\matplotlib\\axes\\_base.py:75\u001b[0m, in \u001b[0;36m_axis_method_wrapper.__set_name__.<locals>.wrapper\u001b[1;34m(self, *args, **kwargs)\u001b[0m\n\u001b[0;32m     74\u001b[0m \u001b[38;5;28;01mdef\u001b[39;00m \u001b[38;5;21mwrapper\u001b[39m(\u001b[38;5;28mself\u001b[39m, \u001b[38;5;241m*\u001b[39margs, \u001b[38;5;241m*\u001b[39m\u001b[38;5;241m*\u001b[39mkwargs):\n\u001b[1;32m---> 75\u001b[0m     \u001b[38;5;28;01mreturn\u001b[39;00m get_method(\u001b[38;5;28mself\u001b[39m)(\u001b[38;5;241m*\u001b[39margs, \u001b[38;5;241m*\u001b[39m\u001b[38;5;241m*\u001b[39mkwargs)\n",
      "File \u001b[1;32m~\\anaconda3\\lib\\site-packages\\matplotlib\\axis.py:1855\u001b[0m, in \u001b[0;36mAxis.set_ticks\u001b[1;34m(self, ticks, labels, minor, **kwargs)\u001b[0m\n\u001b[0;32m   1829\u001b[0m \u001b[38;5;28;01mdef\u001b[39;00m \u001b[38;5;21mset_ticks\u001b[39m(\u001b[38;5;28mself\u001b[39m, ticks, labels\u001b[38;5;241m=\u001b[39m\u001b[38;5;28;01mNone\u001b[39;00m, \u001b[38;5;241m*\u001b[39m, minor\u001b[38;5;241m=\u001b[39m\u001b[38;5;28;01mFalse\u001b[39;00m, \u001b[38;5;241m*\u001b[39m\u001b[38;5;241m*\u001b[39mkwargs):\n\u001b[0;32m   1830\u001b[0m     \u001b[38;5;124;03m\"\"\"\u001b[39;00m\n\u001b[0;32m   1831\u001b[0m \u001b[38;5;124;03m    Set this Axis' tick locations and optionally labels.\u001b[39;00m\n\u001b[0;32m   1832\u001b[0m \n\u001b[1;32m   (...)\u001b[0m\n\u001b[0;32m   1853\u001b[0m \u001b[38;5;124;03m    ticks.\u001b[39;00m\n\u001b[0;32m   1854\u001b[0m \u001b[38;5;124;03m    \"\"\"\u001b[39;00m\n\u001b[1;32m-> 1855\u001b[0m     result \u001b[38;5;241m=\u001b[39m \u001b[38;5;28;43mself\u001b[39;49m\u001b[38;5;241;43m.\u001b[39;49m\u001b[43m_set_tick_locations\u001b[49m\u001b[43m(\u001b[49m\u001b[43mticks\u001b[49m\u001b[43m,\u001b[49m\u001b[43m \u001b[49m\u001b[43mminor\u001b[49m\u001b[38;5;241;43m=\u001b[39;49m\u001b[43mminor\u001b[49m\u001b[43m)\u001b[49m\n\u001b[0;32m   1856\u001b[0m     \u001b[38;5;28;01mif\u001b[39;00m labels \u001b[38;5;129;01mis\u001b[39;00m \u001b[38;5;129;01mnot\u001b[39;00m \u001b[38;5;28;01mNone\u001b[39;00m:\n\u001b[0;32m   1857\u001b[0m         \u001b[38;5;28mself\u001b[39m\u001b[38;5;241m.\u001b[39mset_ticklabels(labels, minor\u001b[38;5;241m=\u001b[39mminor, \u001b[38;5;241m*\u001b[39m\u001b[38;5;241m*\u001b[39mkwargs)\n",
      "File \u001b[1;32m~\\anaconda3\\lib\\site-packages\\matplotlib\\axis.py:1804\u001b[0m, in \u001b[0;36mAxis._set_tick_locations\u001b[1;34m(self, ticks, minor)\u001b[0m\n\u001b[0;32m   1800\u001b[0m \u001b[38;5;28;01mdef\u001b[39;00m \u001b[38;5;21m_set_tick_locations\u001b[39m(\u001b[38;5;28mself\u001b[39m, ticks, \u001b[38;5;241m*\u001b[39m, minor\u001b[38;5;241m=\u001b[39m\u001b[38;5;28;01mFalse\u001b[39;00m):\n\u001b[0;32m   1801\u001b[0m     \u001b[38;5;66;03m# see docstring of set_ticks\u001b[39;00m\n\u001b[0;32m   1802\u001b[0m \n\u001b[0;32m   1803\u001b[0m     \u001b[38;5;66;03m# XXX if the user changes units, the information will be lost here\u001b[39;00m\n\u001b[1;32m-> 1804\u001b[0m     ticks \u001b[38;5;241m=\u001b[39m \u001b[38;5;28;43mself\u001b[39;49m\u001b[38;5;241;43m.\u001b[39;49m\u001b[43mconvert_units\u001b[49m\u001b[43m(\u001b[49m\u001b[43mticks\u001b[49m\u001b[43m)\u001b[49m\n\u001b[0;32m   1805\u001b[0m     \u001b[38;5;28;01mfor\u001b[39;00m name, axis \u001b[38;5;129;01min\u001b[39;00m \u001b[38;5;28mself\u001b[39m\u001b[38;5;241m.\u001b[39maxes\u001b[38;5;241m.\u001b[39m_get_axis_map()\u001b[38;5;241m.\u001b[39mitems():\n\u001b[0;32m   1806\u001b[0m         \u001b[38;5;28;01mif\u001b[39;00m \u001b[38;5;28mself\u001b[39m \u001b[38;5;129;01mis\u001b[39;00m axis:\n",
      "File \u001b[1;32m~\\anaconda3\\lib\\site-packages\\matplotlib\\axis.py:1508\u001b[0m, in \u001b[0;36mAxis.convert_units\u001b[1;34m(self, x)\u001b[0m\n\u001b[0;32m   1506\u001b[0m     ret \u001b[38;5;241m=\u001b[39m \u001b[38;5;28mself\u001b[39m\u001b[38;5;241m.\u001b[39mconverter\u001b[38;5;241m.\u001b[39mconvert(x, \u001b[38;5;28mself\u001b[39m\u001b[38;5;241m.\u001b[39munits, \u001b[38;5;28mself\u001b[39m)\n\u001b[0;32m   1507\u001b[0m \u001b[38;5;28;01mexcept\u001b[39;00m \u001b[38;5;167;01mException\u001b[39;00m \u001b[38;5;28;01mas\u001b[39;00m e:\n\u001b[1;32m-> 1508\u001b[0m     \u001b[38;5;28;01mraise\u001b[39;00m munits\u001b[38;5;241m.\u001b[39mConversionError(\u001b[38;5;124m'\u001b[39m\u001b[38;5;124mFailed to convert value(s) to axis \u001b[39m\u001b[38;5;124m'\u001b[39m\n\u001b[0;32m   1509\u001b[0m                                  \u001b[38;5;124mf\u001b[39m\u001b[38;5;124m'\u001b[39m\u001b[38;5;124munits: \u001b[39m\u001b[38;5;132;01m{\u001b[39;00mx\u001b[38;5;132;01m!r}\u001b[39;00m\u001b[38;5;124m'\u001b[39m) \u001b[38;5;28;01mfrom\u001b[39;00m \u001b[38;5;21;01me\u001b[39;00m\n\u001b[0;32m   1510\u001b[0m \u001b[38;5;28;01mreturn\u001b[39;00m ret\n",
      "\u001b[1;31mConversionError\u001b[0m: Failed to convert value(s) to axis units: ['Rejected', 'Accepted']"
     ]
    },
    {
     "data": {
      "image/png": "[encoded data removed]",
      "text/plain": [
       "<Figure size 640x480 with 2 Axes>"
      ]
     },
     "metadata": {},
     "output_type": "display_data"
    }
   ],
   "source": [
    "disp_ens.plot(cmap=\"summer\")\n",
    "plt.xticks(['Rejected', 'Accepted'], rotation=45)\n",
    "plt.show()"
   ]
  },
  {
   "cell_type": "code",
   "execution_count": 104,
   "id": "9aa05792",
   "metadata": {},
   "outputs": [
    {
     "data": {
      "image/png": "[encoded data removed]",
      "text/plain": [
       "<Figure size 800x600 with 2 Axes>"
      ]
     },
     "metadata": {},
     "output_type": "display_data"
    }
   ],
   "source": [
    "plt.figure(figsize=(8,6), dpi=100)\n",
    "# Scale up the size of all text\n",
    "sns.set(font_scale = 1.1)\n",
    "\n",
    "ax = sns.heatmap(cm_ens, annot=labels, fmt='', cmap='Oranges')\n",
    "# set x-axis label and ticks. \n",
    "ax.set_xlabel(\"Predicted\", fontsize=14, labelpad=20)\n",
    "ax.xaxis.set_ticklabels(['Rejected', 'Accepted'])\n",
    "\n",
    "# set y-axis label and ticks\n",
    "ax.set_ylabel(\"Actual\", fontsize=14, labelpad=20)\n",
    "ax.yaxis.set_ticklabels(['Rejected', 'Accepted'])\n",
    "\n",
    "ax.set_title(\"Confusion Matrix for Loan Applications\", fontsize=20, pad=20)\n",
    "\n",
    "plt.show()"
   ]
  },
  {
   "cell_type": "code",
   "execution_count": null,
   "id": "7dd180ad",
   "metadata": {},
   "outputs": [],
   "source": [
    "print(classification_report(tar_std_test, ensemble_hard))"
   ]
  },
  {
   "cell_type": "code",
   "execution_count": null,
   "id": "4ab9fbfa",
   "metadata": {},
   "outputs": [],
   "source": [
    "plt.barh(pred_std_train.columns, tree_clf.feature_importances_)\n",
    "plt.show()"
   ]
  },
  {
   "cell_type": "code",
   "execution_count": null,
   "id": "f3f7eda7",
   "metadata": {},
   "outputs": [],
   "source": []
  }
 ],
 "metadata": {
  "kernelspec": {
   "display_name": "Python 3 (ipykernel)",
   "language": "python",
   "name": "python3"
  },
  "language_info": {
   "codemirror_mode": {
    "name": "ipython",
    "version": 3
   },
   "file_extension": ".py",
   "mimetype": "text/x-python",
   "name": "python",
   "nbconvert_exporter": "python",
   "pygments_lexer": "ipython3",
   "version": "3.9.7"
  }
 },
 "nbformat": 4,
 "nbformat_minor": 5
}
