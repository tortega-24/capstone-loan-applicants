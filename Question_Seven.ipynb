{
 "cells": [
  {
   "cell_type": "code",
   "execution_count": 1,
   "id": "dc83f81e",
   "metadata": {},
   "outputs": [
    {
     "name": "stderr",
     "output_type": "stream",
     "text": [
      "C:\\Users\\orteg\\anaconda3\\lib\\site-packages\\numpy\\_distributor_init.py:30: UserWarning: loaded more than 1 DLL from .libs:\n",
      "C:\\Users\\orteg\\anaconda3\\lib\\site-packages\\numpy\\.libs\\libopenblas.EL2C6PLE4ZYW3ECEVIV3OXXGRN2NRFM2.gfortran-win_amd64.dll\n",
      "C:\\Users\\orteg\\anaconda3\\lib\\site-packages\\numpy\\.libs\\libopenblas64__v0.3.21-gcc_10_3_0.dll\n",
      "  warnings.warn(\"loaded more than 1 DLL from .libs:\"\n"
     ]
    }
   ],
   "source": [
    "import pandas as pd\n",
    "import matplotlib.pyplot as plt\n",
    "from sklearn import preprocessing\n",
    "from statsmodels.stats.outliers_influence import variance_inflation_factor\n",
    "from sklearn.model_selection import train_test_split\n",
    "import seaborn as sns\n",
    "from sklearn.ensemble import VotingClassifier\n",
    "from sklearn.tree import DecisionTreeClassifier\n",
    "from sklearn.linear_model import LogisticRegression\n",
    "import math as m\n",
    "from sklearn.neighbors import KNeighborsClassifier as knn\n",
    "import numpy as np"
   ]
  },
  {
   "cell_type": "code",
   "execution_count": 2,
   "id": "5e93fd7e",
   "metadata": {},
   "outputs": [],
   "source": [
    "df = pd.read_csv(\"model_only_data.csv\")"
   ]
  },
  {
   "cell_type": "code",
   "execution_count": 3,
   "id": "4a5006ce",
   "metadata": {},
   "outputs": [
    {
     "data": {
      "text/html": [
       "<div>\n",
       "<style scoped>\n",
       "    .dataframe tbody tr th:only-of-type {\n",
       "        vertical-align: middle;\n",
       "    }\n",
       "\n",
       "    .dataframe tbody tr th {\n",
       "        vertical-align: top;\n",
       "    }\n",
       "\n",
       "    .dataframe thead th {\n",
       "        text-align: right;\n",
       "    }\n",
       "</style>\n",
       "<table border=\"1\" class=\"dataframe\">\n",
       "  <thead>\n",
       "    <tr style=\"text-align: right;\">\n",
       "      <th></th>\n",
       "      <th>Unnamed: 0</th>\n",
       "      <th>amount_requested</th>\n",
       "      <th>reason_for_loan</th>\n",
       "      <th>debt_to_income_ratio</th>\n",
       "      <th>zip_code</th>\n",
       "      <th>state</th>\n",
       "      <th>emp_length</th>\n",
       "      <th>policy_code</th>\n",
       "      <th>applicant_result</th>\n",
       "    </tr>\n",
       "  </thead>\n",
       "  <tbody>\n",
       "    <tr>\n",
       "      <th>0</th>\n",
       "      <td>0</td>\n",
       "      <td>9600.0</td>\n",
       "      <td>Credit card refinancing</td>\n",
       "      <td>24.45</td>\n",
       "      <td>816xx</td>\n",
       "      <td>CO</td>\n",
       "      <td>4 years</td>\n",
       "      <td>1</td>\n",
       "      <td>1</td>\n",
       "    </tr>\n",
       "    <tr>\n",
       "      <th>1</th>\n",
       "      <td>1</td>\n",
       "      <td>6000.0</td>\n",
       "      <td>Home improvement</td>\n",
       "      <td>14.34</td>\n",
       "      <td>210xx</td>\n",
       "      <td>MD</td>\n",
       "      <td>10+ years</td>\n",
       "      <td>1</td>\n",
       "      <td>1</td>\n",
       "    </tr>\n",
       "    <tr>\n",
       "      <th>2</th>\n",
       "      <td>2</td>\n",
       "      <td>10000.0</td>\n",
       "      <td>Debt consolidation</td>\n",
       "      <td>25.35</td>\n",
       "      <td>890xx</td>\n",
       "      <td>NV</td>\n",
       "      <td>7 years</td>\n",
       "      <td>1</td>\n",
       "      <td>1</td>\n",
       "    </tr>\n",
       "    <tr>\n",
       "      <th>3</th>\n",
       "      <td>3</td>\n",
       "      <td>25000.0</td>\n",
       "      <td>Debt consolidation</td>\n",
       "      <td>7.17</td>\n",
       "      <td>640xx</td>\n",
       "      <td>MO</td>\n",
       "      <td>5 years</td>\n",
       "      <td>1</td>\n",
       "      <td>1</td>\n",
       "    </tr>\n",
       "    <tr>\n",
       "      <th>4</th>\n",
       "      <td>4</td>\n",
       "      <td>2000.0</td>\n",
       "      <td>Other</td>\n",
       "      <td>9.30</td>\n",
       "      <td>923xx</td>\n",
       "      <td>CA</td>\n",
       "      <td>4 years</td>\n",
       "      <td>1</td>\n",
       "      <td>1</td>\n",
       "    </tr>\n",
       "  </tbody>\n",
       "</table>\n",
       "</div>"
      ],
      "text/plain": [
       "   Unnamed: 0  amount_requested          reason_for_loan  \\\n",
       "0           0            9600.0  Credit card refinancing   \n",
       "1           1            6000.0         Home improvement   \n",
       "2           2           10000.0       Debt consolidation   \n",
       "3           3           25000.0       Debt consolidation   \n",
       "4           4            2000.0                    Other   \n",
       "\n",
       "   debt_to_income_ratio zip_code state emp_length  policy_code  \\\n",
       "0                 24.45    816xx    CO    4 years            1   \n",
       "1                 14.34    210xx    MD  10+ years            1   \n",
       "2                 25.35    890xx    NV    7 years            1   \n",
       "3                  7.17    640xx    MO    5 years            1   \n",
       "4                  9.30    923xx    CA    4 years            1   \n",
       "\n",
       "   applicant_result  \n",
       "0                 1  \n",
       "1                 1  \n",
       "2                 1  \n",
       "3                 1  \n",
       "4                 1  "
      ]
     },
     "execution_count": 3,
     "metadata": {},
     "output_type": "execute_result"
    }
   ],
   "source": [
    "df.head()"
   ]
  },
  {
   "cell_type": "markdown",
   "id": "475484c2",
   "metadata": {},
   "source": [
    "## Breakdown of Features in Preparation for Models"
   ]
  },
  {
   "cell_type": "markdown",
   "id": "daa50e0e",
   "metadata": {},
   "source": [
    "### Handling Reason for Loan"
   ]
  },
  {
   "cell_type": "code",
   "execution_count": 4,
   "id": "e2fa98ee",
   "metadata": {},
   "outputs": [
    {
     "data": {
      "text/plain": [
       "Debt consolidation         75380\n",
       "Credit card refinancing    29157\n",
       "debt_consolidation         21376\n",
       "Other                      15117\n",
       "Home improvement            7677\n",
       "other                       7180\n",
       "credit_card                 4847\n",
       "Major purchase              3911\n",
       "Car financing               3751\n",
       "home_improvement            2536\n",
       "Medical expenses            2509\n",
       "Home buying                 2364\n",
       "Moving and relocation       1820\n",
       "car                         1801\n",
       "Business                    1706\n",
       "Name: reason_for_loan, dtype: int64"
      ]
     },
     "execution_count": 4,
     "metadata": {},
     "output_type": "execute_result"
    }
   ],
   "source": [
    "df['reason_for_loan'].value_counts()[0:15]"
   ]
  },
  {
   "cell_type": "code",
   "execution_count": 5,
   "id": "45a542a9",
   "metadata": {},
   "outputs": [],
   "source": [
    "home = ['home', 'house', 'kitchen', 'improvement', 'pool', 'remodel']\n",
    "car = ['car', 'auto', 'motorcycle', 'vehicle', 'truck']\n",
    "business = ['business']\n",
    "medical = ['medical', 'remove']\n",
    "debt_credit_issues = ['consolidation', 'credit', 'debt', 'refinancing', 'card', 'cc', 'consolidate', 'payoff', \n",
    "                      'interest', 'rate'] \n",
    "moving = ['move', 'moving']\n",
    "major_purchase = ['purchase', 'major']\n",
    "vacation = ['vacation']\n",
    "wedding = ['wedding', 'ring']\n",
    "student = ['student', 'college', 'education', 'school']\n",
    "#If not categories match, then it will be placed into the 'other' category"
   ]
  },
  {
   "cell_type": "markdown",
   "id": "97e5cedc",
   "metadata": {},
   "source": [
    "Issues:\n",
    "-Words have multiple meanings \n",
    "-Obervations can match multiple categories\n",
    "-Misspelling\n",
    "-Is what they write what they mean? (freedom loans)"
   ]
  },
  {
   "cell_type": "markdown",
   "id": "902a2412",
   "metadata": {},
   "source": [
    "I will go from specific to general debt consolidation and credit card issues. Lastly, we will have other."
   ]
  },
  {
   "cell_type": "code",
   "execution_count": 6,
   "id": "44f36cc1",
   "metadata": {},
   "outputs": [],
   "source": [
    "df[\"reduced_reason\"] = \"Test\""
   ]
  },
  {
   "cell_type": "code",
   "execution_count": 7,
   "id": "1a95469b",
   "metadata": {},
   "outputs": [],
   "source": [
    "df['reason_for_loan'] = df['reason_for_loan'].apply(str.lower)"
   ]
  },
  {
   "cell_type": "code",
   "execution_count": 8,
   "id": "7e55ef3d",
   "metadata": {},
   "outputs": [],
   "source": [
    "my_dict = {\"Debt/Credit Issues\": debt_credit_issues, \"Home\": home, \"Car\": car, \"Business\": business, \"Medical\": medical, \"Vacation\": vacation, \"Wedding\": wedding,\n",
    "        \"Moving\": moving, \"Student\": student, \"Major Purchase\": major_purchase}"
   ]
  },
  {
   "cell_type": "code",
   "execution_count": 9,
   "id": "3e9a36aa",
   "metadata": {},
   "outputs": [],
   "source": [
    "for k, v in my_dict.items():\n",
    "    for word in v:\n",
    "        df.loc[df['reason_for_loan'].str.contains(word), 'reduced_reason'] = k"
   ]
  },
  {
   "cell_type": "code",
   "execution_count": 10,
   "id": "1bd8f2e6",
   "metadata": {},
   "outputs": [
    {
     "data": {
      "text/plain": [
       "Debt/Credit Issues    100588\n",
       "Car                    41132\n",
       "Test                   25352\n",
       "Home                   13738\n",
       "Major Purchase          5698\n",
       "Business                4177\n",
       "Medical                 3871\n",
       "Moving                  3317\n",
       "Vacation                1792\n",
       "Wedding                  236\n",
       "Student                   99\n",
       "Name: reduced_reason, dtype: int64"
      ]
     },
     "execution_count": 10,
     "metadata": {},
     "output_type": "execute_result"
    }
   ],
   "source": [
    "df['reduced_reason'].value_counts()"
   ]
  },
  {
   "cell_type": "code",
   "execution_count": 11,
   "id": "62b39dd7",
   "metadata": {},
   "outputs": [
    {
     "data": {
      "text/plain": [
       "other               22297\n",
       "personal loan         159\n",
       "green loan            139\n",
       "renewable_energy      113\n",
       "personal               91\n",
       "                    ...  \n",
       "summer 2012             1\n",
       "educateme               1\n",
       "relax relax             1\n",
       "a safe bet              1\n",
       "pay irs                 1\n",
       "Name: reason_for_loan, Length: 1795, dtype: int64"
      ]
     },
     "execution_count": 11,
     "metadata": {},
     "output_type": "execute_result"
    }
   ],
   "source": [
    "df['reason_for_loan'][df['reduced_reason'] == \"Test\"].value_counts()"
   ]
  },
  {
   "cell_type": "markdown",
   "id": "99721608",
   "metadata": {},
   "source": [
    "I think that these are pretty great results!! Now we set the vague responses to \"Other.\""
   ]
  },
  {
   "cell_type": "code",
   "execution_count": 12,
   "id": "aab4eddc",
   "metadata": {},
   "outputs": [
    {
     "name": "stderr",
     "output_type": "stream",
     "text": [
      "C:\\Users\\orteg\\AppData\\Local\\Temp\\ipykernel_18808\\57583683.py:1: SettingWithCopyWarning: \n",
      "A value is trying to be set on a copy of a slice from a DataFrame\n",
      "\n",
      "See the caveats in the documentation: https://pandas.pydata.org/pandas-docs/stable/user_guide/indexing.html#returning-a-view-versus-a-copy\n",
      "  df['reduced_reason'][df['reduced_reason'] == \"Test\"] = \"Other\"\n"
     ]
    }
   ],
   "source": [
    "df['reduced_reason'][df['reduced_reason'] == \"Test\"] = \"Other\""
   ]
  },
  {
   "cell_type": "markdown",
   "id": "99ec0089",
   "metadata": {},
   "source": [
    "### Handling the Employee Length Column"
   ]
  },
  {
   "cell_type": "markdown",
   "id": "609321be",
   "metadata": {},
   "source": [
    "I am going to rank the employment length. 0 is < 1 year and 10 is 10+ years."
   ]
  },
  {
   "cell_type": "code",
   "execution_count": 13,
   "id": "e168d6d7",
   "metadata": {},
   "outputs": [],
   "source": [
    "ranking = ['< 1 year', '1 year', '2 years', '3 years', '4 years', '5 years', '6 years', '7 years',\n",
    "          '8 years', '9 years', '10+ years']"
   ]
  },
  {
   "cell_type": "code",
   "execution_count": 14,
   "id": "94b0f940",
   "metadata": {},
   "outputs": [
    {
     "data": {
      "text/plain": [
       "< 1 year     94715\n",
       "10+ years    37076\n",
       "5 years      15176\n",
       "2 years      10520\n",
       "3 years       9224\n",
       "1 year        8021\n",
       "4 years       6866\n",
       "6 years       5163\n",
       "8 years       4645\n",
       "7 years       4594\n",
       "9 years       4000\n",
       "Name: emp_length, dtype: int64"
      ]
     },
     "execution_count": 14,
     "metadata": {},
     "output_type": "execute_result"
    }
   ],
   "source": [
    "df['emp_length'].value_counts()"
   ]
  },
  {
   "cell_type": "code",
   "execution_count": 15,
   "id": "a265ce5f",
   "metadata": {},
   "outputs": [],
   "source": [
    "df_new = df.copy()"
   ]
  },
  {
   "cell_type": "code",
   "execution_count": 16,
   "id": "6fc6d49f",
   "metadata": {},
   "outputs": [],
   "source": [
    "for index, value in enumerate(ranking):\n",
    "    df_new.loc[df_new['emp_length'].str.contains(value), 'emp_length'] = str(index)"
   ]
  },
  {
   "cell_type": "code",
   "execution_count": 17,
   "id": "265915b7",
   "metadata": {},
   "outputs": [],
   "source": [
    "df_new.loc[df_new['emp_length'].str.contains('10+'), 'emp_length'] = str(10)"
   ]
  },
  {
   "cell_type": "code",
   "execution_count": 18,
   "id": "c012dfbd",
   "metadata": {},
   "outputs": [
    {
     "data": {
      "text/plain": [
       "0     94715\n",
       "10    37076\n",
       "5     15176\n",
       "2     10520\n",
       "3      9224\n",
       "1      8021\n",
       "4      6866\n",
       "6      5163\n",
       "8      4645\n",
       "7      4594\n",
       "9      4000\n",
       "Name: emp_length, dtype: int64"
      ]
     },
     "execution_count": 18,
     "metadata": {},
     "output_type": "execute_result"
    }
   ],
   "source": [
    "df_new['emp_length'].value_counts()"
   ]
  },
  {
   "cell_type": "code",
   "execution_count": 19,
   "id": "baaec8c2",
   "metadata": {},
   "outputs": [],
   "source": [
    "df_new['emp_length'] = df_new['emp_length'].astype(\"int64\")"
   ]
  },
  {
   "cell_type": "markdown",
   "id": "9e8ed9c7",
   "metadata": {},
   "source": [
    "I will remove the useless index column."
   ]
  },
  {
   "cell_type": "code",
   "execution_count": 20,
   "id": "40ad86ad",
   "metadata": {},
   "outputs": [],
   "source": [
    "df_new.drop(['Unnamed: 0'], inplace=True, axis=1)"
   ]
  },
  {
   "cell_type": "markdown",
   "id": "8fd1ad0f",
   "metadata": {},
   "source": [
    "### Dealing with Amount Requested"
   ]
  },
  {
   "cell_type": "code",
   "execution_count": 21,
   "id": "20943250",
   "metadata": {},
   "outputs": [
    {
     "data": {
      "image/png": "[encoded data removed]",
      "text/plain": [
       "<Figure size 640x480 with 1 Axes>"
      ]
     },
     "metadata": {},
     "output_type": "display_data"
    }
   ],
   "source": [
    "plt.hist(df_new['amount_requested'][df_new['amount_requested'] < 50000])\n",
    "plt.show()"
   ]
  },
  {
   "cell_type": "code",
   "execution_count": 22,
   "id": "4d3c3189",
   "metadata": {},
   "outputs": [
    {
     "data": {
      "image/png": "[encoded data removed]",
      "text/plain": [
       "<Figure size 640x480 with 1 Axes>"
      ]
     },
     "metadata": {},
     "output_type": "display_data"
    }
   ],
   "source": [
    "plt.hist(df_new['amount_requested'][df_new['amount_requested'] > 50000])\n",
    "plt.show()"
   ]
  },
  {
   "cell_type": "markdown",
   "id": "855462d5",
   "metadata": {},
   "source": [
    "Considering the variety of reasons people apply for loans, I do not think it is valid to set any limit on the amount requested. I think the variation is natural."
   ]
  },
  {
   "cell_type": "markdown",
   "id": "6a1ca0ad",
   "metadata": {},
   "source": [
    "### Dealing with DTI Ratio"
   ]
  },
  {
   "cell_type": "code",
   "execution_count": 23,
   "id": "1d2ee311",
   "metadata": {},
   "outputs": [
    {
     "data": {
      "image/png": "[encoded data removed]",
      "text/plain": [
       "<Figure size 640x480 with 1 Axes>"
      ]
     },
     "metadata": {},
     "output_type": "display_data"
    }
   ],
   "source": [
    "plt.hist(df_new['debt_to_income_ratio'][df_new['debt_to_income_ratio'] < 100])\n",
    "plt.show()"
   ]
  },
  {
   "cell_type": "code",
   "execution_count": 24,
   "id": "f61dd84c",
   "metadata": {},
   "outputs": [
    {
     "data": {
      "image/png": "[encoded data removed]",
      "text/plain": [
       "<Figure size 640x480 with 1 Axes>"
      ]
     },
     "metadata": {},
     "output_type": "display_data"
    }
   ],
   "source": [
    "plt.hist(df_new['debt_to_income_ratio'][df_new['debt_to_income_ratio'] > 100])\n",
    "plt.show()"
   ]
  },
  {
   "cell_type": "code",
   "execution_count": 25,
   "id": "62c54d10",
   "metadata": {},
   "outputs": [
    {
     "data": {
      "text/plain": [
       "3037"
      ]
     },
     "execution_count": 25,
     "metadata": {},
     "output_type": "execute_result"
    }
   ],
   "source": [
    "len(df_new['debt_to_income_ratio'][df_new['debt_to_income_ratio'] > 100])"
   ]
  },
  {
   "cell_type": "code",
   "execution_count": 26,
   "id": "7ffd164e",
   "metadata": {},
   "outputs": [
    {
     "data": {
      "image/png": "[encoded data removed]",
      "text/plain": [
       "<Figure size 640x480 with 1 Axes>"
      ]
     },
     "metadata": {},
     "output_type": "display_data"
    }
   ],
   "source": [
    "plt.boxplot(df_new['debt_to_income_ratio'])\n",
    "plt.show()"
   ]
  },
  {
   "cell_type": "code",
   "execution_count": 27,
   "id": "78e84af8",
   "metadata": {},
   "outputs": [
    {
     "data": {
      "image/png": "[encoded data removed]",
      "text/plain": [
       "<Figure size 640x480 with 1 Axes>"
      ]
     },
     "metadata": {},
     "output_type": "display_data"
    }
   ],
   "source": [
    "plt.boxplot(df_new['debt_to_income_ratio'][df_new['debt_to_income_ratio'] < 100])\n",
    "plt.show()"
   ]
  },
  {
   "cell_type": "markdown",
   "id": "2f9a7fd4",
   "metadata": {},
   "source": [
    "Based on the odd behavior of ratios, I think removing the rows that have ratios greater than 100% is the best course of action. If I find arguments against this, I will change the method."
   ]
  },
  {
   "cell_type": "code",
   "execution_count": 28,
   "id": "772b137d",
   "metadata": {},
   "outputs": [],
   "source": [
    "df_new = df_new[df_new['debt_to_income_ratio'] <= 100]"
   ]
  },
  {
   "cell_type": "code",
   "execution_count": 29,
   "id": "7378c2e9",
   "metadata": {},
   "outputs": [],
   "source": [
    "df_new.reset_index(drop=False, inplace=True)\n",
    "df_new = df_new.drop('index', axis=1)"
   ]
  },
  {
   "cell_type": "markdown",
   "id": "ab4c5a8b",
   "metadata": {},
   "source": [
    "### Handling Categorical Variables"
   ]
  },
  {
   "cell_type": "code",
   "execution_count": 30,
   "id": "01e5ded9",
   "metadata": {},
   "outputs": [
    {
     "name": "stdout",
     "output_type": "stream",
     "text": [
      "<class 'pandas.core.frame.DataFrame'>\n",
      "RangeIndex: 196963 entries, 0 to 196962\n",
      "Data columns (total 9 columns):\n",
      " #   Column                Non-Null Count   Dtype  \n",
      "---  ------                --------------   -----  \n",
      " 0   amount_requested      196963 non-null  float64\n",
      " 1   reason_for_loan       196963 non-null  object \n",
      " 2   debt_to_income_ratio  196963 non-null  float64\n",
      " 3   zip_code              196963 non-null  object \n",
      " 4   state                 196963 non-null  object \n",
      " 5   emp_length            196963 non-null  int64  \n",
      " 6   policy_code           196963 non-null  int64  \n",
      " 7   applicant_result      196963 non-null  int64  \n",
      " 8   reduced_reason        196963 non-null  object \n",
      "dtypes: float64(2), int64(3), object(4)\n",
      "memory usage: 13.5+ MB\n"
     ]
    }
   ],
   "source": [
    "df_new.info()"
   ]
  },
  {
   "cell_type": "code",
   "execution_count": 31,
   "id": "897f82ae",
   "metadata": {},
   "outputs": [
    {
     "data": {
      "text/html": [
       "<div>\n",
       "<style scoped>\n",
       "    .dataframe tbody tr th:only-of-type {\n",
       "        vertical-align: middle;\n",
       "    }\n",
       "\n",
       "    .dataframe tbody tr th {\n",
       "        vertical-align: top;\n",
       "    }\n",
       "\n",
       "    .dataframe thead th {\n",
       "        text-align: right;\n",
       "    }\n",
       "</style>\n",
       "<table border=\"1\" class=\"dataframe\">\n",
       "  <thead>\n",
       "    <tr style=\"text-align: right;\">\n",
       "      <th></th>\n",
       "      <th>amount_requested</th>\n",
       "      <th>reason_for_loan</th>\n",
       "      <th>debt_to_income_ratio</th>\n",
       "      <th>zip_code</th>\n",
       "      <th>state</th>\n",
       "      <th>emp_length</th>\n",
       "      <th>policy_code</th>\n",
       "      <th>applicant_result</th>\n",
       "      <th>reduced_reason</th>\n",
       "    </tr>\n",
       "  </thead>\n",
       "  <tbody>\n",
       "    <tr>\n",
       "      <th>0</th>\n",
       "      <td>9600.0</td>\n",
       "      <td>credit card refinancing</td>\n",
       "      <td>24.45</td>\n",
       "      <td>816xx</td>\n",
       "      <td>CO</td>\n",
       "      <td>4</td>\n",
       "      <td>1</td>\n",
       "      <td>1</td>\n",
       "      <td>Car</td>\n",
       "    </tr>\n",
       "    <tr>\n",
       "      <th>1</th>\n",
       "      <td>6000.0</td>\n",
       "      <td>home improvement</td>\n",
       "      <td>14.34</td>\n",
       "      <td>210xx</td>\n",
       "      <td>MD</td>\n",
       "      <td>10</td>\n",
       "      <td>1</td>\n",
       "      <td>1</td>\n",
       "      <td>Home</td>\n",
       "    </tr>\n",
       "    <tr>\n",
       "      <th>2</th>\n",
       "      <td>10000.0</td>\n",
       "      <td>debt consolidation</td>\n",
       "      <td>25.35</td>\n",
       "      <td>890xx</td>\n",
       "      <td>NV</td>\n",
       "      <td>7</td>\n",
       "      <td>1</td>\n",
       "      <td>1</td>\n",
       "      <td>Debt/Credit Issues</td>\n",
       "    </tr>\n",
       "    <tr>\n",
       "      <th>3</th>\n",
       "      <td>25000.0</td>\n",
       "      <td>debt consolidation</td>\n",
       "      <td>7.17</td>\n",
       "      <td>640xx</td>\n",
       "      <td>MO</td>\n",
       "      <td>5</td>\n",
       "      <td>1</td>\n",
       "      <td>1</td>\n",
       "      <td>Debt/Credit Issues</td>\n",
       "    </tr>\n",
       "    <tr>\n",
       "      <th>4</th>\n",
       "      <td>2000.0</td>\n",
       "      <td>other</td>\n",
       "      <td>9.30</td>\n",
       "      <td>923xx</td>\n",
       "      <td>CA</td>\n",
       "      <td>4</td>\n",
       "      <td>1</td>\n",
       "      <td>1</td>\n",
       "      <td>Other</td>\n",
       "    </tr>\n",
       "  </tbody>\n",
       "</table>\n",
       "</div>"
      ],
      "text/plain": [
       "   amount_requested          reason_for_loan  debt_to_income_ratio zip_code  \\\n",
       "0            9600.0  credit card refinancing                 24.45    816xx   \n",
       "1            6000.0         home improvement                 14.34    210xx   \n",
       "2           10000.0       debt consolidation                 25.35    890xx   \n",
       "3           25000.0       debt consolidation                  7.17    640xx   \n",
       "4            2000.0                    other                  9.30    923xx   \n",
       "\n",
       "  state  emp_length  policy_code  applicant_result      reduced_reason  \n",
       "0    CO           4            1                 1                 Car  \n",
       "1    MD          10            1                 1                Home  \n",
       "2    NV           7            1                 1  Debt/Credit Issues  \n",
       "3    MO           5            1                 1  Debt/Credit Issues  \n",
       "4    CA           4            1                 1               Other  "
      ]
     },
     "execution_count": 31,
     "metadata": {},
     "output_type": "execute_result"
    }
   ],
   "source": [
    "df_new.head()"
   ]
  },
  {
   "cell_type": "code",
   "execution_count": 32,
   "id": "27a1fb62",
   "metadata": {},
   "outputs": [],
   "source": [
    "cat_df = df_new.drop(['amount_requested', 'debt_to_income_ratio', 'reason_for_loan', 'applicant_result'], axis=1)"
   ]
  },
  {
   "cell_type": "code",
   "execution_count": 33,
   "id": "f404304e",
   "metadata": {},
   "outputs": [],
   "source": [
    "cat_df = pd.get_dummies(cat_df)"
   ]
  },
  {
   "cell_type": "code",
   "execution_count": 34,
   "id": "99959382",
   "metadata": {},
   "outputs": [
    {
     "data": {
      "text/plain": [
       "(196963, 969)"
      ]
     },
     "execution_count": 34,
     "metadata": {},
     "output_type": "execute_result"
    }
   ],
   "source": [
    "cat_df.shape"
   ]
  },
  {
   "cell_type": "code",
   "execution_count": 35,
   "id": "2ca8c60c",
   "metadata": {},
   "outputs": [
    {
     "data": {
      "text/html": [
       "<div>\n",
       "<style scoped>\n",
       "    .dataframe tbody tr th:only-of-type {\n",
       "        vertical-align: middle;\n",
       "    }\n",
       "\n",
       "    .dataframe tbody tr th {\n",
       "        vertical-align: top;\n",
       "    }\n",
       "\n",
       "    .dataframe thead th {\n",
       "        text-align: right;\n",
       "    }\n",
       "</style>\n",
       "<table border=\"1\" class=\"dataframe\">\n",
       "  <thead>\n",
       "    <tr style=\"text-align: right;\">\n",
       "      <th></th>\n",
       "      <th>emp_length</th>\n",
       "      <th>policy_code</th>\n",
       "      <th>zip_code_000xx</th>\n",
       "      <th>zip_code_002xx</th>\n",
       "      <th>zip_code_006xx</th>\n",
       "      <th>zip_code_007xx</th>\n",
       "      <th>zip_code_008xx</th>\n",
       "      <th>zip_code_009xx</th>\n",
       "      <th>zip_code_010xx</th>\n",
       "      <th>zip_code_011xx</th>\n",
       "      <th>...</th>\n",
       "      <th>reduced_reason_Car</th>\n",
       "      <th>reduced_reason_Debt/Credit Issues</th>\n",
       "      <th>reduced_reason_Home</th>\n",
       "      <th>reduced_reason_Major Purchase</th>\n",
       "      <th>reduced_reason_Medical</th>\n",
       "      <th>reduced_reason_Moving</th>\n",
       "      <th>reduced_reason_Other</th>\n",
       "      <th>reduced_reason_Student</th>\n",
       "      <th>reduced_reason_Vacation</th>\n",
       "      <th>reduced_reason_Wedding</th>\n",
       "    </tr>\n",
       "  </thead>\n",
       "  <tbody>\n",
       "    <tr>\n",
       "      <th>0</th>\n",
       "      <td>4</td>\n",
       "      <td>1</td>\n",
       "      <td>0</td>\n",
       "      <td>0</td>\n",
       "      <td>0</td>\n",
       "      <td>0</td>\n",
       "      <td>0</td>\n",
       "      <td>0</td>\n",
       "      <td>0</td>\n",
       "      <td>0</td>\n",
       "      <td>...</td>\n",
       "      <td>1</td>\n",
       "      <td>0</td>\n",
       "      <td>0</td>\n",
       "      <td>0</td>\n",
       "      <td>0</td>\n",
       "      <td>0</td>\n",
       "      <td>0</td>\n",
       "      <td>0</td>\n",
       "      <td>0</td>\n",
       "      <td>0</td>\n",
       "    </tr>\n",
       "    <tr>\n",
       "      <th>1</th>\n",
       "      <td>10</td>\n",
       "      <td>1</td>\n",
       "      <td>0</td>\n",
       "      <td>0</td>\n",
       "      <td>0</td>\n",
       "      <td>0</td>\n",
       "      <td>0</td>\n",
       "      <td>0</td>\n",
       "      <td>0</td>\n",
       "      <td>0</td>\n",
       "      <td>...</td>\n",
       "      <td>0</td>\n",
       "      <td>0</td>\n",
       "      <td>1</td>\n",
       "      <td>0</td>\n",
       "      <td>0</td>\n",
       "      <td>0</td>\n",
       "      <td>0</td>\n",
       "      <td>0</td>\n",
       "      <td>0</td>\n",
       "      <td>0</td>\n",
       "    </tr>\n",
       "    <tr>\n",
       "      <th>2</th>\n",
       "      <td>7</td>\n",
       "      <td>1</td>\n",
       "      <td>0</td>\n",
       "      <td>0</td>\n",
       "      <td>0</td>\n",
       "      <td>0</td>\n",
       "      <td>0</td>\n",
       "      <td>0</td>\n",
       "      <td>0</td>\n",
       "      <td>0</td>\n",
       "      <td>...</td>\n",
       "      <td>0</td>\n",
       "      <td>1</td>\n",
       "      <td>0</td>\n",
       "      <td>0</td>\n",
       "      <td>0</td>\n",
       "      <td>0</td>\n",
       "      <td>0</td>\n",
       "      <td>0</td>\n",
       "      <td>0</td>\n",
       "      <td>0</td>\n",
       "    </tr>\n",
       "    <tr>\n",
       "      <th>3</th>\n",
       "      <td>5</td>\n",
       "      <td>1</td>\n",
       "      <td>0</td>\n",
       "      <td>0</td>\n",
       "      <td>0</td>\n",
       "      <td>0</td>\n",
       "      <td>0</td>\n",
       "      <td>0</td>\n",
       "      <td>0</td>\n",
       "      <td>0</td>\n",
       "      <td>...</td>\n",
       "      <td>0</td>\n",
       "      <td>1</td>\n",
       "      <td>0</td>\n",
       "      <td>0</td>\n",
       "      <td>0</td>\n",
       "      <td>0</td>\n",
       "      <td>0</td>\n",
       "      <td>0</td>\n",
       "      <td>0</td>\n",
       "      <td>0</td>\n",
       "    </tr>\n",
       "    <tr>\n",
       "      <th>4</th>\n",
       "      <td>4</td>\n",
       "      <td>1</td>\n",
       "      <td>0</td>\n",
       "      <td>0</td>\n",
       "      <td>0</td>\n",
       "      <td>0</td>\n",
       "      <td>0</td>\n",
       "      <td>0</td>\n",
       "      <td>0</td>\n",
       "      <td>0</td>\n",
       "      <td>...</td>\n",
       "      <td>0</td>\n",
       "      <td>0</td>\n",
       "      <td>0</td>\n",
       "      <td>0</td>\n",
       "      <td>0</td>\n",
       "      <td>0</td>\n",
       "      <td>1</td>\n",
       "      <td>0</td>\n",
       "      <td>0</td>\n",
       "      <td>0</td>\n",
       "    </tr>\n",
       "  </tbody>\n",
       "</table>\n",
       "<p>5 rows × 969 columns</p>\n",
       "</div>"
      ],
      "text/plain": [
       "   emp_length  policy_code  zip_code_000xx  zip_code_002xx  zip_code_006xx  \\\n",
       "0           4            1               0               0               0   \n",
       "1          10            1               0               0               0   \n",
       "2           7            1               0               0               0   \n",
       "3           5            1               0               0               0   \n",
       "4           4            1               0               0               0   \n",
       "\n",
       "   zip_code_007xx  zip_code_008xx  zip_code_009xx  zip_code_010xx  \\\n",
       "0               0               0               0               0   \n",
       "1               0               0               0               0   \n",
       "2               0               0               0               0   \n",
       "3               0               0               0               0   \n",
       "4               0               0               0               0   \n",
       "\n",
       "   zip_code_011xx  ...  reduced_reason_Car  reduced_reason_Debt/Credit Issues  \\\n",
       "0               0  ...                   1                                  0   \n",
       "1               0  ...                   0                                  0   \n",
       "2               0  ...                   0                                  1   \n",
       "3               0  ...                   0                                  1   \n",
       "4               0  ...                   0                                  0   \n",
       "\n",
       "   reduced_reason_Home  reduced_reason_Major Purchase  reduced_reason_Medical  \\\n",
       "0                    0                              0                       0   \n",
       "1                    1                              0                       0   \n",
       "2                    0                              0                       0   \n",
       "3                    0                              0                       0   \n",
       "4                    0                              0                       0   \n",
       "\n",
       "   reduced_reason_Moving  reduced_reason_Other  reduced_reason_Student  \\\n",
       "0                      0                     0                       0   \n",
       "1                      0                     0                       0   \n",
       "2                      0                     0                       0   \n",
       "3                      0                     0                       0   \n",
       "4                      0                     1                       0   \n",
       "\n",
       "   reduced_reason_Vacation  reduced_reason_Wedding  \n",
       "0                        0                       0  \n",
       "1                        0                       0  \n",
       "2                        0                       0  \n",
       "3                        0                       0  \n",
       "4                        0                       0  \n",
       "\n",
       "[5 rows x 969 columns]"
      ]
     },
     "execution_count": 35,
     "metadata": {},
     "output_type": "execute_result"
    }
   ],
   "source": [
    "cat_df.head()"
   ]
  },
  {
   "cell_type": "markdown",
   "id": "f26ec925",
   "metadata": {},
   "source": [
    "### Handling Numeric Variables"
   ]
  },
  {
   "cell_type": "code",
   "execution_count": 36,
   "id": "1a8aa339",
   "metadata": {},
   "outputs": [],
   "source": [
    "num_df = df_new[['amount_requested', 'debt_to_income_ratio']]"
   ]
  },
  {
   "cell_type": "code",
   "execution_count": 37,
   "id": "6e09c075",
   "metadata": {},
   "outputs": [],
   "source": [
    "std_num_df = preprocessing.scale(num_df, axis=0)"
   ]
  },
  {
   "cell_type": "code",
   "execution_count": 38,
   "id": "a684a100",
   "metadata": {},
   "outputs": [
    {
     "data": {
      "text/html": [
       "<div>\n",
       "<style scoped>\n",
       "    .dataframe tbody tr th:only-of-type {\n",
       "        vertical-align: middle;\n",
       "    }\n",
       "\n",
       "    .dataframe tbody tr th {\n",
       "        vertical-align: top;\n",
       "    }\n",
       "\n",
       "    .dataframe thead th {\n",
       "        text-align: right;\n",
       "    }\n",
       "</style>\n",
       "<table border=\"1\" class=\"dataframe\">\n",
       "  <thead>\n",
       "    <tr style=\"text-align: right;\">\n",
       "      <th></th>\n",
       "      <th>amount_requested</th>\n",
       "      <th>debt_to_income_ratio</th>\n",
       "    </tr>\n",
       "  </thead>\n",
       "  <tbody>\n",
       "    <tr>\n",
       "      <th>count</th>\n",
       "      <td>1.969630e+05</td>\n",
       "      <td>1.969630e+05</td>\n",
       "    </tr>\n",
       "    <tr>\n",
       "      <th>mean</th>\n",
       "      <td>-7.407462e-15</td>\n",
       "      <td>2.414309e-15</td>\n",
       "    </tr>\n",
       "    <tr>\n",
       "      <th>std</th>\n",
       "      <td>1.000003e+00</td>\n",
       "      <td>1.000003e+00</td>\n",
       "    </tr>\n",
       "    <tr>\n",
       "      <th>min</th>\n",
       "      <td>-1.092136e+00</td>\n",
       "      <td>-1.215644e+00</td>\n",
       "    </tr>\n",
       "    <tr>\n",
       "      <th>25%</th>\n",
       "      <td>-6.678269e-01</td>\n",
       "      <td>-6.067189e-01</td>\n",
       "    </tr>\n",
       "    <tr>\n",
       "      <th>50%</th>\n",
       "      <td>-2.752418e-01</td>\n",
       "      <td>-1.924590e-01</td>\n",
       "    </tr>\n",
       "    <tr>\n",
       "      <th>75%</th>\n",
       "      <td>4.544113e-01</td>\n",
       "      <td>3.077294e-01</td>\n",
       "    </tr>\n",
       "    <tr>\n",
       "      <th>max</th>\n",
       "      <td>2.266125e+01</td>\n",
       "      <td>4.141623e+00</td>\n",
       "    </tr>\n",
       "  </tbody>\n",
       "</table>\n",
       "</div>"
      ],
      "text/plain": [
       "       amount_requested  debt_to_income_ratio\n",
       "count      1.969630e+05          1.969630e+05\n",
       "mean      -7.407462e-15          2.414309e-15\n",
       "std        1.000003e+00          1.000003e+00\n",
       "min       -1.092136e+00         -1.215644e+00\n",
       "25%       -6.678269e-01         -6.067189e-01\n",
       "50%       -2.752418e-01         -1.924590e-01\n",
       "75%        4.544113e-01          3.077294e-01\n",
       "max        2.266125e+01          4.141623e+00"
      ]
     },
     "execution_count": 38,
     "metadata": {},
     "output_type": "execute_result"
    }
   ],
   "source": [
    "std_num_df = pd.DataFrame(std_num_df, columns = num_df.columns, index = num_df.index)\n",
    "std_num_df.describe()"
   ]
  },
  {
   "cell_type": "markdown",
   "id": "3898034a",
   "metadata": {},
   "source": [
    "### Combining and Dealing with Multicollinearity"
   ]
  },
  {
   "cell_type": "code",
   "execution_count": 39,
   "id": "db7c32e7",
   "metadata": {},
   "outputs": [],
   "source": [
    " std_df = pd.concat([cat_df, std_num_df], axis = 1)"
   ]
  },
  {
   "cell_type": "code",
   "execution_count": 40,
   "id": "54e6b390",
   "metadata": {},
   "outputs": [],
   "source": [
    "std_df_vif = std_df[['emp_length', 'policy_code', 'amount_requested', 'debt_to_income_ratio']]"
   ]
  },
  {
   "cell_type": "code",
   "execution_count": 41,
   "id": "d48776ba",
   "metadata": {},
   "outputs": [
    {
     "name": "stdout",
     "output_type": "stream",
     "text": [
      "                feature       VIF\n",
      "0            emp_length  1.773204\n",
      "1           policy_code  1.745956\n",
      "2      amount_requested  1.008505\n",
      "3  debt_to_income_ratio  1.022933\n"
     ]
    }
   ],
   "source": [
    "vif_data = pd.DataFrame()\n",
    "vif_data[\"feature\"] = std_df_vif.columns\n",
    "# calculating VIF for each feature\n",
    "vif_data[\"VIF\"] = [variance_inflation_factor(std_df_vif.values, i) for i in range(len(std_df_vif.columns))]\n",
    "print(vif_data)"
   ]
  },
  {
   "cell_type": "markdown",
   "id": "d53905cc",
   "metadata": {},
   "source": [
    "The entire data frame was not tested for multicollinearity because the method struggles to handle the encoded columns."
   ]
  },
  {
   "cell_type": "markdown",
   "id": "f6b1f48c",
   "metadata": {},
   "source": [
    "### Splitting the Data"
   ]
  },
  {
   "cell_type": "code",
   "execution_count": 42,
   "id": "cd5a45d3",
   "metadata": {},
   "outputs": [],
   "source": [
    "target_std = df_new['applicant_result']\n",
    "predictors_std = std_df"
   ]
  },
  {
   "cell_type": "code",
   "execution_count": 43,
   "id": "437d39a6",
   "metadata": {},
   "outputs": [],
   "source": [
    "pred_std_train, pred_std_test, tar_std_train, tar_std_test = train_test_split(predictors_std, target_std, \n",
    "                                                                              test_size = 0.2, random_state = 42)"
   ]
  },
  {
   "cell_type": "markdown",
   "id": "a499d7dc",
   "metadata": {},
   "source": [
    "### Model Metrics"
   ]
  },
  {
   "cell_type": "code",
   "execution_count": 44,
   "id": "6c8934db",
   "metadata": {},
   "outputs": [],
   "source": [
    "from sklearn.metrics import (confusion_matrix, classification_report, precision_score, \n",
    "                             recall_score, f1_score, RocCurveDisplay, PrecisionRecallDisplay, \n",
    "                             accuracy_score, confusion_matrix, ConfusionMatrixDisplay)"
   ]
  },
  {
   "cell_type": "markdown",
   "id": "60651e87",
   "metadata": {},
   "source": [
    "### KNN"
   ]
  },
  {
   "cell_type": "code",
   "execution_count": 45,
   "id": "d7925029",
   "metadata": {},
   "outputs": [],
   "source": [
    "from sklearn.model_selection import cross_val_predict, cross_val_score"
   ]
  },
  {
   "cell_type": "code",
   "execution_count": 46,
   "id": "432ed520",
   "metadata": {},
   "outputs": [],
   "source": [
    "knn_new = knn(n_neighbors=m.ceil((len(pred_std_train))**(1/2)))\n",
    "algorithm_knn = knn_new.fit(pred_std_train, tar_std_train)"
   ]
  },
  {
   "cell_type": "code",
   "execution_count": 47,
   "id": "2729efd3",
   "metadata": {},
   "outputs": [],
   "source": [
    "algorithm_predict_train = cross_val_predict(algorithm_knn, pred_std_train, tar_std_train, cv=10)"
   ]
  },
  {
   "cell_type": "code",
   "execution_count": 48,
   "id": "ca62ba5b",
   "metadata": {},
   "outputs": [
    {
     "name": "stdout",
     "output_type": "stream",
     "text": [
      "              precision    recall  f1-score   support\n",
      "\n",
      "           0       0.87      0.91      0.89     77595\n",
      "           1       0.91      0.87      0.89     79975\n",
      "\n",
      "    accuracy                           0.89    157570\n",
      "   macro avg       0.89      0.89      0.89    157570\n",
      "weighted avg       0.89      0.89      0.89    157570\n",
      "\n"
     ]
    }
   ],
   "source": [
    "print(classification_report(tar_std_train, algorithm_predict_train))"
   ]
  },
  {
   "cell_type": "code",
   "execution_count": 49,
   "id": "2d50a79e",
   "metadata": {},
   "outputs": [],
   "source": [
    "algorithm_predict_test = algorithm_knn.predict(pred_std_test)"
   ]
  },
  {
   "cell_type": "code",
   "execution_count": 50,
   "id": "ec38d2fd",
   "metadata": {},
   "outputs": [
    {
     "name": "stdout",
     "output_type": "stream",
     "text": [
      "              precision    recall  f1-score   support\n",
      "\n",
      "           0       0.88      0.91      0.90     19434\n",
      "           1       0.91      0.88      0.89     19959\n",
      "\n",
      "    accuracy                           0.89     39393\n",
      "   macro avg       0.89      0.89      0.89     39393\n",
      "weighted avg       0.90      0.89      0.89     39393\n",
      "\n"
     ]
    }
   ],
   "source": [
    "print(classification_report(tar_std_test, algorithm_predict_test))"
   ]
  },
  {
   "cell_type": "markdown",
   "id": "a7277477",
   "metadata": {},
   "source": [
    "### Logistic Regression"
   ]
  },
  {
   "cell_type": "code",
   "execution_count": 51,
   "id": "22513f18",
   "metadata": {},
   "outputs": [
    {
     "name": "stderr",
     "output_type": "stream",
     "text": [
      "C:\\Users\\orteg\\anaconda3\\lib\\site-packages\\sklearn\\linear_model\\_logistic.py:444: ConvergenceWarning: lbfgs failed to converge (status=1):\n",
      "STOP: TOTAL NO. of ITERATIONS REACHED LIMIT.\n",
      "\n",
      "Increase the number of iterations (max_iter) or scale the data as shown in:\n",
      "    https://scikit-learn.org/stable/modules/preprocessing.html\n",
      "Please also refer to the documentation for alternative solver options:\n",
      "    https://scikit-learn.org/stable/modules/linear_model.html#logistic-regression\n",
      "  n_iter_i = _check_optimize_result(\n"
     ]
    }
   ],
   "source": [
    "clf = LogisticRegression(random_state=42).fit(pred_std_train, tar_std_train)"
   ]
  },
  {
   "cell_type": "code",
   "execution_count": 52,
   "id": "275979b6",
   "metadata": {},
   "outputs": [],
   "source": [
    "y_pred_lr = clf.predict(pred_std_test)"
   ]
  },
  {
   "cell_type": "code",
   "execution_count": 53,
   "id": "5459d612",
   "metadata": {},
   "outputs": [
    {
     "name": "stdout",
     "output_type": "stream",
     "text": [
      "              precision    recall  f1-score   support\n",
      "\n",
      "           0       0.80      0.88      0.84     19434\n",
      "           1       0.87      0.78      0.82     19959\n",
      "\n",
      "    accuracy                           0.83     39393\n",
      "   macro avg       0.84      0.83      0.83     39393\n",
      "weighted avg       0.84      0.83      0.83     39393\n",
      "\n"
     ]
    }
   ],
   "source": [
    "print(classification_report(tar_std_test, y_pred_lr))"
   ]
  },
  {
   "cell_type": "code",
   "execution_count": 54,
   "id": "12772037",
   "metadata": {},
   "outputs": [],
   "source": [
    "cm_lr = confusion_matrix(tar_std_test, y_pred_lr)\n",
    "disp_lr = ConfusionMatrixDisplay(confusion_matrix=cm_lr)"
   ]
  },
  {
   "cell_type": "code",
   "execution_count": 55,
   "id": "cac6f41e",
   "metadata": {},
   "outputs": [
    {
     "data": {
      "image/png": "[encoded data removed]",
      "text/plain": [
       "<Figure size 640x480 with 2 Axes>"
      ]
     },
     "metadata": {},
     "output_type": "display_data"
    }
   ],
   "source": [
    "disp_lr.plot()\n",
    "plt.show()"
   ]
  },
  {
   "cell_type": "markdown",
   "id": "23b7aa7f",
   "metadata": {},
   "source": [
    "### Decision Tree"
   ]
  },
  {
   "cell_type": "code",
   "execution_count": 56,
   "id": "89b90d4d",
   "metadata": {},
   "outputs": [],
   "source": [
    "tree_clf = DecisionTreeClassifier(random_state=42)\n",
    "algorithm_tree = tree_clf.fit(pred_std_train, tar_std_train)"
   ]
  },
  {
   "cell_type": "code",
   "execution_count": 57,
   "id": "d48157fa",
   "metadata": {},
   "outputs": [],
   "source": [
    "y_pred = algorithm_tree.predict(pred_std_test)"
   ]
  },
  {
   "cell_type": "code",
   "execution_count": 58,
   "id": "40388fd3",
   "metadata": {},
   "outputs": [
    {
     "name": "stdout",
     "output_type": "stream",
     "text": [
      "[[17231  2203]\n",
      " [ 2296 17663]]\n",
      "              precision    recall  f1-score   support\n",
      "\n",
      "           0       0.88      0.89      0.88     19434\n",
      "           1       0.89      0.88      0.89     19959\n",
      "\n",
      "    accuracy                           0.89     39393\n",
      "   macro avg       0.89      0.89      0.89     39393\n",
      "weighted avg       0.89      0.89      0.89     39393\n",
      "\n"
     ]
    }
   ],
   "source": [
    "from sklearn.metrics import classification_report, confusion_matrix\n",
    "print(confusion_matrix(tar_std_test, y_pred))\n",
    "print(classification_report(tar_std_test, y_pred))"
   ]
  },
  {
   "cell_type": "code",
   "execution_count": 59,
   "id": "e5e22510",
   "metadata": {},
   "outputs": [],
   "source": [
    "cm_dt = confusion_matrix(tar_std_test, y_pred)\n",
    "disp_dt = ConfusionMatrixDisplay(confusion_matrix=cm_dt)"
   ]
  },
  {
   "cell_type": "code",
   "execution_count": 60,
   "id": "d37e0ce5",
   "metadata": {},
   "outputs": [
    {
     "data": {
      "image/png": "[encoded data removed]",
      "text/plain": [
       "<Figure size 640x480 with 2 Axes>"
      ]
     },
     "metadata": {},
     "output_type": "display_data"
    }
   ],
   "source": [
    "disp_dt.plot()\n",
    "plt.show()"
   ]
  },
  {
   "cell_type": "code",
   "execution_count": 61,
   "id": "0b13f917",
   "metadata": {},
   "outputs": [
    {
     "name": "stderr",
     "output_type": "stream",
     "text": [
      "C:\\Users\\orteg\\anaconda3\\lib\\site-packages\\sklearn\\linear_model\\_logistic.py:444: ConvergenceWarning: lbfgs failed to converge (status=1):\n",
      "STOP: TOTAL NO. of ITERATIONS REACHED LIMIT.\n",
      "\n",
      "Increase the number of iterations (max_iter) or scale the data as shown in:\n",
      "    https://scikit-learn.org/stable/modules/preprocessing.html\n",
      "Please also refer to the documentation for alternative solver options:\n",
      "    https://scikit-learn.org/stable/modules/linear_model.html#logistic-regression\n",
      "  n_iter_i = _check_optimize_result(\n"
     ]
    }
   ],
   "source": [
    "voting_clf_best_of_all = VotingClassifier(estimators=[('knn', algorithm_knn), ('lr', clf), ('dt', algorithm_tree)], \n",
    "                                          voting='soft')\n",
    "algorithm_ens = voting_clf_best_of_all.fit(pred_std_train, tar_std_train)\n",
    "ensemble_hard = algorithm_ens.predict(pred_std_test)"
   ]
  },
  {
   "cell_type": "code",
   "execution_count": 62,
   "id": "bb8f2673",
   "metadata": {},
   "outputs": [],
   "source": [
    "labels = ['True Neg','False Pos','False Neg','True Pos']\n",
    "categories = ['Rejected', 'Accepted']"
   ]
  },
  {
   "cell_type": "code",
   "execution_count": 63,
   "id": "7e5fa699",
   "metadata": {},
   "outputs": [],
   "source": [
    "cm_ens = confusion_matrix(tar_std_test, ensemble_hard)\n",
    "group_counts = ['{0:0.0f}'.format(value) for value in\n",
    "                cm_ens.flatten()]\n",
    "labels = [f'{v1}\\n{v2}' for v1, v2 in\n",
    "          zip(labels,group_counts)]\n",
    "labels = np.asarray(labels).reshape(2,2)\n",
    "disp_ens = ConfusionMatrixDisplay(confusion_matrix=cm_ens)"
   ]
  },
  {
   "cell_type": "code",
   "execution_count": 64,
   "id": "9aa05792",
   "metadata": {},
   "outputs": [
    {
     "data": {
      "image/png": "[encoded data removed]",
      "text/plain": [
       "<Figure size 800x600 with 2 Axes>"
      ]
     },
     "metadata": {},
     "output_type": "display_data"
    }
   ],
   "source": [
    "plt.figure(figsize=(8,6), dpi=100)\n",
    "# Scale up the size of all text\n",
    "sns.set(font_scale = 1.1)\n",
    "\n",
    "ax = sns.heatmap(cm_ens, annot=labels, fmt='', cmap='Oranges')\n",
    "# set x-axis label and ticks. \n",
    "ax.set_xlabel(\"Predicted\", fontsize=14, labelpad=20)\n",
    "ax.xaxis.set_ticklabels(['Rejected', 'Accepted'])\n",
    "\n",
    "# set y-axis label and ticks\n",
    "ax.set_ylabel(\"Actual\", fontsize=14, labelpad=20)\n",
    "ax.yaxis.set_ticklabels(['Rejected', 'Accepted'])\n",
    "\n",
    "ax.set_title(\"Confusion Matrix for Loan Applications\", fontsize=20, pad=20)\n",
    "\n",
    "plt.show()"
   ]
  },
  {
   "cell_type": "code",
   "execution_count": 65,
   "id": "7dd180ad",
   "metadata": {},
   "outputs": [
    {
     "name": "stdout",
     "output_type": "stream",
     "text": [
      "              precision    recall  f1-score   support\n",
      "\n",
      "           0       0.90      0.91      0.91     19434\n",
      "           1       0.91      0.90      0.91     19959\n",
      "\n",
      "    accuracy                           0.91     39393\n",
      "   macro avg       0.91      0.91      0.91     39393\n",
      "weighted avg       0.91      0.91      0.91     39393\n",
      "\n"
     ]
    }
   ],
   "source": [
    "print(classification_report(tar_std_test, ensemble_hard))"
   ]
  },
  {
   "cell_type": "code",
   "execution_count": 69,
   "id": "f3f7eda7",
   "metadata": {},
   "outputs": [
    {
     "data": {
      "image/png": "[encoded data removed]",
      "text/plain": [
       "<Figure size 640x480 with 1 Axes>"
      ]
     },
     "metadata": {},
     "output_type": "display_data"
    }
   ],
   "source": [
    "plt.barh(pred_std_train.columns[0:10], tree_clf.feature_importances_[0:10])\n",
    "plt.show()"
   ]
  },
  {
   "cell_type": "code",
   "execution_count": null,
   "id": "1e4a0192",
   "metadata": {},
   "outputs": [],
   "source": [
    "tree_clf.feature_importances_"
   ]
  },
  {
   "cell_type": "code",
   "execution_count": 74,
   "id": "b910e337",
   "metadata": {},
   "outputs": [
    {
     "name": "stdout",
     "output_type": "stream",
     "text": [
      "[0.00133185 0.00163999 0.00186625 0.00280039 0.00322018 0.00340755\n",
      " 0.00433267 0.00535214 0.06100418 0.12859137 0.65208784]\n"
     ]
    }
   ],
   "source": [
    "dd = tree_clf.feature_importances_\n",
    "dd.sort()\n",
    "\n",
    "print(dd[960:])"
   ]
  },
  {
   "cell_type": "code",
   "execution_count": 77,
   "id": "bff06088",
   "metadata": {},
   "outputs": [],
   "source": [
    "thing = []\n",
    "name = []\n",
    "for index, column in enumerate(pred_std_train.columns):\n",
    "    if column.find(\"zip\") == -1:\n",
    "        thing.append(tree_clf.feature_importances_[index])\n",
    "        name.append(column)\n",
    "    else:\n",
    "        continue\n",
    "    "
   ]
  },
  {
   "cell_type": "code",
   "execution_count": 85,
   "id": "6896768d",
   "metadata": {},
   "outputs": [],
   "source": [
    "imp = pd.DataFrame(thing,columns=['Percent of Importance'])\n",
    "var = pd.DataFrame(name,columns=['Variable'])"
   ]
  },
  {
   "cell_type": "code",
   "execution_count": 86,
   "id": "d8daff65",
   "metadata": {},
   "outputs": [],
   "source": [
    "importance = pd.concat([imp,var], axis=1)"
   ]
  },
  {
   "cell_type": "code",
   "execution_count": 90,
   "id": "40985491",
   "metadata": {},
   "outputs": [],
   "source": [
    "final_imp = importance.sort_values(by='Percent of Importance', ascending=False).head(3)"
   ]
  },
  {
   "cell_type": "code",
   "execution_count": 93,
   "id": "5dee0e5e",
   "metadata": {},
   "outputs": [],
   "source": [
    "final_imp.reset_index(inplace=True,drop=True)"
   ]
  },
  {
   "cell_type": "code",
   "execution_count": 95,
   "id": "90ea2b96",
   "metadata": {},
   "outputs": [
    {
     "data": {
      "text/html": [
       "<div>\n",
       "<style scoped>\n",
       "    .dataframe tbody tr th:only-of-type {\n",
       "        vertical-align: middle;\n",
       "    }\n",
       "\n",
       "    .dataframe tbody tr th {\n",
       "        vertical-align: top;\n",
       "    }\n",
       "\n",
       "    .dataframe thead th {\n",
       "        text-align: right;\n",
       "    }\n",
       "</style>\n",
       "<table border=\"1\" class=\"dataframe\">\n",
       "  <thead>\n",
       "    <tr style=\"text-align: right;\">\n",
       "      <th></th>\n",
       "      <th>Percent of Importance</th>\n",
       "      <th>Variable</th>\n",
       "    </tr>\n",
       "  </thead>\n",
       "  <tbody>\n",
       "    <tr>\n",
       "      <th>0</th>\n",
       "      <td>0.652088</td>\n",
       "      <td>emp_length</td>\n",
       "    </tr>\n",
       "    <tr>\n",
       "      <th>1</th>\n",
       "      <td>0.128591</td>\n",
       "      <td>debt_to_income_ratio</td>\n",
       "    </tr>\n",
       "    <tr>\n",
       "      <th>2</th>\n",
       "      <td>0.061004</td>\n",
       "      <td>amount_requested</td>\n",
       "    </tr>\n",
       "  </tbody>\n",
       "</table>\n",
       "</div>"
      ],
      "text/plain": [
       "   Percent of Importance              Variable\n",
       "0               0.652088            emp_length\n",
       "1               0.128591  debt_to_income_ratio\n",
       "2               0.061004      amount_requested"
      ]
     },
     "execution_count": 95,
     "metadata": {},
     "output_type": "execute_result"
    }
   ],
   "source": [
    "final_imp"
   ]
  },
  {
   "cell_type": "code",
   "execution_count": 102,
   "id": "b8023dd8",
   "metadata": {},
   "outputs": [
    {
     "data": {
      "image/png": "[encoded data removed]",
      "text/plain": [
       "<Figure size 640x480 with 1 Axes>"
      ]
     },
     "metadata": {},
     "output_type": "display_data"
    }
   ],
   "source": [
    "plt.barh(final_imp.Variable, final_imp['Percent of Importance'])\n",
    "plt.title(\"Top 3 Most Important Features\")\n",
    "plt.xlabel(\"Percent of Importance\")\n",
    "plt.show()"
   ]
  },
  {
   "cell_type": "code",
   "execution_count": null,
   "id": "9bc8958d",
   "metadata": {},
   "outputs": [],
   "source": []
  }
 ],
 "metadata": {
  "kernelspec": {
   "display_name": "Python 3 (ipykernel)",
   "language": "python",
   "name": "python3"
  },
  "language_info": {
   "codemirror_mode": {
    "name": "ipython",
    "version": 3
   },
   "file_extension": ".py",
   "mimetype": "text/x-python",
   "name": "python",
   "nbconvert_exporter": "python",
   "pygments_lexer": "ipython3",
   "version": "3.9.7"
  }
 },
 "nbformat": 4,
 "nbformat_minor": 5
}
